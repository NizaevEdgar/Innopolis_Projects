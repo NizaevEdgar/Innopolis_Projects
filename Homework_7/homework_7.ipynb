{
 "cells": [
  {
   "cell_type": "markdown",
   "metadata": {
    "id": "qSKuo0VPXgzO"
   },
   "source": [
    "# Задача №1 Удвоение чисел и получение первого результата\n",
    "\n",
    "Напишите многопоточный код для обработки чисел из нескольких списков. Каждое число в списке должно быть умножено на 2, с имитацией задержки 0.2 сек на каждой операции. Используйте ThreadPoolExecutor и as_completed для управления потоками и отслеживания результатов."
   ]
  },
  {
   "cell_type": "code",
   "execution_count": 2,
   "metadata": {
    "colab": {
     "base_uri": "https://localhost:8080/"
    },
    "executionInfo": {
     "elapsed": 246,
     "status": "ok",
     "timestamp": 1734602900148,
     "user": {
      "displayName": "Эдгар Низаев",
      "userId": "15628445951160379931"
     },
     "user_tz": -240
    },
    "id": "jkkeztYXXgzQ",
    "outputId": "87b83b5e-adce-4b51-ce36-781197984aee"
   },
   "outputs": [
    {
     "name": "stdout",
     "output_type": "stream",
     "text": [
      "[\n",
      "    [175, 790, 103, 479, 433, 406, 510, 377, 184, 777, 990, 321],\n",
      "    [466, 538, 210, 881, 873, 411, 856, 965, 537, 243, 749, 229, 545,\n",
      "     312, 651, 342, 328, 152, 473, 479, 257, 899, 362, 584, 888],\n",
      "    [393, 488, 955, 771, 536, 922, 182, 564, 581, 998, 556, 813, 482, 940, 947, 267, 721, 944, 820, 993],\n",
      "    [691, 532, 354, 831, 241, 724, 547, 580, 191, 742, 263, 149, 661, 804, 819, 246, 519, 698],\n",
      "    [373, 235, 860, 591, 592, 227, 455, 113, 426, 181, 741, 723, 998, 667, 827],\n",
      "    [924, 880, 704, 133, 538, 795, 364, 687, 775, 925, 445, 659, 883, 620, 391, \n",
      "     836, 779, 617, 528, 914, 424],\n",
      "    [324, 643, 171, 208, 330, 306, 559, 927, 871, 284, 438, 644, 447, 893, 287],\n",
      "    [993, 788, 192, 169, 549, 162, 324, 213, 277, 376, 391, 243, 749, 229, 545, 516, 260, 798],\n",
      "    [497, 971, 765, 137, 543, 498, 583, 649, 558, 488, 882, 907, 589, 151, 724, \n",
      "     689, 134, 492, 124, 114, 147, 734, 524,\n",
      "     658, 441, 908, 192, 240],\n",
      "    [575, 873, 922, 950, 375, 555, 351, 582, 659, 629, 619, 851, 661, 804, 819, \n",
      "     246, 519, 698, 286, 639, 593, 773, 157],\n",
      "]\n"
     ]
    }
   ],
   "source": [
    "# Исходный тестовый список списков чисел\n",
    "\n",
    "with open('test_list_numbers.txt') as f:\n",
    "   list_numbers = f.read()\n",
    "   print(list_numbers)"
   ]
  },
  {
   "cell_type": "code",
   "execution_count": 5,
   "metadata": {
    "executionInfo": {
     "elapsed": 248,
     "status": "ok",
     "timestamp": 1734602905550,
     "user": {
      "displayName": "Эдгар Низаев",
      "userId": "15628445951160379931"
     },
     "user_tz": -240
    },
    "id": "bOhTTsYwXgzR"
   },
   "outputs": [],
   "source": [
    "import time\n",
    "import ast\n",
    "from concurrent.futures import ThreadPoolExecutor, as_completed\n",
    "\n",
    "def process_number(number):\n",
    "  '''\n",
    "  Функция process_number умножает число number на 2,\n",
    "  с имитацией задержки time.sleep=0.2 сек\n",
    "  '''\n",
    "  time.sleep(0.2)\n",
    "  return number * 2\n",
    "\n",
    "def process_data(data, num_workers=10):\n",
    "  '''\n",
    "  Функция process_data принимает список списков data и количество\n",
    "  рабочих потоков num_workers\n",
    "\n",
    "  С помощью функции мы умножаем каждое число во вложенных списках на 2\n",
    "  (используем функцию process_number), находим время обработки каждого\n",
    "  вложенного списка\n",
    "  '''\n",
    "  futures = [[] for _ in range(len(data))]\n",
    "  times=[]\n",
    "\n",
    "  with ThreadPoolExecutor(max_workers=num_workers) as executor:\n",
    "        for i, lst in enumerate(data):\n",
    "            start_time = time.time()\n",
    "            for number in lst:\n",
    "                future = executor.submit(process_number, number)\n",
    "                futures[i].append(future.result())\n",
    "\n",
    "            times.append(time.time() - start_time)\n",
    "\n",
    "\n",
    "  return futures, times\n",
    "\n",
    "if __name__ == \"__main__\":\n",
    "    with open(\"./test_list_numbers.txt\", encoding=\"utf-8\") as file:\n",
    "        list_numbers = \"\".join([line.strip() for line in file.readlines()])\n",
    "        list_numbers = ast.literal_eval(list_numbers)\n"
   ]
  },
  {
   "cell_type": "code",
   "execution_count": 6,
   "metadata": {
    "colab": {
     "base_uri": "https://localhost:8080/"
    },
    "executionInfo": {
     "elapsed": 39367,
     "status": "ok",
     "timestamp": 1734602947558,
     "user": {
      "displayName": "Эдгар Низаев",
      "userId": "15628445951160379931"
     },
     "user_tz": -240
    },
    "id": "SM5EB_tcXgzS",
    "outputId": "94722082-3818-4709-c9bf-c064f3a98433"
   },
   "outputs": [
    {
     "name": "stdout",
     "output_type": "stream",
     "text": [
      "Списки умноженные на 2:\n",
      "[350, 1580, 206, 958, 866, 812, 1020, 754, 368, 1554, 1980, 642]\n",
      "[932, 1076, 420, 1762, 1746, 822, 1712, 1930, 1074, 486, 1498, 458, 1090, 624, 1302, 684, 656, 304, 946, 958, 514, 1798, 724, 1168, 1776]\n",
      "[786, 976, 1910, 1542, 1072, 1844, 364, 1128, 1162, 1996, 1112, 1626, 964, 1880, 1894, 534, 1442, 1888, 1640, 1986]\n",
      "[1382, 1064, 708, 1662, 482, 1448, 1094, 1160, 382, 1484, 526, 298, 1322, 1608, 1638, 492, 1038, 1396]\n",
      "[746, 470, 1720, 1182, 1184, 454, 910, 226, 852, 362, 1482, 1446, 1996, 1334, 1654]\n",
      "[1848, 1760, 1408, 266, 1076, 1590, 728, 1374, 1550, 1850, 890, 1318, 1766, 1240, 782, 1672, 1558, 1234, 1056, 1828, 848]\n",
      "[648, 1286, 342, 416, 660, 612, 1118, 1854, 1742, 568, 876, 1288, 894, 1786, 574]\n",
      "[1986, 1576, 384, 338, 1098, 324, 648, 426, 554, 752, 782, 486, 1498, 458, 1090, 1032, 520, 1596]\n",
      "[994, 1942, 1530, 274, 1086, 996, 1166, 1298, 1116, 976, 1764, 1814, 1178, 302, 1448, 1378, 268, 984, 248, 228, 294, 1468, 1048, 1316, 882, 1816, 384, 480]\n",
      "[1150, 1746, 1844, 1900, 750, 1110, 702, 1164, 1318, 1258, 1238, 1702, 1322, 1608, 1638, 492, 1038, 1396, 572, 1278, 1186, 1546, 314]\n",
      "-------------------------\n",
      "Время выполнения:\n",
      "2.4052393436431885\n",
      "5.010920286178589\n",
      "4.010330677032471\n",
      "3.6096301078796387\n",
      "3.0056939125061035\n",
      "4.2094480991363525\n",
      "3.005751609802246\n",
      "3.6080286502838135\n",
      "5.612799167633057\n",
      "4.61111855506897\n",
      "-------------------------\n",
      "Первый обработанный список: [350, 1580, 206, 958, 866, 812, 1020, 754, 368, 1554, 1980, 642]\n",
      "-------------------------\n",
      "Сумма чисел в первом обработанном списке: 11090\n"
     ]
    }
   ],
   "source": [
    "# Выполняем функцию\n",
    "results = process_data(list_numbers)\n",
    "\n",
    "# Находим список, который обработался быстрее всех и затем найдем сумму всех чисел в данном списке\n",
    "first_list = min(zip(results[1], results[0]), key=lambda x: x[0])[1]\n",
    "\n",
    "print(\"Списки умноженные на 2:\", *results[0], sep='\\n')\n",
    "print('-----' * 5)\n",
    "print(\"Время выполнения:\", *results[1], sep='\\n')\n",
    "print('-----' * 5)\n",
    "print(f\"Первый обработанный список: {first_list}\")\n",
    "print('-----' * 5)\n",
    "print(f\"Сумма чисел в первом обработанном списке: {sum(first_list)}\")"
   ]
  },
  {
   "cell_type": "markdown",
   "metadata": {
    "id": "0eYwYYSPeFuZ"
   },
   "source": [
    "Я не смог использовать функцию *as_completed*, потратил дня 3, но так и не заработало. Поэтому пошел немного обходным путем, но будет здорово, если на вкс покажете, как решается эта задача."
   ]
  },
  {
   "cell_type": "markdown",
   "metadata": {
    "id": "COYRnrmfekDS"
   },
   "source": [
    "# Задача №2 Поиск и суммирование чисел через цепочку файлов\n",
    "\n",
    "Для решения используйте многопроцессность с помощью метода *pool.starmap*. Вам дан архив с 1000 текстовыми файлами, Архив с файлами 1 *(path_8_8.zip)*.\n",
    "\n",
    "Задача заключается в том, чтобы написать код, который обрабатывает каждый из\n",
    "этих файлов в многопроцессном режиме.\n",
    "\n",
    "В каждом файле записан путь к файлу в другом архиве. Архив с файлами 2\n",
    "*(recursive_challenge_8_8.zip)*. Ваш код должен следовать этому пути, чтобы найти конечный файл, содержащий число. Это число необходимо прибавить к глобальному счётчику.\n",
    "\n",
    "Требования к коду:\n",
    "1. Код должен открыть каждый текстовый файл из первого архива, считать путь, указанный внутри.\n",
    "2. Перейти по указанному пути к целевому файлу и извлечь из него число.\n",
    "3. Найденные числа необходимо суммировать."
   ]
  },
  {
   "cell_type": "code",
   "execution_count": null,
   "metadata": {},
   "outputs": [],
   "source": [
    "# Данный код не отрабартывает в файле .ipynb, но отрабатывает в файле .py\n",
    "\n",
    "import zipfile\n",
    "import multiprocessing as mp\n",
    "import time\n",
    "\n",
    "\n",
    "def get_number(file_title, path_1, path_2, counter, lock):\n",
    "    \"\"\"\n",
    "    Функция находит файлы в папках в архиве 1 и архиве 2 и возвращает папку с номером и номер из файлов в этих папках\n",
    "    \"\"\"\n",
    "    with zipfile.ZipFile(path_1, \"r\") as archive_1:\n",
    "        with archive_1.open(file_title) as file:\n",
    "            path_to_number = file.readline().decode(\"utf-8\").strip().replace(\"\\\\\", \"/\")\n",
    "\n",
    "    with zipfile.ZipFile(path_2, \"r\") as archive_2:\n",
    "        with archive_2.open(path_to_number) as file:\n",
    "            number = float(file.readline().decode(\"utf-8\").strip())\n",
    "            \n",
    "    with lock:\n",
    "        counter.value += number\n",
    "\n",
    "    return number\n",
    "\n",
    "\n",
    "def get_sum(path_1, path_2):\n",
    "    \"\"\"\n",
    "    Функция вычисляет сумму чисел, полученных из файлов расположенных в двух zip-архивах \n",
    "    с использованием многопроцессорной обработки\n",
    "    \"\"\"\n",
    "    manager = mp.Manager()\n",
    "    counter = manager.Value(\"f\", 0.0)\n",
    "    lock = manager.Lock()\n",
    "\n",
    "    with zipfile.ZipFile(path_1, \"r\") as archive_1:\n",
    "        files_names = [item for item in archive_1.namelist() if item.endswith(\".txt\")]\n",
    "\n",
    "    with mp.Pool(processes=mp.cpu_count() - 1) as pool:\n",
    "        results = pool.starmap(\n",
    "            get_number,\n",
    "            [\n",
    "                (file_name, path_1, path_2, counter, lock)\n",
    "                for file_name in files_names\n",
    "            ]\n",
    "        )\n",
    "\n",
    "    return sum(results), counter.value\n",
    "\n",
    "if __name__ == \"__main__\":\n",
    "    start_time = time.time()\n",
    "    result = get_sum(\"./path_8_8.zip\", \n",
    "                     \"./recursive_challenge_8_8.zip\")\n",
    "\n",
    "    print(f\"Сумма значений всех чисел во всех файлах: {result[0]}\")\n",
    "    print(f\"Значение глобального счетчика: {result[1]}\")\n",
    "    print(f\"Время выполнения программы: {int(time.time() - start_time)} сек\")\n",
    "\n"
   ]
  },
  {
   "cell_type": "markdown",
   "metadata": {},
   "source": [
    "**Данный код я подсмотрел у коллеги, сам так и не смог нормально решить данную задачу, очень жду разбор на вкс.**"
   ]
  },
  {
   "cell_type": "markdown",
   "metadata": {},
   "source": []
  }
 ],
 "metadata": {
  "colab": {
   "provenance": []
  },
  "kernelspec": {
   "display_name": "Python 3",
   "language": "python",
   "name": "python3"
  },
  "language_info": {
   "codemirror_mode": {
    "name": "ipython",
    "version": 3
   },
   "file_extension": ".py",
   "mimetype": "text/x-python",
   "name": "python",
   "nbconvert_exporter": "python",
   "pygments_lexer": "ipython3",
   "version": "3.13.0"
  }
 },
 "nbformat": 4,
 "nbformat_minor": 0
}
