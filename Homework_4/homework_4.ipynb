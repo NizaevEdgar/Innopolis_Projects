{
 "cells": [
  {
   "cell_type": "markdown",
   "metadata": {
    "id": "2EwnvcUJcbFx"
   },
   "source": [
    "# Задача 1\n",
    "\n",
    "Опишите класс комплексных чисел. У пользователя должна быть возможность создать его объект на основе числа и в алгебраической форме, и в полярной.\n",
    "Класс должен поддерживать основные математические операции (+, -, \\*, /) за счет перегрузки соответствующих магических методов. Также он должен поддерживать возможность получить число в алгебраической и полярной форме. Допускается использование модуля `math`.\n"
   ]
  },
  {
   "cell_type": "markdown",
   "metadata": {
    "id": "xjXakT1xcbF0"
   },
   "source": [
    "**Небольшая справка:** комплексные числа создаются из действительного (*real*) и мнимого (*imaginary*) числа.\n",
    "\n",
    "Мы хотим выполнить следующие операции с комплексными числами:\n",
    "\n",
    "- \\_\\_add\\_\\_() - для сложения двух комплексных чисел;\n",
    "- \\_\\_sub\\_\\_() - для вычитания двух комплексных чисел;\n",
    "- \\_\\_mul\\_\\_() - для умножения двух комплексных чисел;\n",
    "- \\_\\_truediv\\_\\_() - для деления двух комплексных чисел.\n",
    "\n"
   ]
  },
  {
   "cell_type": "code",
   "execution_count": 1,
   "metadata": {
    "executionInfo": {
     "elapsed": 410,
     "status": "ok",
     "timestamp": 1732264982832,
     "user": {
      "displayName": "Эдгар Низаев",
      "userId": "15628445951160379931"
     },
     "user_tz": -240
    },
    "id": "nT1-UIHCo4lO"
   },
   "outputs": [],
   "source": [
    "class Complex(object):\n",
    "\n",
    "  # Инициализируем значение\n",
    "  # imag=0.0 так как 0 - это мнимое число, поэтому, если пользователь не передает никакого\n",
    "  # значения в imag, то это гарантирует, что оно все равно будет мнимым\n",
    "\n",
    "\n",
    "    def __init__(self, real, imag=0.0):\n",
    "        self.real = real\n",
    "        self.imag = imag\n",
    "\n",
    "    def __add__(self, other):\n",
    "        print('\\n Сумма комплексных чисел: ')\n",
    "        return Complex(self.real + other.real,\n",
    "                       self.imag + other.imag)\n",
    "\n",
    "    def __sub__(self, other):\n",
    "        print('\\n Разность комплексных чисел: ')\n",
    "        return Complex(self.real - other.real,\n",
    "                       self.imag - other.imag)\n",
    "\n",
    "    def __mul__(self, other):\n",
    "        print('\\n Умножение комплексных чисел: ')\n",
    "        return Complex(self.real*other.real - self.imag*other.imag,\n",
    "                       self.imag*other.real + self.real*other.imag)\n",
    "\n",
    "    def __truediv__(self, other):\n",
    "        print('\\n Деление комплексных чисел: ')\n",
    "        s_r, s_i, o_r, o_i = self.real, self.imag, other.real, other.imag # короткие формы\n",
    "        r = float(o_r**2 + o_i**2)\n",
    "        return Complex((s_r*o_r+s_i*o_i)/r, (s_i*o_r-s_r*o_i)/r)\n",
    "\n",
    "    def __str__(self):\n",
    "\n",
    "        # если мнимое = 0, возвращаем только значение реальное\n",
    "        if self.imag == 0:\n",
    "          return '%.2f' % self.real\n",
    "\n",
    "        # если реальное = 0, возвращаем только значение мнимого\n",
    "        if self.real == 0:\n",
    "          return '%.2fj' % self.imag\n",
    "\n",
    "        # если мнимое меньше 0, записываем с минусом\n",
    "        if self.imag < 0:\n",
    "          return '%.2f - %.2fj' % (self.real, -self.imag)\n",
    "\n",
    "        else:\n",
    "        # в остальных случаях реальное + мнимое\n",
    "          return '%.2f + %.2fj' % (self.real, self.imag)\n"
   ]
  },
  {
   "cell_type": "code",
   "execution_count": 2,
   "metadata": {
    "colab": {
     "base_uri": "https://localhost:8080/"
    },
    "executionInfo": {
     "elapsed": 4,
     "status": "ok",
     "timestamp": 1732264983085,
     "user": {
      "displayName": "Эдгар Низаев",
      "userId": "15628445951160379931"
     },
     "user_tz": -240
    },
    "id": "aN-M6y6zpzEO",
    "outputId": "544f82eb-1817-43d2-ccb2-a75b8a0a87db"
   },
   "outputs": [
    {
     "name": "stdout",
     "output_type": "stream",
     "text": [
      "\n",
      " Сумма комплексных чисел: \n",
      "5.00 + 15.00j\n",
      "\n",
      " Разность комплексных чисел: \n",
      "-1.00 + 5.00j\n",
      "\n",
      " Умножение комплексных чисел: \n",
      "-44.00 + 40.00j\n",
      "\n",
      " Деление комплексных чисел: \n",
      "1.65 + 0.59j\n"
     ]
    }
   ],
   "source": [
    "# Проверка №1\n",
    "i = Complex(2, 10)\n",
    "k = Complex(3, 5)\n",
    "print(i+k)\n",
    "print(i-k)\n",
    "print(i*k)\n",
    "print(i/k)"
   ]
  },
  {
   "cell_type": "code",
   "execution_count": 3,
   "metadata": {
    "colab": {
     "base_uri": "https://localhost:8080/"
    },
    "executionInfo": {
     "elapsed": 3,
     "status": "ok",
     "timestamp": 1732264983085,
     "user": {
      "displayName": "Эдгар Низаев",
      "userId": "15628445951160379931"
     },
     "user_tz": -240
    },
    "id": "Jiq8Eq5NunJA",
    "outputId": "9f5e089b-e46a-4f95-86db-522c342d485c"
   },
   "outputs": [
    {
     "name": "stdout",
     "output_type": "stream",
     "text": [
      "\n",
      " Сумма комплексных чисел: \n",
      "7.00 + 1.00j\n",
      "\n",
      " Разность комплексных чисел: \n",
      "-3.00 + 5.00j\n",
      "\n",
      " Умножение комплексных чисел: \n",
      "16.00 + 11.00j\n",
      "\n",
      " Деление комплексных чисел: \n",
      "0.14 + 0.66j\n"
     ]
    }
   ],
   "source": [
    "# Проверка №2\n",
    "i = Complex(2, 3)\n",
    "k = Complex(5, -2)\n",
    "print(i+k)\n",
    "print(i-k)\n",
    "print(i*k)\n",
    "print(i/k)"
   ]
  },
  {
   "cell_type": "code",
   "execution_count": 4,
   "metadata": {
    "colab": {
     "base_uri": "https://localhost:8080/"
    },
    "executionInfo": {
     "elapsed": 3,
     "status": "ok",
     "timestamp": 1732264983085,
     "user": {
      "displayName": "Эдгар Низаев",
      "userId": "15628445951160379931"
     },
     "user_tz": -240
    },
    "id": "O7kKtVYHu48_",
    "outputId": "a5ebe601-75d6-4502-bdaa-8c901ee10144"
   },
   "outputs": [
    {
     "name": "stdout",
     "output_type": "stream",
     "text": [
      "\n",
      " Сумма комплексных чисел: \n",
      "7.00 - 2.00j\n",
      "\n",
      " Разность комплексных чисел: \n",
      "-3.00 + 2.00j\n",
      "\n",
      " Умножение комплексных чисел: \n",
      "10.00 - 4.00j\n",
      "\n",
      " Деление комплексных чисел: \n",
      "0.34 + 0.14j\n"
     ]
    }
   ],
   "source": [
    "# Проверка №3\n",
    "i = Complex(2)\n",
    "k = Complex(5, -2)\n",
    "print(i+k)\n",
    "print(i-k)\n",
    "print(i*k)\n",
    "print(i/k)"
   ]
  },
  {
   "cell_type": "markdown",
   "metadata": {},
   "source": [
    "**Проверим, правильно ли считает наш класс операции с комплексными числами**"
   ]
  },
  {
   "cell_type": "code",
   "execution_count": 5,
   "metadata": {
    "colab": {
     "base_uri": "https://localhost:8080/"
    },
    "executionInfo": {
     "elapsed": 2,
     "status": "ok",
     "timestamp": 1732264983085,
     "user": {
      "displayName": "Эдгар Низаев",
      "userId": "15628445951160379931"
     },
     "user_tz": -240
    },
    "id": "98NeOk_swkyn",
    "outputId": "ecc10a19-f602-4793-98f6-386d14af7f71"
   },
   "outputs": [
    {
     "name": "stdout",
     "output_type": "stream",
     "text": [
      "<class 'complex'>\n",
      "<class 'complex'>\n",
      "(5+15j)\n",
      "(-1+5j)\n",
      "(-44+40j)\n",
      "(1.6470588235294117+0.5882352941176471j)\n"
     ]
    }
   ],
   "source": [
    "# Проверка решения класса №1\n",
    "\n",
    "# Задаем комплексные числа\n",
    "c1 = 2+10j\n",
    "c2 = 3+5j\n",
    "\n",
    "# Проверяем тип\n",
    "print(type(c1))\n",
    "print(type(c2))\n",
    "\n",
    "# Сумма\n",
    "print(c1 + c2)\n",
    "\n",
    "# Разность\n",
    "print(c1 - c2)\n",
    "\n",
    "# Умножение\n",
    "print(c1 * c2)\n",
    "\n",
    "# Деление\n",
    "print(c1 / c2)"
   ]
  },
  {
   "cell_type": "code",
   "execution_count": 6,
   "metadata": {
    "colab": {
     "base_uri": "https://localhost:8080/"
    },
    "executionInfo": {
     "elapsed": 2,
     "status": "ok",
     "timestamp": 1732264983085,
     "user": {
      "displayName": "Эдгар Низаев",
      "userId": "15628445951160379931"
     },
     "user_tz": -240
    },
    "id": "zZ08Bkc1w0cg",
    "outputId": "242662d4-11c3-4a70-acd3-8cd11e0e1674"
   },
   "outputs": [
    {
     "name": "stdout",
     "output_type": "stream",
     "text": [
      "<class 'complex'>\n",
      "<class 'complex'>\n",
      "(7+1j)\n",
      "(-3+5j)\n",
      "(16+11j)\n",
      "(0.1379310344827586+0.6551724137931034j)\n"
     ]
    }
   ],
   "source": [
    "# Проверка решения класса №2\n",
    "\n",
    "# Задаем комплексные числа\n",
    "c1 = 2+3j\n",
    "c2 = 5-2j\n",
    "\n",
    "# Проверяем тип\n",
    "print(type(c1))\n",
    "print(type(c2))\n",
    "\n",
    "# Сумма\n",
    "print(c1 + c2)\n",
    "\n",
    "# Разность\n",
    "print(c1 - c2)\n",
    "\n",
    "# Умножение\n",
    "print(c1 * c2)\n",
    "\n",
    "# Деление\n",
    "print(c1 / c2)"
   ]
  },
  {
   "cell_type": "code",
   "execution_count": 7,
   "metadata": {
    "colab": {
     "base_uri": "https://localhost:8080/"
    },
    "executionInfo": {
     "elapsed": 2,
     "status": "ok",
     "timestamp": 1732264983086,
     "user": {
      "displayName": "Эдгар Низаев",
      "userId": "15628445951160379931"
     },
     "user_tz": -240
    },
    "id": "346E1j4nw-sY",
    "outputId": "30f71767-cc1b-44f2-cd2e-099e7f88dd34"
   },
   "outputs": [
    {
     "name": "stdout",
     "output_type": "stream",
     "text": [
      "<class 'int'>\n",
      "<class 'complex'>\n",
      "(7-2j)\n",
      "(-3+2j)\n",
      "(10-4j)\n",
      "(0.3448275862068966+0.13793103448275862j)\n"
     ]
    }
   ],
   "source": [
    "# Проверка решения класса №3\n",
    "\n",
    "# Задаем комплексные числа\n",
    "c1 = 2\n",
    "c2 = 5-2j\n",
    "\n",
    "# Проверяем тип\n",
    "print(type(c1))\n",
    "print(type(c2))\n",
    "\n",
    "# Сумма\n",
    "print(c1 + c2)\n",
    "\n",
    "# Разность\n",
    "print(c1 - c2)\n",
    "\n",
    "# Умножение\n",
    "print(c1 * c2)\n",
    "\n",
    "# Деление\n",
    "print(c1 / c2)"
   ]
  },
  {
   "cell_type": "markdown",
   "metadata": {},
   "source": [
    "**Вывод: наш класс выдает такие же ответы, значит, расчет верный.**"
   ]
  },
  {
   "cell_type": "markdown",
   "metadata": {
    "id": "uFav-HGxOcVT"
   },
   "source": [
    "# Задача 2\n",
    "\n",
    "Опишите класс для векторов в N-мерном пространстве. В качестве основы\n",
    "используйте список значений координат вектора, задаваемый `list`. Обеспечьте\n",
    "поддержку следующих операций: сложение, вычитание (с созданием нового\n",
    "вектора-результата), скалярное произведение, косинус угла, евклидова норма. Все\n",
    "операции, которые можно перегрузить с помощью магических методов, должны\n",
    "быть реализованы именно через них. Класс должен производить проверку\n",
    "консистентности аргументов для каждой операции и в случаях ошибок\n",
    "выбрасывать исключение `ValueError` с исчерпывающим объяснением ошибки."
   ]
  },
  {
   "cell_type": "code",
   "execution_count": 8,
   "metadata": {
    "colab": {
     "base_uri": "https://localhost:8080/",
     "height": 495
    },
    "executionInfo": {
     "elapsed": 281,
     "status": "error",
     "timestamp": 1732271147140,
     "user": {
      "displayName": "Эдгар Низаев",
      "userId": "15628445951160379931"
     },
     "user_tz": -240
    },
    "id": "VlmvC1-YUmt1",
    "outputId": "7f902730-de4c-494f-e750-125f5dd7f3ff"
   },
   "outputs": [],
   "source": [
    "class Vector:\n",
    "\n",
    "    def __init__(self, *args):\n",
    "        \n",
    "        '''инициализация класса'''\n",
    "        \n",
    "        self.args = args\n",
    "        self.args = list(self.args) #класс нам создал кортеж, а для удобства работы мы переводм его в изменяемый список\n",
    "        \n",
    "    def __add__(self,other): \n",
    "        \n",
    "        '''сложение векторов'''\n",
    "        \n",
    "        res = []\n",
    "        if len(self.args) == len(other.args):\n",
    "            for i in range(len(self.args)):\n",
    "                res.append(self.args[i] + other.args[i])\n",
    "            return Vector((res))\n",
    "        else:\n",
    "            raise ValueError(\"У списков разные длины! Необходимо длины списков координат сделать равными\")\n",
    "        \n",
    "\n",
    "    def __sub__(self,other): \n",
    "        \n",
    "        '''вычитание векторов'''\n",
    "        \n",
    "        res = []\n",
    "        if len(self.args) == len(other.args):\n",
    "            for i in range(len(self.args)):\n",
    "                res.append(self.args[i] - other.args[i])\n",
    "            return Vector((res))\n",
    "        else:\n",
    "            raise ValueError(\"У списков разные длины! Необходимо длины списков координат сделать равными\")\n",
    "\n",
    "\n",
    "    def __mul__(self,other): \n",
    "        \n",
    "        '''скалярное произведение двух векторов'''\n",
    "        \n",
    "        if isinstance(other, Vector):\n",
    "            res = 0\n",
    "            if len(self.args) == len(other.args):\n",
    "                for i in range(len(self.args)):\n",
    "                    res = res + (self.args[i] * other.args[i])\n",
    "                return res\n",
    "            else:\n",
    "                raise ValueError(\"У списков разные длины! Необходимо длины списков координат сделать равными\")\n",
    "            \n",
    "        elif (isinstance(other, int) or isinstance(other, float)): \n",
    "            \n",
    "            '''умножение на число'''\n",
    "            \n",
    "            res = []\n",
    "            for i in range(len(self.args)):\n",
    "                res.append(self.args[i]*other)\n",
    "            return Vector(res)\n",
    "        \n",
    "\n",
    "    def __abs__(self): \n",
    "        \n",
    "        '''модуль вектора'''\n",
    "        \n",
    "        return((self*self)**0.5)\n",
    "    \n",
    "        \n",
    "    def cosinus(self,other): \n",
    "        \n",
    "        '''косинус угла между двумя векторами'''\n",
    "        \n",
    "        return((self*other)/((abs(self))*(abs(other))))\n",
    "    \n",
    "    \n",
    "    def evkld_norm(self):\n",
    "        \n",
    "        '''евклидова норма (длина вектора)'''\n",
    "        \n",
    "        res = 0\n",
    "        for i in range(len(self.args)):\n",
    "            res = res + ((self.args[i]**2))\n",
    "        return Vector(res**(1/2))\n",
    "\n",
    "\n",
    "    def __from_string__(cls, string): \n",
    "        \n",
    "        '''чтобы можно было читать как вектор строку с запятыми: 1, 2, 4'''\n",
    "        \n",
    "        read = []\n",
    "        for elem in string.split(', '):\n",
    "             read.append(int(elem))\n",
    "        return Vector(read)\n",
    "\n",
    "\n",
    "\n",
    "    def __str__(self): \n",
    "        \n",
    "        '''вывод в формате строки'''\n",
    "        \n",
    "        return str(self.args)\n",
    "\n",
    "\n",
    "if __name__ == '__main__': # тестовые вектора\n",
    "    a = Vector(1,1,2,4,4,5)\n",
    "    b = Vector(2,2,1,3,3,8)\n",
    "    c = Vector(1,1,2)"
   ]
  },
  {
   "cell_type": "code",
   "execution_count": 9,
   "metadata": {},
   "outputs": [
    {
     "name": "stdout",
     "output_type": "stream",
     "text": [
      "[[3, 3, 3, 7, 7, 13]]\n",
      "[[-1, -1, 1, 1, 1, -3]]\n"
     ]
    }
   ],
   "source": [
    "# Проверка сложения и вычитания векторов\n",
    "print(a+b)\n",
    "print(a-b)"
   ]
  },
  {
   "cell_type": "code",
   "execution_count": 10,
   "metadata": {},
   "outputs": [
    {
     "name": "stdout",
     "output_type": "stream",
     "text": [
      "70\n",
      "[[5, 5, 10, 20, 20, 25]]\n"
     ]
    }
   ],
   "source": [
    "# Умножение двух векторов и умножение вектора на число\n",
    "\n",
    "print (a*b)\n",
    "print(a*5)"
   ]
  },
  {
   "cell_type": "code",
   "execution_count": 11,
   "metadata": {},
   "outputs": [
    {
     "name": "stdout",
     "output_type": "stream",
     "text": [
      "0.9245003270420485\n",
      "0.9245003270420485\n"
     ]
    }
   ],
   "source": [
    "# Находим косинус угла между векторами\n",
    "\n",
    "print(a.cosinus(b))\n",
    "print(b.cosinus(a))"
   ]
  },
  {
   "cell_type": "code",
   "execution_count": 12,
   "metadata": {},
   "outputs": [
    {
     "name": "stdout",
     "output_type": "stream",
     "text": [
      "[7.937253933193772]\n",
      "[9.539392014169456]\n",
      "[2.449489742783178]\n"
     ]
    }
   ],
   "source": [
    "# Находим евклидову норму или длину вектора\n",
    "\n",
    "print(a.evkld_norm())\n",
    "print(b.evkld_norm())\n",
    "print(c.evkld_norm())"
   ]
  },
  {
   "cell_type": "code",
   "execution_count": 13,
   "metadata": {},
   "outputs": [
    {
     "ename": "ValueError",
     "evalue": "У списков разные длины! Необходимо длины списков координат сделать равными",
     "output_type": "error",
     "traceback": [
      "\u001b[1;31m---------------------------------------------------------------------------\u001b[0m",
      "\u001b[1;31mValueError\u001b[0m                                Traceback (most recent call last)",
      "Cell \u001b[1;32mIn[13], line 2\u001b[0m\n\u001b[0;32m      1\u001b[0m \u001b[38;5;66;03m# Проверка консистентности - Если у списков с координатами векторов разные длины, то выполнить сложение и вычитание не получится\u001b[39;00m\n\u001b[1;32m----> 2\u001b[0m \u001b[38;5;28mprint\u001b[39m(\u001b[43ma\u001b[49m\u001b[38;5;241;43m-\u001b[39;49m\u001b[43mc\u001b[49m)\n",
      "Cell \u001b[1;32mIn[8], line 33\u001b[0m, in \u001b[0;36mVector.__sub__\u001b[1;34m(self, other)\u001b[0m\n\u001b[0;32m     31\u001b[0m     \u001b[38;5;28;01mreturn\u001b[39;00m Vector((res))\n\u001b[0;32m     32\u001b[0m \u001b[38;5;28;01melse\u001b[39;00m:\n\u001b[1;32m---> 33\u001b[0m     \u001b[38;5;28;01mraise\u001b[39;00m \u001b[38;5;167;01mValueError\u001b[39;00m(\u001b[38;5;124m\"\u001b[39m\u001b[38;5;124mУ списков разные длины! Необходимо длины списков координат сделать равными\u001b[39m\u001b[38;5;124m\"\u001b[39m)\n",
      "\u001b[1;31mValueError\u001b[0m: У списков разные длины! Необходимо длины списков координат сделать равными"
     ]
    }
   ],
   "source": [
    "# Проверка консистентности - Если у списков с координатами векторов разные длины, то выполнить сложение и вычитание не получится\n",
    "print(a-c)"
   ]
  },
  {
   "cell_type": "code",
   "execution_count": 14,
   "metadata": {},
   "outputs": [
    {
     "ename": "ValueError",
     "evalue": "У списков разные длины! Необходимо длины списков координат сделать равными",
     "output_type": "error",
     "traceback": [
      "\u001b[1;31m---------------------------------------------------------------------------\u001b[0m",
      "\u001b[1;31mValueError\u001b[0m                                Traceback (most recent call last)",
      "Cell \u001b[1;32mIn[14], line 3\u001b[0m\n\u001b[0;32m      1\u001b[0m \u001b[38;5;66;03m# Проверка консистентности - Если у списков с координатами векторов разные длины, то выполнить умножение не получится\u001b[39;00m\n\u001b[1;32m----> 3\u001b[0m \u001b[38;5;28mprint\u001b[39m(\u001b[43ma\u001b[49m\u001b[38;5;241;43m*\u001b[39;49m\u001b[43mc\u001b[49m)\n",
      "Cell \u001b[1;32mIn[8], line 47\u001b[0m, in \u001b[0;36mVector.__mul__\u001b[1;34m(self, other)\u001b[0m\n\u001b[0;32m     45\u001b[0m         \u001b[38;5;28;01mreturn\u001b[39;00m res\n\u001b[0;32m     46\u001b[0m     \u001b[38;5;28;01melse\u001b[39;00m:\n\u001b[1;32m---> 47\u001b[0m         \u001b[38;5;28;01mraise\u001b[39;00m \u001b[38;5;167;01mValueError\u001b[39;00m(\u001b[38;5;124m\"\u001b[39m\u001b[38;5;124mУ списков разные длины! Необходимо длины списков координат сделать равными\u001b[39m\u001b[38;5;124m\"\u001b[39m)\n\u001b[0;32m     49\u001b[0m \u001b[38;5;28;01melif\u001b[39;00m (\u001b[38;5;28misinstance\u001b[39m(other, \u001b[38;5;28mint\u001b[39m) \u001b[38;5;129;01mor\u001b[39;00m \u001b[38;5;28misinstance\u001b[39m(other, \u001b[38;5;28mfloat\u001b[39m)): \n\u001b[0;32m     51\u001b[0m \u001b[38;5;250m    \u001b[39m\u001b[38;5;124;03m'''умножение на число'''\u001b[39;00m\n",
      "\u001b[1;31mValueError\u001b[0m: У списков разные длины! Необходимо длины списков координат сделать равными"
     ]
    }
   ],
   "source": [
    "# Проверка консистентности - Если у списков с координатами векторов разные длины, то выполнить умножение не получится\n",
    "\n",
    "print(a*c)"
   ]
  }
 ],
 "metadata": {
  "colab": {
   "provenance": []
  },
  "kernelspec": {
   "display_name": "Python 3",
   "language": "python",
   "name": "python3"
  },
  "language_info": {
   "codemirror_mode": {
    "name": "ipython",
    "version": 3
   },
   "file_extension": ".py",
   "mimetype": "text/x-python",
   "name": "python",
   "nbconvert_exporter": "python",
   "pygments_lexer": "ipython3",
   "version": "3.13.0"
  }
 },
 "nbformat": 4,
 "nbformat_minor": 0
}
