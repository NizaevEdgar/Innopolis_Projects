{
 "cells": [
  {
   "cell_type": "markdown",
   "metadata": {},
   "source": [
    "# Запросы к БД с помощью PySpark"
   ]
  },
  {
   "cell_type": "code",
   "execution_count": null,
   "metadata": {},
   "outputs": [
    {
     "name": "stdout",
     "output_type": "stream",
     "text": [
      "Запущен Spark версии 3.5.4\n"
     ]
    }
   ],
   "source": [
    "# версия Spark\n",
    "from pyspark.sql import functions as f\n",
    "from pyspark import SparkConf, SparkContext\n",
    "from pyspark.sql import SparkSession\n",
    "conf = SparkConf()\n",
    "conf.setMaster(\"local\").setAppName('My app')\n",
    "sc = SparkContext.getOrCreate(conf=conf)\n",
    "spark = SparkSession(sc)\n",
    "print('Запущен Spark версии', spark.version)"
   ]
  },
  {
   "cell_type": "markdown",
   "metadata": {},
   "source": [
    "## Загрузим таблицы из БД BikeStore"
   ]
  },
  {
   "cell_type": "code",
   "execution_count": 9,
   "metadata": {},
   "outputs": [],
   "source": [
    "products = spark.read.csv(\n",
    "    \"./data/products.csv\",\n",
    "    sep=\",\",\n",
    "    inferSchema=True,\n",
    "    header=\"true\",\n",
    ")\n",
    "\n",
    "brands = spark.read.csv(\n",
    "    \"./data/brands.csv\",\n",
    "    sep=\",\",\n",
    "    inferSchema=True,\n",
    "    header=\"true\",\n",
    ")\n",
    "\n",
    "categories = spark.read.csv(\n",
    "    \"./data/categories.csv\",\n",
    "    sep=\",\",\n",
    "    inferSchema=True,\n",
    "    header=\"true\",\n",
    ")\n",
    "\n",
    "customers = spark.read.csv(\n",
    "    \"./data/customers.csv\",\n",
    "    sep=\",\",\n",
    "    inferSchema=True,\n",
    "    header=\"true\",\n",
    ")\n",
    "\n",
    "order_items = spark.read.csv(\n",
    "    \"./data/order_items.csv\",\n",
    "    sep=\",\",\n",
    "    inferSchema=True,\n",
    "    header=\"true\",\n",
    ")\n",
    "\n",
    "orders = spark.read.csv(\n",
    "    \"./data/orders.csv\",\n",
    "    sep=\",\",\n",
    "    inferSchema=True,\n",
    "    header=\"true\",\n",
    ")\n",
    "\n",
    "staffs = spark.read.csv(\n",
    "    \"./data/staffs.csv\",\n",
    "    sep=\",\",\n",
    "    inferSchema=True,\n",
    "    header=\"true\",\n",
    ")\n",
    "\n",
    "stocks = spark.read.csv(\n",
    "    \"./data/stocks.csv\",\n",
    "    sep=\",\",\n",
    "    inferSchema=True,\n",
    "    header=\"true\",\n",
    ")\n",
    "\n",
    "stores = spark.read.csv(\n",
    "    \"./data/stores.csv\",\n",
    "    sep=\",\",\n",
    "    inferSchema=True,\n",
    "    header=\"true\",\n",
    ")"
   ]
  },
  {
   "cell_type": "code",
   "execution_count": 11,
   "metadata": {},
   "outputs": [
    {
     "name": "stdout",
     "output_type": "stream",
     "text": [
      "+----------+--------------------+--------+-----------+----------+----------+\n",
      "|product_id|        product_name|brand_id|category_id|model_year|list_price|\n",
      "+----------+--------------------+--------+-----------+----------+----------+\n",
      "|         1|     Trek 820 - 2016|       9|          6|      2016|    379.99|\n",
      "|         2|Ritchey Timberwol...|       5|          6|      2016|    749.99|\n",
      "|         3|Surly Wednesday F...|       8|          6|      2016|    999.99|\n",
      "|         4|Trek Fuel EX 8 29...|       9|          6|      2016|   2899.99|\n",
      "|         5|Heller Shagamaw F...|       3|          6|      2016|   1320.99|\n",
      "+----------+--------------------+--------+-----------+----------+----------+\n",
      "only showing top 5 rows\n",
      "\n",
      "+--------+-----------+\n",
      "|brand_id| brand_name|\n",
      "+--------+-----------+\n",
      "|       1|    Electra|\n",
      "|       2|       Haro|\n",
      "|       3|     Heller|\n",
      "|       4|Pure Cycles|\n",
      "|       5|    Ritchey|\n",
      "+--------+-----------+\n",
      "only showing top 5 rows\n",
      "\n",
      "+-----------+-------------------+\n",
      "|category_id|      category_name|\n",
      "+-----------+-------------------+\n",
      "|          1|  Children Bicycles|\n",
      "|          2|   Comfort Bicycles|\n",
      "|          3|  Cruisers Bicycles|\n",
      "|          4|Cyclocross Bicycles|\n",
      "|          5|     Electric Bikes|\n",
      "+-----------+-------------------+\n",
      "only showing top 5 rows\n",
      "\n",
      "+-----------+----------+---------+--------------+--------------------+--------------------+-------------+-----+--------+\n",
      "|customer_id|first_name|last_name|         phone|               email|              street|         city|state|zip_code|\n",
      "+-----------+----------+---------+--------------+--------------------+--------------------+-------------+-----+--------+\n",
      "|          1|     Debra|    Burks|          NULL|debra.burks@yahoo...|   9273 Thorne Ave. | Orchard Park|   NY|   14127|\n",
      "|          2|     Kasha|     Todd|          NULL|kasha.todd@yahoo.com|    910 Vine Street |     Campbell|   CA|   95008|\n",
      "|          3|    Tameka|   Fisher|          NULL|tameka.fisher@aol...|769C Honey Creek ...|Redondo Beach|   CA|   90278|\n",
      "|          4|     Daryl|   Spence|          NULL|daryl.spence@aol.com|     988 Pearl Lane |    Uniondale|   NY|   11553|\n",
      "|          5|Charolette|     Rice|(916) 381-6003|charolette.rice@m...|      107 River Dr. |   Sacramento|   CA|   95820|\n",
      "+-----------+----------+---------+--------------+--------------------+--------------------+-------------+-----+--------+\n",
      "only showing top 5 rows\n",
      "\n",
      "+--------+-------+----------+--------+----------+--------+\n",
      "|order_id|item_id|product_id|quantity|list_price|discount|\n",
      "+--------+-------+----------+--------+----------+--------+\n",
      "|       1|      1|        20|       1|    599.99|     0.2|\n",
      "|       1|      2|         8|       2|   1799.99|    0.07|\n",
      "|       1|      3|        10|       2|    1549.0|    0.05|\n",
      "|       1|      4|        16|       2|    599.99|    0.05|\n",
      "|       1|      5|         4|       1|   2899.99|     0.2|\n",
      "+--------+-------+----------+--------+----------+--------+\n",
      "only showing top 5 rows\n",
      "\n",
      "+--------+-----------+------------+----------+-------------+------------+--------+--------+\n",
      "|order_id|customer_id|order_status|order_date|required_date|shipped_date|store_id|staff_id|\n",
      "+--------+-----------+------------+----------+-------------+------------+--------+--------+\n",
      "|       1|        259|           4|2016-01-01|   2016-01-03|  2016-01-03|       1|       2|\n",
      "|       2|       1212|           4|2016-01-01|   2016-01-04|  2016-01-03|       2|       6|\n",
      "|       3|        523|           4|2016-01-02|   2016-01-05|  2016-01-03|       2|       7|\n",
      "|       4|        175|           4|2016-01-03|   2016-01-04|  2016-01-05|       1|       3|\n",
      "|       5|       1324|           4|2016-01-03|   2016-01-06|  2016-01-06|       2|       6|\n",
      "+--------+-----------+------------+----------+-------------+------------+--------+--------+\n",
      "only showing top 5 rows\n",
      "\n",
      "+--------+----------+---------+--------------------+--------------+------+--------+----------+\n",
      "|staff_id|first_name|last_name|               email|         phone|active|store_id|manager_id|\n",
      "+--------+----------+---------+--------------------+--------------+------+--------+----------+\n",
      "|       1|   Fabiola|  Jackson|fabiola.jackson@b...|(831) 555-5554|     1|       1|      NULL|\n",
      "|       2|    Mireya| Copeland|mireya.copeland@b...|(831) 555-5555|     1|       1|         1|\n",
      "|       3|     Genna|  Serrano|genna.serrano@bik...|(831) 555-5556|     1|       1|         2|\n",
      "|       4|    Virgie|  Wiggins|virgie.wiggins@bi...|(831) 555-5557|     1|       1|         2|\n",
      "|       5|  Jannette|    David|jannette.david@bi...|(516) 379-4444|     1|       2|         1|\n",
      "+--------+----------+---------+--------------------+--------------+------+--------+----------+\n",
      "only showing top 5 rows\n",
      "\n",
      "+--------+----------+--------+\n",
      "|store_id|product_id|quantity|\n",
      "+--------+----------+--------+\n",
      "|       1|         1|      27|\n",
      "|       1|         2|       5|\n",
      "|       1|         3|       6|\n",
      "|       1|         4|      23|\n",
      "|       1|         5|      22|\n",
      "+--------+----------+--------+\n",
      "only showing top 5 rows\n",
      "\n",
      "+--------+----------------+--------------+--------------------+-------------------+----------+-----+--------+\n",
      "|store_id|      store_name|         phone|               email|             street|      city|state|zip_code|\n",
      "+--------+----------------+--------------+--------------------+-------------------+----------+-----+--------+\n",
      "|       1|Santa Cruz Bikes|(831) 476-4321|santacruz@bikes.shop| 3700 Portola Drive|Santa Cruz|   CA|   95060|\n",
      "|       2|   Baldwin Bikes|(516) 379-8888|  baldwin@bikes.shop| 4200 Chestnut Lane|   Baldwin|   NY|   11432|\n",
      "|       3|   Rowlett Bikes|(972) 530-5555|  rowlett@bikes.shop|8000 Fairway Avenue|   Rowlett|   TX|   75088|\n",
      "+--------+----------------+--------------+--------------------+-------------------+----------+-----+--------+\n",
      "\n"
     ]
    }
   ],
   "source": [
    "products.show(5)\n",
    "brands.show(5)\n",
    "categories.show(5)\n",
    "customers.show(5)\n",
    "order_items.show(5)\n",
    "orders.show(5)\n",
    "staffs.show(5)\n",
    "stocks.show(5)\n",
    "stores.show(5)"
   ]
  },
  {
   "cell_type": "markdown",
   "metadata": {},
   "source": [
    "### Задача 1\n",
    "\n",
    "Напишите запрос, чтобы получить все названия продуктов и соответствующие им торговые марки (brand)."
   ]
  },
  {
   "cell_type": "code",
   "execution_count": 12,
   "metadata": {},
   "outputs": [
    {
     "name": "stdout",
     "output_type": "stream",
     "text": [
      "+--------------------+-----------+\n",
      "|        product_name| brand_name|\n",
      "+--------------------+-----------+\n",
      "|     Trek 820 - 2016|       Trek|\n",
      "|Ritchey Timberwol...|    Ritchey|\n",
      "|Surly Wednesday F...|      Surly|\n",
      "|Trek Fuel EX 8 29...|       Trek|\n",
      "|Heller Shagamaw F...|     Heller|\n",
      "|Surly Ice Cream T...|      Surly|\n",
      "|Trek Slash 8 27.5...|       Trek|\n",
      "|Trek Remedy 29 Ca...|       Trek|\n",
      "|Trek Conduit+ - 2016|       Trek|\n",
      "|Surly Straggler -...|      Surly|\n",
      "|Surly Straggler 6...|      Surly|\n",
      "|Electra Townie Or...|    Electra|\n",
      "|Electra Cruiser 1...|    Electra|\n",
      "|Electra Girl's Ha...|    Electra|\n",
      "|Electra Moto 1 - ...|    Electra|\n",
      "|Electra Townie Or...|    Electra|\n",
      "|Pure Cycles Vine ...|Pure Cycles|\n",
      "|Pure Cycles Weste...|Pure Cycles|\n",
      "|Pure Cycles Willi...|Pure Cycles|\n",
      "|Electra Townie Or...|    Electra|\n",
      "+--------------------+-----------+\n",
      "only showing top 20 rows\n",
      "\n"
     ]
    }
   ],
   "source": [
    "result_1 = products.join(brands, products[\"brand_id\"] == brands[\"brand_id\"], \"inner\")\n",
    "result_1 = result_1.select(\"product_name\", \"brand_name\")\n",
    "result_1.show()"
   ]
  },
  {
   "cell_type": "markdown",
   "metadata": {},
   "source": [
    "### Задача 2\n",
    "\n",
    "Напишите запрос, чтобы найти всех активных сотрудников и наименования магазинов, в которых они работают."
   ]
  },
  {
   "cell_type": "code",
   "execution_count": 13,
   "metadata": {},
   "outputs": [
    {
     "name": "stdout",
     "output_type": "stream",
     "text": [
      "+----------+---------+----------------+\n",
      "|first_name|last_name|      store_name|\n",
      "+----------+---------+----------------+\n",
      "|   Fabiola|  Jackson|Santa Cruz Bikes|\n",
      "|    Mireya| Copeland|Santa Cruz Bikes|\n",
      "|     Genna|  Serrano|Santa Cruz Bikes|\n",
      "|    Virgie|  Wiggins|Santa Cruz Bikes|\n",
      "|  Jannette|    David|   Baldwin Bikes|\n",
      "| Marcelene|    Boyer|   Baldwin Bikes|\n",
      "|    Venita|   Daniel|   Baldwin Bikes|\n",
      "|      Kali|   Vargas|   Rowlett Bikes|\n",
      "|     Layla|  Terrell|   Rowlett Bikes|\n",
      "|Bernardine|  Houston|   Rowlett Bikes|\n",
      "+----------+---------+----------------+\n",
      "\n"
     ]
    }
   ],
   "source": [
    "result_2 = staffs.join(stores, staffs[\"store_id\"] == stores[\"store_id\"], \"inner\")\n",
    "result_2 = result_2.select(\"first_name\", \"last_name\", \"store_name\")\n",
    "result_2.show()"
   ]
  },
  {
   "cell_type": "markdown",
   "metadata": {},
   "source": [
    "### Задача 3\n",
    "\n",
    "Напишите запрос, чтобы перечислить всех покупателей выбранного магазина с указанием их полных имен, электронной почты и номера телефона."
   ]
  },
  {
   "cell_type": "code",
   "execution_count": 23,
   "metadata": {},
   "outputs": [
    {
     "name": "stdout",
     "output_type": "stream",
     "text": [
      "+----------+---------+--------------------+--------------+\n",
      "|first_name|last_name|               email|         phone|\n",
      "+----------+---------+--------------------+--------------+\n",
      "|   Pearlie|  Cochran|pearlie.cochran@m...|          NULL|\n",
      "|    Desire|  Mcgowan|desire.mcgowan@ms...|(661) 800-8091|\n",
      "|    Jeffry|   Church|jeffry.church@msn...|          NULL|\n",
      "|     Shara|     Pope|  shara.pope@msn.com|          NULL|\n",
      "|   Novella|     Ross|novella.ross@gmai...|          NULL|\n",
      "|   Arvilla|   Osborn|arvilla.osborn@gm...|          NULL|\n",
      "|  Mercedez|   Brooks|mercedez.brooks@h...|          NULL|\n",
      "|        Ji|     Burt| ji.burt@hotmail.com|          NULL|\n",
      "|    Elvera|     Peck|elvera.peck@yahoo...|          NULL|\n",
      "|      Adam|Henderson|adam.henderson@ho...|          NULL|\n",
      "|    Willow|  Gardner|willow.gardner@gm...|          NULL|\n",
      "|       Ara|  Vazquez| ara.vazquez@msn.com|          NULL|\n",
      "|  Graciela|   Barber|graciela.barber@h...|(805) 656-6987|\n",
      "|  Giovanna|Jefferson|giovanna.jefferso...|          NULL|\n",
      "|  Ruthanne|   Hoover|ruthanne.hoover@a...|          NULL|\n",
      "|    Carley| Reynolds|carley.reynolds@g...|          NULL|\n",
      "|   Rayford|    Simon|rayford.simon@msn...|          NULL|\n",
      "|  Randolph|    Chase|randolph.chase@ya...|          NULL|\n",
      "|    Hubert|    Stone|hubert.stone@hotm...|          NULL|\n",
      "| Williemae| Holloway|williemae.hollowa...|(510) 246-8375|\n",
      "+----------+---------+--------------------+--------------+\n",
      "only showing top 20 rows\n",
      "\n"
     ]
    }
   ],
   "source": [
    "join_c_o = customers.join(orders, customers[\"customer_id\"] == orders[\"customer_id\"], \"inner\")\n",
    "\n",
    "result_3 = join_c_o.join(stores, join_c_o[\"store_id\"] == stores[\"store_id\"], \"inner\")\n",
    "\n",
    "result_3 = result_3.filter(result_3[\"store_name\"] == \"Santa Cruz Bikes\")\n",
    "result_3 = result_3.select(\n",
    "    join_c_o[\"first_name\"],\n",
    "    join_c_o[\"last_name\"],\n",
    "    join_c_o[\"email\"],\n",
    "    join_c_o[\"phone\"],\n",
    ").distinct()\n",
    "result_3.show()"
   ]
  },
  {
   "cell_type": "markdown",
   "metadata": {},
   "source": [
    "### Задача 4\n",
    "\n",
    "Напишите запрос для подсчета количества продуктов в каждой категории."
   ]
  },
  {
   "cell_type": "code",
   "execution_count": 24,
   "metadata": {},
   "outputs": [
    {
     "name": "stdout",
     "output_type": "stream",
     "text": [
      "+-------------------+-----+\n",
      "|      category_name|count|\n",
      "+-------------------+-----+\n",
      "|     Electric Bikes|   24|\n",
      "|     Mountain Bikes|   60|\n",
      "|   Comfort Bicycles|   30|\n",
      "|         Road Bikes|   60|\n",
      "|Cyclocross Bicycles|   10|\n",
      "|  Children Bicycles|   59|\n",
      "|  Cruisers Bicycles|   78|\n",
      "+-------------------+-----+\n",
      "\n"
     ]
    }
   ],
   "source": [
    "result_4 = products.join(categories, products[\"category_id\"] == categories[\"category_id\"], \"inner\")\n",
    "result_4 = result_4.groupBy(\"category_name\").count()\n",
    "result_4.show()"
   ]
  },
  {
   "cell_type": "markdown",
   "metadata": {},
   "source": [
    "### Задача 5\n",
    "\n",
    "Напишите запрос, чтобы указать общее количество заказов для каждого клиента."
   ]
  },
  {
   "cell_type": "code",
   "execution_count": 31,
   "metadata": {},
   "outputs": [
    {
     "name": "stdout",
     "output_type": "stream",
     "text": [
      "+----------+---------+---------------+\n",
      "|first_name|last_name|count(order_id)|\n",
      "+----------+---------+---------------+\n",
      "|  Lizzette|    Stein|              3|\n",
      "|     Ronna|   Butler|              3|\n",
      "|    Tameka|   Fisher|              3|\n",
      "| Saturnina|   Garner|              3|\n",
      "| Jacquline|   Duncan|              3|\n",
      "|     Garry| Espinoza|              3|\n",
      "|    Corene|     Wall|              3|\n",
      "|    Lorrie|   Becker|              3|\n",
      "|     Aleta|  Shepard|              3|\n",
      "|     Jayne| Kirkland|              3|\n",
      "|     Kasha|     Todd|              3|\n",
      "|     Tobie|   Little|              3|\n",
      "|   Merlene|   Vinson|              3|\n",
      "|    Bobbie|   Foster|              3|\n",
      "|    Linnie|   Branch|              3|\n",
      "| Bridgette|   Guerra|              3|\n",
      "|   Mozelle|   Carter|              3|\n",
      "|   Pamelia|   Newman|              3|\n",
      "|    Monika|     Berg|              3|\n",
      "|   Lashawn|    Ortiz|              3|\n",
      "+----------+---------+---------------+\n",
      "only showing top 20 rows\n",
      "\n"
     ]
    }
   ],
   "source": [
    "from pyspark.sql.functions import desc\n",
    "\n",
    "result_5 = customers.join(orders, customers[\"customer_id\"] == orders[\"customer_id\"], \"inner\")\n",
    "result_5 = result_5.groupBy(\n",
    "    customers[\"customer_id\"], customers[\"first_name\"], customers[\"last_name\"]\n",
    ").agg({\"order_id\": \"count\"})\n",
    "result_5 = result_5.select(\"first_name\", \"last_name\", \"count(order_id)\")\n",
    "result_5 = result_5.orderBy(desc(\"count(order_id)\"))\n",
    "result_5.show()"
   ]
  },
  {
   "cell_type": "markdown",
   "metadata": {},
   "source": [
    "### Задача 6\n",
    "\n",
    "Напишите запрос, в котором будет указана информация о полном имени и общем количестве заказов клиентов, которые хотя бы 1 раз сделали заказ."
   ]
  },
  {
   "cell_type": "code",
   "execution_count": 32,
   "metadata": {},
   "outputs": [
    {
     "name": "stdout",
     "output_type": "stream",
     "text": [
      "+----------+---------+---------------+\n",
      "|first_name|last_name|count(order_id)|\n",
      "+----------+---------+---------------+\n",
      "|     Sally|   Kinney|              1|\n",
      "|  Caroline|  Jenkins|              1|\n",
      "|     Glady|    Wells|              1|\n",
      "|       Bee|    Baker|              1|\n",
      "| Nathaniel|  Richard|              1|\n",
      "|  Genoveva|    Tyler|              1|\n",
      "|    Rudolf|  Gilliam|              1|\n",
      "|   Suellen|  Mercado|              1|\n",
      "|   Shantel|  Gregory|              1|\n",
      "|     Julia|   Joyner|              1|\n",
      "|   Stefany|   Potter|              1|\n",
      "|   Elenore|  William|              1|\n",
      "|  Rochelle|     Ward|              1|\n",
      "|   Shemeka|    Lyons|              1|\n",
      "|  Casimira|  Chapman|              1|\n",
      "|      Aron|  Wiggins|              1|\n",
      "|    Keitha|    Black|              1|\n",
      "|   Rochell| Cantrell|              1|\n",
      "|      Sung| Chambers|              1|\n",
      "|    Edmund|   Gaines|              1|\n",
      "+----------+---------+---------------+\n",
      "only showing top 20 rows\n",
      "\n"
     ]
    }
   ],
   "source": [
    "result_6 = customers.join(orders, customers[\"customer_id\"] == orders[\"customer_id\"], \"inner\")\n",
    "result_6 = result_6.groupBy(\n",
    "    customers[\"customer_id\"], customers[\"first_name\"], customers[\"last_name\"]\n",
    ").agg({\"order_id\": \"count\"})\n",
    "result_6 = result_6.select(\"first_name\", \"last_name\", \"count(order_id)\")\n",
    "result_6 = result_6.filter(result_6[\"count(order_id)\"] >= 1)\n",
    "result_6 = result_6.orderBy(\"count(order_id)\")\n",
    "result_6.show()"
   ]
  },
  {
   "cell_type": "markdown",
   "metadata": {},
   "source": [
    "### Задача 7\n",
    "\n",
    "Напишите запрос для расчета общего объема продаж по каждому продукту (с учетом количества продукта, его цены по прейскуранту и скидки)."
   ]
  },
  {
   "cell_type": "code",
   "execution_count": 35,
   "metadata": {},
   "outputs": [
    {
     "name": "stdout",
     "output_type": "stream",
     "text": [
      "+--------------------+----------+\n",
      "|        product_name|     total|\n",
      "+--------------------+----------+\n",
      "|Electra Straight ...|   362.691|\n",
      "|Electra Heartchya...|   1929.54|\n",
      "|Trek Precaliber 2...|   255.992|\n",
      "|Electra Townie Co...|  1646.982|\n",
      "|Electra Townie Ba...|  6497.928|\n",
      "|Electra Tiger Sha...|  1804.744|\n",
      "|Trek Stache Carbo...|  4149.155|\n",
      "|Heller Bloodhound...|   8992.54|\n",
      "|Trek Precaliber 2...|   640.083|\n",
      "|Electra Townie Or...|  1574.965|\n",
      "|Electra Townie Or...|  4963.927|\n",
      "|Electra Amsterdam...|  3035.975|\n",
      "|Electra Townie Or...| 29164.205|\n",
      "|Trek Slash 8 27.5...|555558.611|\n",
      "|Trek Boy's Kickst...|  3236.784|\n",
      "|Electra Townie Or...|  2069.954|\n",
      "|Sun Bicycles Spid...| 19491.966|\n",
      "|Trek Remedy 7 27....| 14069.953|\n",
      "|Trek Domane ALR 4...|  9749.437|\n",
      "|Trek Farley Carbo...|  7239.928|\n",
      "+--------------------+----------+\n",
      "only showing top 20 rows\n",
      "\n"
     ]
    }
   ],
   "source": [
    "join_p_oi = products.join(order_items, products[\"product_id\"] == order_items[\"product_id\"], \"inner\")\n",
    "result_7 = join_p_oi.groupBy(\"product_name\").agg(\n",
    "    (\n",
    "        f.sum(join_p_oi[\"quantity\"] * order_items[\"list_price\"] * (1 - join_p_oi[\"discount\"]))\n",
    "    ).alias(\"total\")\n",
    ")\n",
    "result_7 = result_7.withColumn(\"total\", f.round(result_7[\"total\"], 3))\n",
    "result_7.show()"
   ]
  },
  {
   "cell_type": "markdown",
   "metadata": {},
   "source": [
    "### Задача 8\n",
    "\n",
    "Напишите запрос с расчетом количества заказов по каждому статусу заказа."
   ]
  },
  {
   "cell_type": "code",
   "execution_count": 38,
   "metadata": {},
   "outputs": [
    {
     "name": "stdout",
     "output_type": "stream",
     "text": [
      "+------------+-----+\n",
      "|order_status|count|\n",
      "+------------+-----+\n",
      "|           1|   62|\n",
      "|           2|   63|\n",
      "|           3|   45|\n",
      "|           4| 1445|\n",
      "+------------+-----+\n",
      "\n"
     ]
    }
   ],
   "source": [
    "result_8 = (orders.groupBy(\"order_status\")\n",
    "    .count()\n",
    "    .orderBy(\"order_status\")\n",
    ")\n",
    "result_8.show()"
   ]
  },
  {
   "cell_type": "markdown",
   "metadata": {},
   "source": [
    "### Задача 9\n",
    "\n",
    "Напишите запрос для расчета общей суммы продаж за каждый месяц."
   ]
  },
  {
   "cell_type": "code",
   "execution_count": null,
   "metadata": {},
   "outputs": [
    {
     "name": "stdout",
     "output_type": "stream",
     "text": [
      "+-----+-------------------+\n",
      "|month|total_sum_per_month|\n",
      "+-----+-------------------+\n",
      "|    1|         882193.007|\n",
      "|    2|         669694.131|\n",
      "|    3|         853503.224|\n",
      "|    4|        1212356.825|\n",
      "|    5|         473503.247|\n",
      "|    6|         589616.769|\n",
      "|    7|         440890.107|\n",
      "|    8|         524588.647|\n",
      "|    9|         575460.831|\n",
      "|   10|         526187.518|\n",
      "|   11|         475269.321|\n",
      "|   12|         465852.931|\n",
      "+-----+-------------------+\n",
      "\n"
     ]
    }
   ],
   "source": [
    "join_o_oi = orders.join(order_items, orders[\"order_id\"] == order_items[\"order_id\"], \"inner\")\n",
    "\n",
    "result_9 = join_o_oi.select(f.month(\"order_date\").alias(\"month\"), \"quantity\", \"list_price\", \"discount\")\n",
    "\n",
    "result_9 = result_9.groupBy(\"month\").agg(\n",
    "    (f.sum(result_9[\"quantity\"] * result_9[\"list_price\"] * (1 - result_9[\"discount\"]))).alias(\"total_sum_per_month\")\n",
    ")\n",
    "result_9 = result_9.withColumn(\n",
    "    \"total_sum_per_month\", f.round(result_9[\"total_sum_per_month\"], 3)\n",
    ")\n",
    "result_9 = result_9.sort(\"month\")\n",
    "result_9.show()"
   ]
  },
  {
   "cell_type": "markdown",
   "metadata": {},
   "source": [
    "### Задача 10\n",
    "\n",
    "Напишите запрос, чтобы найти топ 5 клиентов, которые потратили больше всего денег."
   ]
  },
  {
   "cell_type": "code",
   "execution_count": 42,
   "metadata": {},
   "outputs": [
    {
     "name": "stdout",
     "output_type": "stream",
     "text": [
      "+----------+---------+---------+\n",
      "|first_name|last_name|total_sum|\n",
      "+----------+---------+---------+\n",
      "|    Sharyn|  Hopkins|34807.939|\n",
      "|   Pamelia|   Newman| 33634.26|\n",
      "|      Abby|   Gamble|32803.006|\n",
      "|   Lyndsey|     Bean|32675.072|\n",
      "|    Emmitt|  Sanchez|31925.886|\n",
      "+----------+---------+---------+\n",
      "\n"
     ]
    }
   ],
   "source": [
    "join_o_c = orders.join(customers, orders[\"customer_id\"] == customers[\"customer_id\"], \"inner\")\n",
    "\n",
    "result_10 = join_o_c.join(order_items, join_o_c[\"order_id\"] == order_items[\"order_id\"], \"inner\")\n",
    "\n",
    "result_10 = result_10.groupBy(\n",
    "    customers[\"customer_id\"], customers[\"first_name\"], customers[\"last_name\"]\n",
    ").agg(\n",
    "    (f.sum(result_10[\"quantity\"] * result_10[\"list_price\"] * (1 - result_10[\"discount\"]))).alias(\"total_sum\")\n",
    ")\n",
    "result_10 = (\n",
    "    result_10.sort(\"total_sum\", ascending=False)\n",
    "    .select(\"first_name\", \"last_name\", \"total_sum\")\n",
    "    .limit(5)\n",
    ")\n",
    "result_10 = result_10.withColumn(\"total_sum\", f.round(result_10[\"total_sum\"], 3))\n",
    "result_10.show()"
   ]
  }
 ],
 "metadata": {
  "kernelspec": {
   "display_name": "Python 3",
   "language": "python",
   "name": "python3"
  },
  "language_info": {
   "codemirror_mode": {
    "name": "ipython",
    "version": 3
   },
   "file_extension": ".py",
   "mimetype": "text/x-python",
   "name": "python",
   "nbconvert_exporter": "python",
   "pygments_lexer": "ipython3",
   "version": "3.12.8"
  }
 },
 "nbformat": 4,
 "nbformat_minor": 2
}
