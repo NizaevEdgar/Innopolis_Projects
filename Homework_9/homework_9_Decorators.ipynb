{
 "cells": [
  {
   "cell_type": "markdown",
   "metadata": {
    "id": "56XCSUKAecqN"
   },
   "source": [
    "# Задача 1 Права администратора\n",
    "\n",
    "Довольно часто в веб-разработке приходится иметь дело с проблемой ограничения доступа. Некоторые авторизованные пользователи должны иметь доступ к ресурсу, другие же нет. Для решения этой проблемы используются роли: администратор, менеджер, пользователь и т.д. и т.п.\n",
    "\n",
    "Легче всего решить эту проблему при помощи декоратора ``role_required(role: str)``, который будет разрешать или запрещать определенные действия, выполняемые над ресурсом, в нашем примере это будет функция ``secret_resource() -> str``.\n",
    "\n",
    "Исходные условия:\n",
    "\n",
    "- Определена функция *secret_resource() -> str*, которая должна быть\n",
    "доступна только пользователям с ролью *'admin'*.\n",
    "\n",
    "- Роль очередного пользователя записана в глобальной переменной *user_role*.\n",
    "\n",
    "Порядок выполнения:\n",
    "\n",
    "Напишите код декоратора ``role_required(role: str)``, который в случае, если пользователь является админом предоставляет доступ к функции\n",
    "*secret_resource*, а иначе возвращает строку **'Permission denied'**.\n",
    "\n",
    "- Вход 1: *admin*\n",
    "\n",
    "- Выход 1: **Permission accepted**\n",
    "\n",
    "- Вход 2: *manager*\n",
    "\n",
    "- Выход 2: **Permission denied**"
   ]
  },
  {
   "cell_type": "code",
   "execution_count": 1,
   "metadata": {
    "id": "8KwYoDuAecqP"
   },
   "outputs": [],
   "source": [
    "import functools\n",
    "\n",
    "USER_ROLE = {\"role\": None}\n",
    "\n",
    "def role_required(role):\n",
    "\n",
    "    \"\"\"\n",
    "    Декоратор ограничивает доступ к функции в зависимости от роли пользователя.\n",
    "    \"\"\"\n",
    "    def decorator(func):\n",
    "        @functools.wraps(func)\n",
    "        def wrapper(*args, **kwargs):\n",
    "            if USER_ROLE == role:\n",
    "                return func(*args, **kwargs)\n",
    "            return \"Permission denied\"\n",
    "        return wrapper\n",
    "    return decorator\n",
    "\n",
    "@role_required(\"admin\")\n",
    "def secret_resource():\n",
    "    \"\"\"\n",
    "    Функция дает доступ для пользователя admin\n",
    "    \"\"\"\n",
    "    return \"Permission accepted\"\n"
   ]
  },
  {
   "cell_type": "code",
   "execution_count": 2,
   "metadata": {
    "id": "DkDr8Or1ecqQ",
    "outputId": "d6cc8ffb-4181-430d-988c-fa474f95c28d"
   },
   "outputs": [
    {
     "name": "stdout",
     "output_type": "stream",
     "text": [
      "admin: Permission accepted\n",
      "manager: Permission denied\n",
      "simple_user: Permission denied\n"
     ]
    }
   ],
   "source": [
    "USER_ROLE = \"admin\"\n",
    "print(f\"{USER_ROLE}: {secret_resource()}\")\n",
    "\n",
    "USER_ROLE = \"manager\"\n",
    "print(f\"{USER_ROLE}: {secret_resource()}\")\n",
    "\n",
    "USER_ROLE = \"simple_user\"\n",
    "print(f\"{USER_ROLE}: {secret_resource()}\")"
   ]
  },
  {
   "cell_type": "markdown",
   "metadata": {
    "id": "YUuKbjSQecqQ"
   },
   "source": [
    "# Задача 2 Кэширование\n",
    "\n",
    "Кэширование помогает сохранять результат запроса (например, из БД) и выдавать его сразу, не совершая новых запросов в БД. Важно определить политику кэширования - время жизни данных в секундах или количество раз, сколько их можно запросить (после чего они будут стёрты из кэша). Мы будем использовать вторую политику для простоты.\n",
    "\n",
    "В этом задании вам придётся реализовать декоратор, который будет принимать несколько аргументов. Так, нужно написать декоратор ``cache(db: str)``, который принимает в качестве параметра *db* - название базы данных, где будет кэшироваться информация. Затем подумайте, как можно передать второй параметр - *expiration*, количество раз, когда данные будут браться из кэша, а затем будут стёрты.\n",
    "\n",
    "При первом запросе необходимо кэшировать результат и возвращать строку вида:\n",
    "\n",
    "Info about: <thing> from <db>, now cached with expire=<expire_time>\n",
    "\n",
    "Где:\n",
    "\n",
    "- *thing* - параметр функции get_info (возвращающая информацию о предмете);\n",
    "- *db* - название БД, где будет кэшироваться информация;\n",
    "- *expire_time* - количество раз, когда данные будут браться из кэша, а затем будут стёрты.\n",
    "\n",
    "При последующих запросах необходимо выдавать следующие строки:\n",
    "\n",
    "``Info about: <thing> cached in <db>, expire=<expiration_time-1>``\n",
    "\n",
    "``Info about: <thing>cached in <db>, expire=<expiration_time-2>``\n",
    "\n",
    "``Info about: <thing>cached in <db>, expire=<expiration_time-3>``\n",
    "\n",
    "Вплоть до:\n",
    "\n",
    "``Info about: <thing>cached in <db>, expire=0``\n",
    "\n",
    "Исходные условия:\n",
    "\n",
    "- Определена функция *get_info(thing: str) -> str*, которая возвращает информацию о предмете *thing*."
   ]
  },
  {
   "cell_type": "code",
   "execution_count": 3,
   "metadata": {
    "executionInfo": {
     "elapsed": 253,
     "status": "ok",
     "timestamp": 1736423074349,
     "user": {
      "displayName": "Эдгар Низаев",
      "userId": "15628445951160379931"
     },
     "user_tz": -240
    },
    "id": "KO1UgAD2g3_m"
   },
   "outputs": [],
   "source": [
    "import functools\n",
    "\n",
    "CACHE_DICT = {}\n",
    "\n",
    "def get_info(thing):\n",
    "  \"\"\"\n",
    "  Функция возвращает информацию о thing\n",
    "  \"\"\"\n",
    "  return f\"{thing} info\"\n",
    "\n",
    "def cache(db, expiration_time):\n",
    "    \"\"\"\n",
    "    Декоратор добавляет информацию о thing и об expiration_time - количестве раз,\n",
    "    когда данные будут браться из кэша, а затем будут стёрты - в базу данных db.\n",
    "\n",
    "    \"\"\"\n",
    "\n",
    "    def decorator(func):\n",
    "\n",
    "        @functools.wraps(func)\n",
    "        def wrapper(thing):\n",
    "            cache_key = (f\"db={db},expiration_time={expiration_time},thing={thing}\")\n",
    "            if cache_key not in CACHE_DICT:\n",
    "                CACHE_DICT[cache_key] = [get_info(thing), expiration_time]\n",
    "                print(f\"Info about: {thing} from {db}, now cached with expire={CACHE_DICT[cache_key][1]}\")\n",
    "                CACHE_DICT[cache_key][1] -= 1\n",
    "                return CACHE_DICT[cache_key][0]\n",
    "            if CACHE_DICT[cache_key][1] > 0:\n",
    "                print(f\"Info about: {thing} cached in {db}, expire={CACHE_DICT[cache_key][1]}\")\n",
    "                CACHE_DICT[cache_key][1] -= 1\n",
    "                return CACHE_DICT[cache_key][0]\n",
    "            print(f\"Info about: {thing} cached in {db}, expire={CACHE_DICT[cache_key][1]}\")\n",
    "            del CACHE_DICT[cache_key] # очистка кеша\n",
    "\n",
    "        return wrapper\n",
    "    return decorator"
   ]
  },
  {
   "cell_type": "code",
   "execution_count": 4,
   "metadata": {
    "executionInfo": {
     "elapsed": 271,
     "status": "ok",
     "timestamp": 1736423078485,
     "user": {
      "displayName": "Эдгар Низаев",
      "userId": "15628445951160379931"
     },
     "user_tz": -240
    },
    "id": "O5SRM1iNpcBV"
   },
   "outputs": [],
   "source": [
    "@cache(\"postgresql\", 5)\n",
    "def get_info_1(thing):\n",
    "    return get_info(thing)\n",
    "\n",
    "@cache(\"sqlite\", 3)\n",
    "def get_info_2(thing):\n",
    "    return get_info(thing)"
   ]
  },
  {
   "cell_type": "code",
   "execution_count": 5,
   "metadata": {
    "colab": {
     "base_uri": "https://localhost:8080/"
    },
    "executionInfo": {
     "elapsed": 269,
     "status": "ok",
     "timestamp": 1736423079786,
     "user": {
      "displayName": "Эдгар Низаев",
      "userId": "15628445951160379931"
     },
     "user_tz": -240
    },
    "id": "ail0jeompcSE",
    "outputId": "55658f27-04ed-43c8-bc33-b352d83dbc5a"
   },
   "outputs": [
    {
     "name": "stdout",
     "output_type": "stream",
     "text": [
      "Info about: bike_store from postgresql, now cached with expire=5\n",
      "Info about: bike_store cached in postgresql, expire=4\n",
      "Info about: bike_store cached in postgresql, expire=3\n",
      "Info about: bike_store cached in postgresql, expire=2\n",
      "Info about: bike_store cached in postgresql, expire=1\n",
      "Info about: bike_store cached in postgresql, expire=0\n",
      "Info about: bike_store from postgresql, now cached with expire=5\n",
      "Info about: bike_store from sqlite, now cached with expire=3\n",
      "Info about: bike_store cached in sqlite, expire=2\n",
      "Info about: bike_store cached in sqlite, expire=1\n",
      "Info about: bike_store cached in sqlite, expire=0\n",
      "Info about: bike_store from sqlite, now cached with expire=3\n"
     ]
    }
   ],
   "source": [
    "for i in range(7):\n",
    "    get_info_1(\"bike_store\")\n",
    "\n",
    "for i in range(5):\n",
    "    get_info_2(\"bike_store\")"
   ]
  },
  {
   "cell_type": "code",
   "execution_count": 6,
   "metadata": {
    "colab": {
     "base_uri": "https://localhost:8080/"
    },
    "executionInfo": {
     "elapsed": 270,
     "status": "ok",
     "timestamp": 1736423082716,
     "user": {
      "displayName": "Эдгар Низаев",
      "userId": "15628445951160379931"
     },
     "user_tz": -240
    },
    "id": "T7Gf3RBWtTxb",
    "outputId": "839c44a6-865e-4fb3-af78-187a94ac0e8b"
   },
   "outputs": [
    {
     "name": "stdout",
     "output_type": "stream",
     "text": [
      "Info about: users from postgresql, now cached with expire=5\n",
      "Info about: users cached in postgresql, expire=4\n",
      "Info about: users cached in postgresql, expire=3\n",
      "Info about: users cached in postgresql, expire=2\n",
      "Info about: users cached in postgresql, expire=1\n",
      "Info about: users cached in postgresql, expire=0\n",
      "Info about: users from postgresql, now cached with expire=5\n",
      "Info about: users from sqlite, now cached with expire=3\n",
      "Info about: users cached in sqlite, expire=2\n",
      "Info about: users cached in sqlite, expire=1\n",
      "Info about: users cached in sqlite, expire=0\n",
      "Info about: users from sqlite, now cached with expire=3\n"
     ]
    }
   ],
   "source": [
    "for i in range(7):\n",
    "    get_info_1(\"users\")\n",
    "\n",
    "for i in range(5):\n",
    "    get_info_2(\"users\")"
   ]
  },
  {
   "cell_type": "markdown",
   "metadata": {
    "id": "9O9LJoDCecqR"
   },
   "source": [
    "# Задача 3 Контекстный менеджер safe_write\n",
    "\n",
    "Реализуйте контекстный менеджер ``safe_write``, который принимает один аргумент: filename — имя файла.\n",
    "\n",
    "Контекстный менеджер должен позволять записывать информацию в файл с именем *filename*. Причем если во время записи в файл было возбуждено какое-либо исключение, контекстный менеджер должен поглотить его, отменить все выполненные ранее записи в файл, если они были, вернуть файл в исходное состояние и проинформировать о возбужденном исключении выводом следующего текста:\n",
    "\n",
    "*Во время записи в файл было возбуждено исключение <тип исключения>*\n",
    "\n",
    "Дополнительная проверка данных на корректность не требуется. Гарантируется, что реализованный контекстный менеджер используется только с корректными данными."
   ]
  },
  {
   "cell_type": "code",
   "execution_count": 7,
   "metadata": {
    "id": "NiKSQepOecqR"
   },
   "outputs": [],
   "source": [
    "from contextlib import contextmanager\n",
    "\n",
    "@contextmanager\n",
    "def safe_write(file_name,  mode=\"w\", encoding=\"utf-8\"):\n",
    "    \"\"\"\n",
    "    Контекстный менеджер записывает в файл текст. Последнюю перед ошибкой запись записываем\n",
    "    в cache и используем ее после ошибки\n",
    "\n",
    "    \"\"\"\n",
    "    # Кэш\n",
    "    try:\n",
    "        with open(file_name, mode=\"r\", encoding=encoding) as file:\n",
    "            cache = file.read()\n",
    "    except:\n",
    "        pass\n",
    "\n",
    "    # Функция\n",
    "    try:\n",
    "        with open(file_name, mode=mode, encoding=encoding) as file:\n",
    "            yield file\n",
    "    except Exception as e:\n",
    "        print(f\"Во время записи в файл было возбуждено исключение {type(e).__name__}\")\n",
    "        with open(file_name, mode=mode, encoding=encoding) as file:\n",
    "            file.write(cache)"
   ]
  },
  {
   "cell_type": "code",
   "execution_count": 8,
   "metadata": {
    "id": "6rpIVfRAecqR",
    "outputId": "df266f87-4c20-4ada-ec30-6fed4274259e"
   },
   "outputs": [
    {
     "name": "stdout",
     "output_type": "stream",
     "text": [
      "Я знаю, что ничего не знаю, но другие не знают и этого.\n"
     ]
    }
   ],
   "source": [
    "with safe_write('test_1.txt') as file:\n",
    "    file.write('Я знаю, что ничего не знаю, но другие не знают и этого.')\n",
    "with open('test_1.txt', encoding=\"utf-8\") as file:\n",
    "    print(file.read())"
   ]
  },
  {
   "cell_type": "code",
   "execution_count": 9,
   "metadata": {
    "id": "2a_tI401ecqR",
    "outputId": "cd634c70-5a5f-4a48-eff6-4ef7c3c3db5b"
   },
   "outputs": [
    {
     "name": "stdout",
     "output_type": "stream",
     "text": [
      "Во время записи в файл было возбуждено исключение ValueError\n",
      "Я знаю, что ничего не знаю, но другие не знают и этого. \n",
      "\n"
     ]
    }
   ],
   "source": [
    "with safe_write('test_2.txt') as file:\n",
    "    file.write('Я знаю, что ничего не знаю, но другие не знают и этого. \\n')\n",
    "\n",
    "with safe_write('test_2.txt') as file:\n",
    "    print('Если ты будешь любознательным, то будешь много знающим.',\n",
    "          file=file,\n",
    "          flush=True\n",
    "          )\n",
    "    raise ValueError\n",
    "\n",
    "with open('test_2.txt', encoding=\"utf-8\") as file:\n",
    "    print(file.read())"
   ]
  }
 ],
 "metadata": {
  "colab": {
   "provenance": []
  },
  "kernelspec": {
   "display_name": "Python 3",
   "language": "python",
   "name": "python3"
  },
  "language_info": {
   "codemirror_mode": {
    "name": "ipython",
    "version": 3
   },
   "file_extension": ".py",
   "mimetype": "text/x-python",
   "name": "python",
   "nbconvert_exporter": "python",
   "pygments_lexer": "ipython3",
   "version": "3.12.8"
  }
 },
 "nbformat": 4,
 "nbformat_minor": 0
}
