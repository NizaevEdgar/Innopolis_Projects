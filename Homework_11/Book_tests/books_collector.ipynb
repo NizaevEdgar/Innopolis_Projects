{
 "cells": [
  {
   "cell_type": "code",
   "execution_count": 1,
   "metadata": {},
   "outputs": [
    {
     "name": "stdout",
     "output_type": "stream",
     "text": [
      "Жанр книги Властелин колец: Фантастика\n",
      "Жанр книги Гарри Поттер: Фэнтези\n",
      "Жанр книги Матрица: Научная фантастика\n",
      "Книги в жанре Фантастики:['Властелин колец']\n",
      "Все книги и их жанры: {'Властелин колец': 'Фантастика', 'Гарри Поттер': 'Фэнтези', 'Матрица': 'Научная фантастика', 'Оно': 'Ужасы'}\n",
      "Книги для детей: ['Властелин колец', 'Гарри Поттер', 'Матрица']\n",
      "Список избранных книг(до удаления): ['Властелин колец', 'Гарри Поттер']\n",
      "Список избранных книг (после удаления): ['Властелин колец']\n"
     ]
    }
   ],
   "source": [
    "from Books_Collector import BooksCollector\n",
    "\n",
    "#Пример использования класса \n",
    "collector = BooksCollector()\n",
    "\n",
    "#Добавление книг \n",
    "collector.add_new_book('Властелин колец')\n",
    "collector.add_new_book('Гарри Поттер')\n",
    "collector.add_new_book('Матрица')\n",
    "collector.add_new_book('Оно')\n",
    "\n",
    "#Установка жанров \n",
    "collector.set_book_genre('Властелин колец','Фантастика')\n",
    "collector.set_book_genre('Гарри Поттер','Фэнтези')\n",
    "collector.set_book_genre('Матрица','Научная фантастика')\n",
    "collector.set_book_genre('Оно','Ужасы')\n",
    "\n",
    "#Получение жанров \n",
    "print(f'Жанр книги Властелин колец: {collector.get_book_genre('Властелин колец')}')\n",
    "print(f'Жанр книги Гарри Поттер: {collector.get_book_genre('Гарри Поттер')}')\n",
    "print(f'Жанр книги Матрица: {collector.get_book_genre('Матрица')}')\n",
    "\n",
    "#Получение книг определенного жанра\n",
    "fantasy_books=collector.get_books_with_specific_genre('Фантастика')\n",
    "print(f'Книги в жанре Фантастики:{fantasy_books}')\n",
    "\n",
    "#Получение всех книг жанра \n",
    "all_books=collector.get_books_genre()\n",
    "print('Все книги и их жанры:',all_books)\n",
    "\n",
    "#Получение книг для детей\n",
    "children_books=collector.get_books_for_children()\n",
    "print('Книги для детей:',children_books)\n",
    "\n",
    "#Добавление в избранное\n",
    "collector.add_book_in_favorites('Властелин колец')\n",
    "collector.add_book_in_favorites('Гарри Поттер')\n",
    "favorites_list=collector.get_list_of_favorites_books()\n",
    "print('Список избранных книг(до удаления):',favorites_list)\n",
    "\n",
    "#Удаление из избранного\n",
    "collector.delete_book_from_favorites('Гарри Поттер')\n",
    "\n",
    "#Получение списка избранных \n",
    "favorites_list=collector.get_list_of_favorites_books()\n",
    "print('Список избранных книг (после удаления):',favorites_list)"
   ]
  }
 ],
 "metadata": {
  "kernelspec": {
   "display_name": "Python 3",
   "language": "python",
   "name": "python3"
  },
  "language_info": {
   "codemirror_mode": {
    "name": "ipython",
    "version": 3
   },
   "file_extension": ".py",
   "mimetype": "text/x-python",
   "name": "python",
   "nbconvert_exporter": "python",
   "pygments_lexer": "ipython3",
   "version": "3.13.0"
  }
 },
 "nbformat": 4,
 "nbformat_minor": 2
}
