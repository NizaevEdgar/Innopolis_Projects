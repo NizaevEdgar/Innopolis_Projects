{
 "cells": [
  {
   "cell_type": "code",
   "execution_count": 18,
   "metadata": {},
   "outputs": [
    {
     "name": "stdout",
     "output_type": "stream",
     "text": [
      "Карта: 0000 0000 0000 0000\n",
      "Владелец: Ivan Ivanov\n",
      "Срок действия: 01/30\n",
      "CVC: 123\n",
      "True\n"
     ]
    }
   ],
   "source": [
    "from credit_cards import CreditCard\n",
    "from payment_form import PaymentForm\n",
    "\n",
    "card = CreditCard(\"0000 0000 0000 0000\", \"Ivan Ivanov\", \"01/30\", \"123\", 500)\n",
    "payment_form = PaymentForm(card)\n",
    "\n",
    "# Получение данных карты\n",
    "print(f\"Карта: {card.getCardNumber()}\")\n",
    "print(f\"Владелец: {card.getCardHolder()}\")\n",
    "print(f\"Срок действия: {card.getExpiryDate()}\")\n",
    "print(f\"CVC: {card.getCvv()}\")\n",
    "# Обработка платежа\n",
    "amount = 100.00\n",
    "result = payment_form.pay(amount)\n",
    "print(result)\n"
   ]
  },
  {
   "cell_type": "code",
   "execution_count": 19,
   "metadata": {},
   "outputs": [
    {
     "name": "stdout",
     "output_type": "stream",
     "text": [
      "Ошибка при попытке чрезмерного списания: Недостаточно средств на карте\n"
     ]
    }
   ],
   "source": [
    "# Попытка чрезмерного списания\n",
    "try:\n",
    "    card.charge(1500.00) # Это вызовет исключение\n",
    "except Exception as e:\n",
    "    print(f\"Ошибка при попытке чрезмерного списания: {e}\")"
   ]
  },
  {
   "cell_type": "code",
   "execution_count": 20,
   "metadata": {},
   "outputs": [
    {
     "name": "stdout",
     "output_type": "stream",
     "text": [
      "True\n"
     ]
    }
   ],
   "source": [
    "# Успешный платеж\n",
    "result = payment_form.pay(50.00)\n",
    "print(result)"
   ]
  }
 ],
 "metadata": {
  "kernelspec": {
   "display_name": "Python 3",
   "language": "python",
   "name": "python3"
  },
  "language_info": {
   "codemirror_mode": {
    "name": "ipython",
    "version": 3
   },
   "file_extension": ".py",
   "mimetype": "text/x-python",
   "name": "python",
   "nbconvert_exporter": "python",
   "pygments_lexer": "ipython3",
   "version": "3.13.0"
  }
 },
 "nbformat": 4,
 "nbformat_minor": 2
}
