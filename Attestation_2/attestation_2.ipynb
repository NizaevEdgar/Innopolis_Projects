{
 "cells": [
  {
   "cell_type": "markdown",
   "metadata": {},
   "source": [
    "# Запросы к базе данных"
   ]
  },
  {
   "cell_type": "code",
   "execution_count": 1,
   "metadata": {},
   "outputs": [],
   "source": [
    "import sqlite3\n",
    "import pandas as pd\n",
    "import numpy as np\n",
    "import matplotlib.pyplot as plt\n",
    "import seaborn as sns\n",
    "import plotly.express as px\n",
    "# import plotly.io as pio\n",
    "# pio.renderers.default='notebook'"
   ]
  },
  {
   "cell_type": "markdown",
   "metadata": {},
   "source": [
    "**Диаграмма базы данных**\n",
    "![Диаграмма базы данных](dvdrentalschema.png)"
   ]
  },
  {
   "cell_type": "markdown",
   "metadata": {},
   "source": [
    "Для загрузки и работы с базой данных я выбрал `sqlite3`, в принципе синтаксис считывания и работы с базой данных у всех методов практически похож."
   ]
  },
  {
   "cell_type": "code",
   "execution_count": 2,
   "metadata": {},
   "outputs": [],
   "source": [
    "database_path = \"C:\\\\Innopolis\\\\Project_Module_2\\\\Attestation_2\\\\archive\\\\sqlite-sakila.db\"\n",
    "\n",
    "\n",
    "class GetDatabase:\n",
    "    \"\"\"\n",
    "    Класс для загрузки базы данных\n",
    "    \"\"\"\n",
    "\n",
    "    def __init__(self, database_path):\n",
    "        self.database_path = database_path\n",
    "\n",
    "    def execute_query(self, query):\n",
    "        with sqlite3.connect(database_path) as connection:\n",
    "            cursor = connection.cursor()\n",
    "            try:\n",
    "                cursor.execute(query)\n",
    "                colnames = [desc[0] for desc in cursor.description]\n",
    "                result = cursor.fetchall()\n",
    "                return pd.DataFrame(result, columns=colnames)\n",
    "            except Exception as e:\n",
    "                print(f\"Error: {e}\")\n",
    "\n",
    "db = GetDatabase(database_path)"
   ]
  },
  {
   "cell_type": "code",
   "execution_count": 4,
   "metadata": {},
   "outputs": [
    {
     "data": {
      "text/html": [
       "<div>\n",
       "<style scoped>\n",
       "    .dataframe tbody tr th:only-of-type {\n",
       "        vertical-align: middle;\n",
       "    }\n",
       "\n",
       "    .dataframe tbody tr th {\n",
       "        vertical-align: top;\n",
       "    }\n",
       "\n",
       "    .dataframe thead th {\n",
       "        text-align: right;\n",
       "    }\n",
       "</style>\n",
       "<table border=\"1\" class=\"dataframe\">\n",
       "  <thead>\n",
       "    <tr style=\"text-align: right;\">\n",
       "      <th></th>\n",
       "      <th>name</th>\n",
       "      <th>type</th>\n",
       "    </tr>\n",
       "  </thead>\n",
       "  <tbody>\n",
       "    <tr>\n",
       "      <th>0</th>\n",
       "      <td>store</td>\n",
       "      <td>table</td>\n",
       "    </tr>\n",
       "    <tr>\n",
       "      <th>1</th>\n",
       "      <td>staff</td>\n",
       "      <td>table</td>\n",
       "    </tr>\n",
       "    <tr>\n",
       "      <th>2</th>\n",
       "      <td>rental</td>\n",
       "      <td>table</td>\n",
       "    </tr>\n",
       "    <tr>\n",
       "      <th>3</th>\n",
       "      <td>payment</td>\n",
       "      <td>table</td>\n",
       "    </tr>\n",
       "    <tr>\n",
       "      <th>4</th>\n",
       "      <td>language</td>\n",
       "      <td>table</td>\n",
       "    </tr>\n",
       "    <tr>\n",
       "      <th>5</th>\n",
       "      <td>inventory</td>\n",
       "      <td>table</td>\n",
       "    </tr>\n",
       "    <tr>\n",
       "      <th>6</th>\n",
       "      <td>film_category</td>\n",
       "      <td>table</td>\n",
       "    </tr>\n",
       "    <tr>\n",
       "      <th>7</th>\n",
       "      <td>film_actor</td>\n",
       "      <td>table</td>\n",
       "    </tr>\n",
       "    <tr>\n",
       "      <th>8</th>\n",
       "      <td>film</td>\n",
       "      <td>table</td>\n",
       "    </tr>\n",
       "    <tr>\n",
       "      <th>9</th>\n",
       "      <td>customer</td>\n",
       "      <td>table</td>\n",
       "    </tr>\n",
       "    <tr>\n",
       "      <th>10</th>\n",
       "      <td>country</td>\n",
       "      <td>table</td>\n",
       "    </tr>\n",
       "    <tr>\n",
       "      <th>11</th>\n",
       "      <td>city</td>\n",
       "      <td>table</td>\n",
       "    </tr>\n",
       "    <tr>\n",
       "      <th>12</th>\n",
       "      <td>category</td>\n",
       "      <td>table</td>\n",
       "    </tr>\n",
       "    <tr>\n",
       "      <th>13</th>\n",
       "      <td>address</td>\n",
       "      <td>table</td>\n",
       "    </tr>\n",
       "    <tr>\n",
       "      <th>14</th>\n",
       "      <td>actor</td>\n",
       "      <td>table</td>\n",
       "    </tr>\n",
       "  </tbody>\n",
       "</table>\n",
       "</div>"
      ],
      "text/plain": [
       "             name   type\n",
       "0           store  table\n",
       "1           staff  table\n",
       "2          rental  table\n",
       "3         payment  table\n",
       "4        language  table\n",
       "5       inventory  table\n",
       "6   film_category  table\n",
       "7      film_actor  table\n",
       "8            film  table\n",
       "9        customer  table\n",
       "10        country  table\n",
       "11           city  table\n",
       "12       category  table\n",
       "13        address  table\n",
       "14          actor  table"
      ]
     },
     "execution_count": 4,
     "metadata": {},
     "output_type": "execute_result"
    }
   ],
   "source": [
    "query_0 = '''\n",
    "SELECT name, type \n",
    "FROM sqlite_master \n",
    "WHERE type = 'table'\n",
    "'''\n",
    "\n",
    "df_0 = db.execute_query(query_0)\n",
    "df_0"
   ]
  },
  {
   "cell_type": "markdown",
   "metadata": {},
   "source": [
    "## Какова доля фильмов в каждой рейтинговой категории (G, PG, PG-13, R и т.д.) в нашем ассортименте?"
   ]
  },
  {
   "cell_type": "code",
   "execution_count": 5,
   "metadata": {},
   "outputs": [
    {
     "data": {
      "text/html": [
       "<div>\n",
       "<style scoped>\n",
       "    .dataframe tbody tr th:only-of-type {\n",
       "        vertical-align: middle;\n",
       "    }\n",
       "\n",
       "    .dataframe tbody tr th {\n",
       "        vertical-align: top;\n",
       "    }\n",
       "\n",
       "    .dataframe thead th {\n",
       "        text-align: right;\n",
       "    }\n",
       "</style>\n",
       "<table border=\"1\" class=\"dataframe\">\n",
       "  <thead>\n",
       "    <tr style=\"text-align: right;\">\n",
       "      <th></th>\n",
       "      <th>rating</th>\n",
       "      <th>movie_count</th>\n",
       "      <th>part</th>\n",
       "    </tr>\n",
       "  </thead>\n",
       "  <tbody>\n",
       "    <tr>\n",
       "      <th>0</th>\n",
       "      <td>PG-13</td>\n",
       "      <td>223</td>\n",
       "      <td>22.0</td>\n",
       "    </tr>\n",
       "    <tr>\n",
       "      <th>1</th>\n",
       "      <td>NC-17</td>\n",
       "      <td>210</td>\n",
       "      <td>21.0</td>\n",
       "    </tr>\n",
       "    <tr>\n",
       "      <th>2</th>\n",
       "      <td>R</td>\n",
       "      <td>195</td>\n",
       "      <td>19.0</td>\n",
       "    </tr>\n",
       "    <tr>\n",
       "      <th>3</th>\n",
       "      <td>PG</td>\n",
       "      <td>194</td>\n",
       "      <td>19.0</td>\n",
       "    </tr>\n",
       "    <tr>\n",
       "      <th>4</th>\n",
       "      <td>G</td>\n",
       "      <td>178</td>\n",
       "      <td>17.0</td>\n",
       "    </tr>\n",
       "  </tbody>\n",
       "</table>\n",
       "</div>"
      ],
      "text/plain": [
       "  rating  movie_count  part\n",
       "0  PG-13          223  22.0\n",
       "1  NC-17          210  21.0\n",
       "2      R          195  19.0\n",
       "3     PG          194  19.0\n",
       "4      G          178  17.0"
      ]
     },
     "execution_count": 5,
     "metadata": {},
     "output_type": "execute_result"
    }
   ],
   "source": [
    "query_1 = \"\"\"\n",
    "SELECT rating, \n",
    "       COUNT(rating) AS movie_count,\n",
    "       ROUND((COUNT(rating)*100 / (SELECT COUNT(rating) FROM film)), 2) AS part\n",
    "FROM film\n",
    "GROUP BY rating\n",
    "ORDER BY part DESC;\n",
    "\"\"\"\n",
    "\n",
    "df_1 = db.execute_query(query_1)\n",
    "df_1.to_csv(\"./film_rating.csv\", index=False)\n",
    "df_1"
   ]
  },
  {
   "cell_type": "code",
   "execution_count": 6,
   "metadata": {},
   "outputs": [
    {
     "data": {
      "image/png": "[encoded data removed]",
      "text/plain": [
       "<Figure size 640x480 with 1 Axes>"
      ]
     },
     "metadata": {},
     "output_type": "display_data"
    }
   ],
   "source": [
    "\n",
    "fig, ax = plt.subplots()\n",
    "ax.pie(\n",
    "    df_1['part'], \n",
    "    labels=df_1['rating'],  \n",
    "    autopct='%1.0f%%', \n",
    "    wedgeprops={'lw':1, 'ls':'--','edgecolor':\"k\"}\n",
    ")\n",
    "\n",
    "plt.title(\"Доля фильмов (%) относительно рейтинга фильма\")\n",
    "plt.show()"
   ]
  },
  {
   "cell_type": "markdown",
   "metadata": {},
   "source": [
    "## Какие категории фильмов чаще всего арендуются клиентами?"
   ]
  },
  {
   "cell_type": "code",
   "execution_count": 7,
   "metadata": {},
   "outputs": [
    {
     "data": {
      "text/html": [
       "<div>\n",
       "<style scoped>\n",
       "    .dataframe tbody tr th:only-of-type {\n",
       "        vertical-align: middle;\n",
       "    }\n",
       "\n",
       "    .dataframe tbody tr th {\n",
       "        vertical-align: top;\n",
       "    }\n",
       "\n",
       "    .dataframe thead th {\n",
       "        text-align: right;\n",
       "    }\n",
       "</style>\n",
       "<table border=\"1\" class=\"dataframe\">\n",
       "  <thead>\n",
       "    <tr style=\"text-align: right;\">\n",
       "      <th></th>\n",
       "      <th>film_category</th>\n",
       "      <th>rental_count</th>\n",
       "    </tr>\n",
       "  </thead>\n",
       "  <tbody>\n",
       "    <tr>\n",
       "      <th>0</th>\n",
       "      <td>Sports</td>\n",
       "      <td>1179</td>\n",
       "    </tr>\n",
       "    <tr>\n",
       "      <th>1</th>\n",
       "      <td>Animation</td>\n",
       "      <td>1166</td>\n",
       "    </tr>\n",
       "    <tr>\n",
       "      <th>2</th>\n",
       "      <td>Action</td>\n",
       "      <td>1112</td>\n",
       "    </tr>\n",
       "    <tr>\n",
       "      <th>3</th>\n",
       "      <td>Sci-Fi</td>\n",
       "      <td>1101</td>\n",
       "    </tr>\n",
       "    <tr>\n",
       "      <th>4</th>\n",
       "      <td>Family</td>\n",
       "      <td>1096</td>\n",
       "    </tr>\n",
       "    <tr>\n",
       "      <th>5</th>\n",
       "      <td>Drama</td>\n",
       "      <td>1060</td>\n",
       "    </tr>\n",
       "    <tr>\n",
       "      <th>6</th>\n",
       "      <td>Documentary</td>\n",
       "      <td>1050</td>\n",
       "    </tr>\n",
       "    <tr>\n",
       "      <th>7</th>\n",
       "      <td>Foreign</td>\n",
       "      <td>1033</td>\n",
       "    </tr>\n",
       "    <tr>\n",
       "      <th>8</th>\n",
       "      <td>Games</td>\n",
       "      <td>969</td>\n",
       "    </tr>\n",
       "    <tr>\n",
       "      <th>9</th>\n",
       "      <td>Children</td>\n",
       "      <td>945</td>\n",
       "    </tr>\n",
       "    <tr>\n",
       "      <th>10</th>\n",
       "      <td>Comedy</td>\n",
       "      <td>941</td>\n",
       "    </tr>\n",
       "    <tr>\n",
       "      <th>11</th>\n",
       "      <td>New</td>\n",
       "      <td>940</td>\n",
       "    </tr>\n",
       "    <tr>\n",
       "      <th>12</th>\n",
       "      <td>Classics</td>\n",
       "      <td>939</td>\n",
       "    </tr>\n",
       "    <tr>\n",
       "      <th>13</th>\n",
       "      <td>Horror</td>\n",
       "      <td>846</td>\n",
       "    </tr>\n",
       "    <tr>\n",
       "      <th>14</th>\n",
       "      <td>Travel</td>\n",
       "      <td>837</td>\n",
       "    </tr>\n",
       "    <tr>\n",
       "      <th>15</th>\n",
       "      <td>Music</td>\n",
       "      <td>830</td>\n",
       "    </tr>\n",
       "  </tbody>\n",
       "</table>\n",
       "</div>"
      ],
      "text/plain": [
       "   film_category  rental_count\n",
       "0         Sports          1179\n",
       "1      Animation          1166\n",
       "2         Action          1112\n",
       "3         Sci-Fi          1101\n",
       "4         Family          1096\n",
       "5          Drama          1060\n",
       "6    Documentary          1050\n",
       "7        Foreign          1033\n",
       "8          Games           969\n",
       "9       Children           945\n",
       "10        Comedy           941\n",
       "11           New           940\n",
       "12      Classics           939\n",
       "13        Horror           846\n",
       "14        Travel           837\n",
       "15         Music           830"
      ]
     },
     "execution_count": 7,
     "metadata": {},
     "output_type": "execute_result"
    }
   ],
   "source": [
    "query_2 = \"\"\"\n",
    "SELECT c.name AS film_category,\n",
    "       COUNT(r.rental_id) AS rental_count\n",
    "FROM rental AS r\n",
    "JOIN inventory AS i ON r.inventory_id = i.inventory_id\n",
    "JOIN film AS f ON i.film_id = f.film_id\n",
    "JOIN film_category AS fc ON f.film_id = fc.film_id\n",
    "JOIN category AS c ON fc.category_id = c.category_id\n",
    "GROUP BY c.name\n",
    "ORDER BY rental_count DESC;\n",
    "\"\"\"\n",
    "\n",
    "df_2 = db.execute_query(query_2)\n",
    "df_2.to_csv(\"./film_category.csv\", index=False)\n",
    "df_2"
   ]
  },
  {
   "cell_type": "code",
   "execution_count": 8,
   "metadata": {},
   "outputs": [
    {
     "data": {
      "image/png": "[encoded data removed]",
      "text/plain": [
       "<Figure size 1200x600 with 1 Axes>"
      ]
     },
     "metadata": {},
     "output_type": "display_data"
    }
   ],
   "source": [
    "plt.figure(figsize=(12, 6))\n",
    "sns.barplot(\n",
    "    data=df_2, \n",
    "    y=\"rental_count\", \n",
    "    x=\"film_category\", \n",
    "    palette='Paired',  \n",
    "    hue=\"film_category\"\n",
    ")\n",
    "plt.ylabel(\"Число аренд\")\n",
    "plt.xlabel(\"Категории фильмов\")\n",
    "plt.title(\"Арендуемые категории фильмов\")\n",
    "plt.xticks(rotation=45)\n",
    "plt.grid()\n",
    "plt.show()"
   ]
  },
  {
   "cell_type": "markdown",
   "metadata": {},
   "source": [
    "## Какова средняя продолжительность проката (rental duration) для каждой категории фильмов?"
   ]
  },
  {
   "cell_type": "code",
   "execution_count": 9,
   "metadata": {},
   "outputs": [
    {
     "data": {
      "text/html": [
       "<div>\n",
       "<style scoped>\n",
       "    .dataframe tbody tr th:only-of-type {\n",
       "        vertical-align: middle;\n",
       "    }\n",
       "\n",
       "    .dataframe tbody tr th {\n",
       "        vertical-align: top;\n",
       "    }\n",
       "\n",
       "    .dataframe thead th {\n",
       "        text-align: right;\n",
       "    }\n",
       "</style>\n",
       "<table border=\"1\" class=\"dataframe\">\n",
       "  <thead>\n",
       "    <tr style=\"text-align: right;\">\n",
       "      <th></th>\n",
       "      <th>film_category</th>\n",
       "      <th>avg_rental_duration</th>\n",
       "    </tr>\n",
       "  </thead>\n",
       "  <tbody>\n",
       "    <tr>\n",
       "      <th>0</th>\n",
       "      <td>Travel</td>\n",
       "      <td>5.35</td>\n",
       "    </tr>\n",
       "    <tr>\n",
       "      <th>1</th>\n",
       "      <td>Music</td>\n",
       "      <td>5.24</td>\n",
       "    </tr>\n",
       "    <tr>\n",
       "      <th>2</th>\n",
       "      <td>Family</td>\n",
       "      <td>5.17</td>\n",
       "    </tr>\n",
       "    <tr>\n",
       "      <th>3</th>\n",
       "      <td>Foreign</td>\n",
       "      <td>5.11</td>\n",
       "    </tr>\n",
       "    <tr>\n",
       "      <th>4</th>\n",
       "      <td>Drama</td>\n",
       "      <td>5.08</td>\n",
       "    </tr>\n",
       "    <tr>\n",
       "      <th>5</th>\n",
       "      <td>Games</td>\n",
       "      <td>5.07</td>\n",
       "    </tr>\n",
       "    <tr>\n",
       "      <th>6</th>\n",
       "      <td>Classics</td>\n",
       "      <td>5.07</td>\n",
       "    </tr>\n",
       "    <tr>\n",
       "      <th>7</th>\n",
       "      <td>Children</td>\n",
       "      <td>5.03</td>\n",
       "    </tr>\n",
       "    <tr>\n",
       "      <th>8</th>\n",
       "      <td>Action</td>\n",
       "      <td>4.95</td>\n",
       "    </tr>\n",
       "    <tr>\n",
       "      <th>9</th>\n",
       "      <td>Comedy</td>\n",
       "      <td>4.93</td>\n",
       "    </tr>\n",
       "    <tr>\n",
       "      <th>10</th>\n",
       "      <td>Sci-Fi</td>\n",
       "      <td>4.89</td>\n",
       "    </tr>\n",
       "    <tr>\n",
       "      <th>11</th>\n",
       "      <td>Animation</td>\n",
       "      <td>4.89</td>\n",
       "    </tr>\n",
       "    <tr>\n",
       "      <th>12</th>\n",
       "      <td>Horror</td>\n",
       "      <td>4.86</td>\n",
       "    </tr>\n",
       "    <tr>\n",
       "      <th>13</th>\n",
       "      <td>Documentary</td>\n",
       "      <td>4.76</td>\n",
       "    </tr>\n",
       "    <tr>\n",
       "      <th>14</th>\n",
       "      <td>New</td>\n",
       "      <td>4.75</td>\n",
       "    </tr>\n",
       "    <tr>\n",
       "      <th>15</th>\n",
       "      <td>Sports</td>\n",
       "      <td>4.72</td>\n",
       "    </tr>\n",
       "  </tbody>\n",
       "</table>\n",
       "</div>"
      ],
      "text/plain": [
       "   film_category  avg_rental_duration\n",
       "0         Travel                 5.35\n",
       "1          Music                 5.24\n",
       "2         Family                 5.17\n",
       "3        Foreign                 5.11\n",
       "4          Drama                 5.08\n",
       "5          Games                 5.07\n",
       "6       Classics                 5.07\n",
       "7       Children                 5.03\n",
       "8         Action                 4.95\n",
       "9         Comedy                 4.93\n",
       "10        Sci-Fi                 4.89\n",
       "11     Animation                 4.89\n",
       "12        Horror                 4.86\n",
       "13   Documentary                 4.76\n",
       "14           New                 4.75\n",
       "15        Sports                 4.72"
      ]
     },
     "execution_count": 9,
     "metadata": {},
     "output_type": "execute_result"
    }
   ],
   "source": [
    "query_3 = \"\"\"\n",
    "SELECT c.name AS film_category, \n",
    "       ROUND(AVG(f.rental_duration), 2) AS avg_rental_duration\n",
    "FROM film AS f\n",
    "JOIN film_category AS fc ON f.film_id = fc.film_id\n",
    "JOIN category AS c ON fc.category_id = c.category_id\n",
    "GROUP BY c.name\n",
    "ORDER BY avg_rental_duration DESC;\n",
    "\"\"\"\n",
    "\n",
    "df_3 = db.execute_query(query_3)\n",
    "df_3.to_csv(\"./avg_rental_duration.csv\", index=False)\n",
    "df_3"
   ]
  },
  {
   "cell_type": "code",
   "execution_count": 10,
   "metadata": {},
   "outputs": [
    {
     "data": {
      "image/png": "[encoded data removed]",
      "text/plain": [
       "<Figure size 1200x600 with 1 Axes>"
      ]
     },
     "metadata": {},
     "output_type": "display_data"
    }
   ],
   "source": [
    "plt.figure(figsize=(12, 6))\n",
    "sns.barplot(\n",
    "    data=df_3, \n",
    "    y=\"avg_rental_duration\", \n",
    "    x=\"film_category\", \n",
    "    palette='Paired',  \n",
    "    hue=\"film_category\"\n",
    ")\n",
    "plt.ylabel(\"Средняя продолжительность проката\")\n",
    "plt.xlabel(\"Категории фильмов\")\n",
    "plt.title(\"Средняя продолжительность проката для каждой категории фильмов\")\n",
    "plt.xticks(rotation=45)\n",
    "plt.grid()\n",
    "plt.show()"
   ]
  },
  {
   "cell_type": "markdown",
   "metadata": {},
   "source": [
    "## Каковы тенденции в ежемесячном доходе от проката (monthly rental revenue) и продажах (sales) за прошедший год?"
   ]
  },
  {
   "cell_type": "code",
   "execution_count": 11,
   "metadata": {},
   "outputs": [
    {
     "data": {
      "text/html": [
       "<div>\n",
       "<style scoped>\n",
       "    .dataframe tbody tr th:only-of-type {\n",
       "        vertical-align: middle;\n",
       "    }\n",
       "\n",
       "    .dataframe tbody tr th {\n",
       "        vertical-align: top;\n",
       "    }\n",
       "\n",
       "    .dataframe thead th {\n",
       "        text-align: right;\n",
       "    }\n",
       "</style>\n",
       "<table border=\"1\" class=\"dataframe\">\n",
       "  <thead>\n",
       "    <tr style=\"text-align: right;\">\n",
       "      <th></th>\n",
       "      <th>year_month</th>\n",
       "      <th>sum_revenue</th>\n",
       "    </tr>\n",
       "  </thead>\n",
       "  <tbody>\n",
       "    <tr>\n",
       "      <th>0</th>\n",
       "      <td>2005-05</td>\n",
       "      <td>4823.44</td>\n",
       "    </tr>\n",
       "    <tr>\n",
       "      <th>1</th>\n",
       "      <td>2005-06</td>\n",
       "      <td>9629.89</td>\n",
       "    </tr>\n",
       "    <tr>\n",
       "      <th>2</th>\n",
       "      <td>2005-07</td>\n",
       "      <td>28368.91</td>\n",
       "    </tr>\n",
       "    <tr>\n",
       "      <th>3</th>\n",
       "      <td>2005-08</td>\n",
       "      <td>24070.14</td>\n",
       "    </tr>\n",
       "  </tbody>\n",
       "</table>\n",
       "</div>"
      ],
      "text/plain": [
       "  year_month  sum_revenue\n",
       "0    2005-05      4823.44\n",
       "1    2005-06      9629.89\n",
       "2    2005-07     28368.91\n",
       "3    2005-08     24070.14"
      ]
     },
     "execution_count": 11,
     "metadata": {},
     "output_type": "execute_result"
    }
   ],
   "source": [
    "query_4 = \"\"\"\n",
    "SELECT STRFTIME(\"%Y-%m\", r.rental_date) as year_month, \n",
    "       SUM(p.amount) as sum_revenue\n",
    "FROM rental AS r \n",
    "LEFT JOIN payment AS p on r.rental_id = p.rental_id\n",
    "WHERE STRFTIME(\"%Y-%m\", r.rental_date) LIKE '%2005%'\n",
    "GROUP BY year_month\n",
    "ORDER BY year_month ASC\n",
    "\"\"\"\n",
    "\n",
    "df_4 = db.execute_query(query_4)\n",
    "df_4.to_csv(\"./monthly_rental_revenue.csv\", index=False)\n",
    "df_4"
   ]
  },
  {
   "cell_type": "code",
   "execution_count": 12,
   "metadata": {},
   "outputs": [
    {
     "data": {
      "image/png": "[encoded data removed]",
      "text/plain": [
       "<Figure size 1200x600 with 1 Axes>"
      ]
     },
     "metadata": {},
     "output_type": "display_data"
    }
   ],
   "source": [
    "plt.figure(figsize=(12, 6))\n",
    "sns.barplot(\n",
    "    data=df_4, \n",
    "    y=\"sum_revenue\", \n",
    "    x=\"year_month\", \n",
    "    color='green'\n",
    ")\n",
    "plt.ylabel(\"Доход\")\n",
    "plt.xlabel(\"Месяц\")\n",
    "plt.title(\"Тенденции в ежемесячном доходе от проката и продажах за прошедший год\")\n",
    "plt.grid()\n",
    "plt.show()"
   ]
  },
  {
   "cell_type": "markdown",
   "metadata": {},
   "source": [
    "## Как соотносятся показатели продаж в разных магазинах?"
   ]
  },
  {
   "cell_type": "code",
   "execution_count": 13,
   "metadata": {},
   "outputs": [
    {
     "data": {
      "text/html": [
       "<div>\n",
       "<style scoped>\n",
       "    .dataframe tbody tr th:only-of-type {\n",
       "        vertical-align: middle;\n",
       "    }\n",
       "\n",
       "    .dataframe tbody tr th {\n",
       "        vertical-align: top;\n",
       "    }\n",
       "\n",
       "    .dataframe thead th {\n",
       "        text-align: right;\n",
       "    }\n",
       "</style>\n",
       "<table border=\"1\" class=\"dataframe\">\n",
       "  <thead>\n",
       "    <tr style=\"text-align: right;\">\n",
       "      <th></th>\n",
       "      <th>store_id</th>\n",
       "      <th>revenue_sum</th>\n",
       "      <th>units_count</th>\n",
       "      <th>revenue_per_unit</th>\n",
       "    </tr>\n",
       "  </thead>\n",
       "  <tbody>\n",
       "    <tr>\n",
       "      <th>0</th>\n",
       "      <td>1</td>\n",
       "      <td>33679.79</td>\n",
       "      <td>7923</td>\n",
       "      <td>4.25</td>\n",
       "    </tr>\n",
       "    <tr>\n",
       "      <th>1</th>\n",
       "      <td>2</td>\n",
       "      <td>33726.77</td>\n",
       "      <td>8122</td>\n",
       "      <td>4.15</td>\n",
       "    </tr>\n",
       "  </tbody>\n",
       "</table>\n",
       "</div>"
      ],
      "text/plain": [
       "   store_id  revenue_sum  units_count  revenue_per_unit\n",
       "0         1     33679.79         7923              4.25\n",
       "1         2     33726.77         8122              4.15"
      ]
     },
     "execution_count": 13,
     "metadata": {},
     "output_type": "execute_result"
    }
   ],
   "source": [
    "query_5 = \"\"\"\n",
    "SELECT s.store_id, \n",
    "       SUM(p.amount) as revenue_sum,\n",
    "       COUNT(s.store_id) as units_count,\n",
    "       ROUND(SUM(p.amount)/COUNT(s.store_id),2) as revenue_per_unit\n",
    "FROM store AS s \n",
    "LEFT JOIN inventory AS i on s.store_id = i.store_id\n",
    "LEFT JOIN rental AS r on i.inventory_id = r.inventory_id\n",
    "LEFT JOIN payment AS p on r.rental_id = p.rental_id\n",
    "GROUP BY s.store_id\n",
    "ORDER BY s.store_id\n",
    "\"\"\"\n",
    "\n",
    "df_5 = db.execute_query(query_5)\n",
    "df_5.to_csv(\"./store_revenue.csv\", index=False)\n",
    "df_5"
   ]
  },
  {
   "cell_type": "code",
   "execution_count": 14,
   "metadata": {},
   "outputs": [
    {
     "data": {
      "image/png": "[encoded data removed]",
      "text/plain": [
       "<Figure size 2000x2000 with 3 Axes>"
      ]
     },
     "metadata": {},
     "output_type": "display_data"
    }
   ],
   "source": [
    "plt.figure(figsize=(20, 20))\n",
    "\n",
    "plt.subplot(3, 3, 1)\n",
    "sns.barplot(\n",
    "    data=df_5, \n",
    "    y=\"revenue_sum\", \n",
    "    x=\"store_id\"\n",
    ")\n",
    "plt.ylabel(\"Суммарный доход\")\n",
    "plt.xlabel(\"Магазин\")\n",
    "plt.title(\"Суммарный доход по каждому магазину\")\n",
    "\n",
    "plt.subplot(3, 3, 2)\n",
    "sns.barplot(\n",
    "    data=df_5, \n",
    "    y=\"units_count\", \n",
    "    x=\"store_id\"\n",
    ")\n",
    "plt.ylabel(\"Количество проданных единиц\")\n",
    "plt.xlabel(\"Магазин\")\n",
    "plt.title(\"Количество проданных единиц по каждому магазину\")\n",
    "\n",
    "plt.subplot(3, 3, 3)\n",
    "sns.barplot(\n",
    "    data=df_5, \n",
    "    y=\"revenue_per_unit\", \n",
    "    x=\"store_id\"\n",
    ")\n",
    "plt.ylabel(\"Отношение дохода к единице товара\")\n",
    "plt.xlabel(\"Магазин\")\n",
    "plt.title(\"Отношение дохода к единице товара по каждому магазину\")\n",
    "\n",
    "plt.show()"
   ]
  },
  {
   "cell_type": "markdown",
   "metadata": {},
   "source": [
    "## Каковы средние затраты на замену (replacement_cost) фильмов в разных жанрах?"
   ]
  },
  {
   "cell_type": "code",
   "execution_count": 15,
   "metadata": {},
   "outputs": [
    {
     "data": {
      "text/html": [
       "<div>\n",
       "<style scoped>\n",
       "    .dataframe tbody tr th:only-of-type {\n",
       "        vertical-align: middle;\n",
       "    }\n",
       "\n",
       "    .dataframe tbody tr th {\n",
       "        vertical-align: top;\n",
       "    }\n",
       "\n",
       "    .dataframe thead th {\n",
       "        text-align: right;\n",
       "    }\n",
       "</style>\n",
       "<table border=\"1\" class=\"dataframe\">\n",
       "  <thead>\n",
       "    <tr style=\"text-align: right;\">\n",
       "      <th></th>\n",
       "      <th>category_of_film</th>\n",
       "      <th>avg_replacement_cost</th>\n",
       "    </tr>\n",
       "  </thead>\n",
       "  <tbody>\n",
       "    <tr>\n",
       "      <th>0</th>\n",
       "      <td>Sci-Fi</td>\n",
       "      <td>21.15</td>\n",
       "    </tr>\n",
       "    <tr>\n",
       "      <th>1</th>\n",
       "      <td>Drama</td>\n",
       "      <td>21.09</td>\n",
       "    </tr>\n",
       "    <tr>\n",
       "      <th>2</th>\n",
       "      <td>Classics</td>\n",
       "      <td>21.01</td>\n",
       "    </tr>\n",
       "    <tr>\n",
       "      <th>3</th>\n",
       "      <td>Action</td>\n",
       "      <td>20.91</td>\n",
       "    </tr>\n",
       "    <tr>\n",
       "      <th>4</th>\n",
       "      <td>Sports</td>\n",
       "      <td>20.40</td>\n",
       "    </tr>\n",
       "    <tr>\n",
       "      <th>5</th>\n",
       "      <td>Games</td>\n",
       "      <td>20.29</td>\n",
       "    </tr>\n",
       "    <tr>\n",
       "      <th>6</th>\n",
       "      <td>Animation</td>\n",
       "      <td>20.13</td>\n",
       "    </tr>\n",
       "    <tr>\n",
       "      <th>7</th>\n",
       "      <td>Children</td>\n",
       "      <td>20.06</td>\n",
       "    </tr>\n",
       "    <tr>\n",
       "      <th>8</th>\n",
       "      <td>Horror</td>\n",
       "      <td>19.87</td>\n",
       "    </tr>\n",
       "    <tr>\n",
       "      <th>9</th>\n",
       "      <td>Family</td>\n",
       "      <td>19.73</td>\n",
       "    </tr>\n",
       "    <tr>\n",
       "      <th>10</th>\n",
       "      <td>Documentary</td>\n",
       "      <td>19.62</td>\n",
       "    </tr>\n",
       "    <tr>\n",
       "      <th>11</th>\n",
       "      <td>Music</td>\n",
       "      <td>19.44</td>\n",
       "    </tr>\n",
       "    <tr>\n",
       "      <th>12</th>\n",
       "      <td>New</td>\n",
       "      <td>19.42</td>\n",
       "    </tr>\n",
       "    <tr>\n",
       "      <th>13</th>\n",
       "      <td>Travel</td>\n",
       "      <td>19.03</td>\n",
       "    </tr>\n",
       "    <tr>\n",
       "      <th>14</th>\n",
       "      <td>Comedy</td>\n",
       "      <td>19.02</td>\n",
       "    </tr>\n",
       "    <tr>\n",
       "      <th>15</th>\n",
       "      <td>Foreign</td>\n",
       "      <td>18.65</td>\n",
       "    </tr>\n",
       "  </tbody>\n",
       "</table>\n",
       "</div>"
      ],
      "text/plain": [
       "   category_of_film  avg_replacement_cost\n",
       "0            Sci-Fi                 21.15\n",
       "1             Drama                 21.09\n",
       "2          Classics                 21.01\n",
       "3            Action                 20.91\n",
       "4            Sports                 20.40\n",
       "5             Games                 20.29\n",
       "6         Animation                 20.13\n",
       "7          Children                 20.06\n",
       "8            Horror                 19.87\n",
       "9            Family                 19.73\n",
       "10      Documentary                 19.62\n",
       "11            Music                 19.44\n",
       "12              New                 19.42\n",
       "13           Travel                 19.03\n",
       "14           Comedy                 19.02\n",
       "15          Foreign                 18.65"
      ]
     },
     "execution_count": 15,
     "metadata": {},
     "output_type": "execute_result"
    }
   ],
   "source": [
    "query_6 = \"\"\"\n",
    "SELECT c.name AS category_of_film, \n",
    "       ROUND(AVG(f.replacement_cost), 2) AS avg_replacement_cost\n",
    "FROM film AS f\n",
    "JOIN film_category AS fc ON f.film_id = fc.film_id\n",
    "JOIN category AS c ON fc.category_id = c.category_id\n",
    "GROUP BY c.name\n",
    "ORDER BY avg_replacement_cost DESC;\n",
    "\"\"\"\n",
    "\n",
    "df_6 = db.execute_query(query_6)\n",
    "df_6.to_csv(\"./replacement_cost.csv\", index=False)\n",
    "df_6"
   ]
  },
  {
   "cell_type": "code",
   "execution_count": 16,
   "metadata": {},
   "outputs": [
    {
     "data": {
      "image/png": "[encoded data removed]",
      "text/plain": [
       "<Figure size 1200x600 with 1 Axes>"
      ]
     },
     "metadata": {},
     "output_type": "display_data"
    }
   ],
   "source": [
    "plt.figure(figsize=(12, 6))\n",
    "sns.barplot(\n",
    "    data=df_6, \n",
    "    y=\"avg_replacement_cost\", \n",
    "    x=\"category_of_film\", \n",
    "    palette='Paired',  \n",
    "    hue=\"category_of_film\"\n",
    ")\n",
    "plt.ylabel(\"Средние затраты на замену фильмов\")\n",
    "plt.xlabel(\"Категории фильмов\")\n",
    "plt.title(\"Средние затраты на замену фильмов в разных жанрах\")\n",
    "plt.xticks(rotation=45)\n",
    "plt.grid()\n",
    "plt.show()"
   ]
  },
  {
   "cell_type": "markdown",
   "metadata": {},
   "source": [
    "## Какие актеры снимаются в самых разных жанрах фильмов?"
   ]
  },
  {
   "cell_type": "code",
   "execution_count": 19,
   "metadata": {},
   "outputs": [
    {
     "data": {
      "text/html": [
       "<div>\n",
       "<style scoped>\n",
       "    .dataframe tbody tr th:only-of-type {\n",
       "        vertical-align: middle;\n",
       "    }\n",
       "\n",
       "    .dataframe tbody tr th {\n",
       "        vertical-align: top;\n",
       "    }\n",
       "\n",
       "    .dataframe thead th {\n",
       "        text-align: right;\n",
       "    }\n",
       "</style>\n",
       "<table border=\"1\" class=\"dataframe\">\n",
       "  <thead>\n",
       "    <tr style=\"text-align: right;\">\n",
       "      <th></th>\n",
       "      <th>actor_id</th>\n",
       "      <th>actor_name</th>\n",
       "      <th>genre_count</th>\n",
       "      <th>genre_name</th>\n",
       "    </tr>\n",
       "  </thead>\n",
       "  <tbody>\n",
       "    <tr>\n",
       "      <th>0</th>\n",
       "      <td>13</td>\n",
       "      <td>UMA WOOD</td>\n",
       "      <td>16</td>\n",
       "      <td>Music;Action;New;Travel;Children;New;Animation...</td>\n",
       "    </tr>\n",
       "    <tr>\n",
       "      <th>1</th>\n",
       "      <td>72</td>\n",
       "      <td>SEAN WILLIAMS</td>\n",
       "      <td>16</td>\n",
       "      <td>Horror;New;Sports;Classics;Travel;Sci-Fi;Anima...</td>\n",
       "    </tr>\n",
       "    <tr>\n",
       "      <th>2</th>\n",
       "      <td>95</td>\n",
       "      <td>DARYL WAHLBERG</td>\n",
       "      <td>16</td>\n",
       "      <td>New;Horror;Foreign;Foreign;Horror;Music;Action...</td>\n",
       "    </tr>\n",
       "    <tr>\n",
       "      <th>3</th>\n",
       "      <td>106</td>\n",
       "      <td>GROUCHO DUNST</td>\n",
       "      <td>16</td>\n",
       "      <td>Sci-Fi;Family;New;Action;New;Classics;Games;Ac...</td>\n",
       "    </tr>\n",
       "    <tr>\n",
       "      <th>4</th>\n",
       "      <td>107</td>\n",
       "      <td>GINA DEGENERES</td>\n",
       "      <td>16</td>\n",
       "      <td>Documentary;Foreign;Music;New;Sci-Fi;Action;Sc...</td>\n",
       "    </tr>\n",
       "  </tbody>\n",
       "</table>\n",
       "</div>"
      ],
      "text/plain": [
       "   actor_id      actor_name  genre_count  \\\n",
       "0        13        UMA WOOD           16   \n",
       "1        72   SEAN WILLIAMS           16   \n",
       "2        95  DARYL WAHLBERG           16   \n",
       "3       106   GROUCHO DUNST           16   \n",
       "4       107  GINA DEGENERES           16   \n",
       "\n",
       "                                          genre_name  \n",
       "0  Music;Action;New;Travel;Children;New;Animation...  \n",
       "1  Horror;New;Sports;Classics;Travel;Sci-Fi;Anima...  \n",
       "2  New;Horror;Foreign;Foreign;Horror;Music;Action...  \n",
       "3  Sci-Fi;Family;New;Action;New;Classics;Games;Ac...  \n",
       "4  Documentary;Foreign;Music;New;Sci-Fi;Action;Sc...  "
      ]
     },
     "execution_count": 19,
     "metadata": {},
     "output_type": "execute_result"
    }
   ],
   "source": [
    "query_7 = \"\"\"\n",
    "SELECT a.actor_id, \n",
    "       a.first_name || ' ' || a.last_name AS actor_name, \n",
    "       COUNT(DISTINCT c.category_id) AS genre_count,\n",
    "       GROUP_CONCAT(c.name, ';') AS genre_name\n",
    "FROM actor AS a\n",
    "JOIN film_actor AS fa ON a.actor_id = fa.actor_id\n",
    "JOIN film AS f ON fa.film_id = f.film_id\n",
    "JOIN film_category AS fc ON f.film_id = fc.film_id\n",
    "JOIN category AS c ON fc.category_id = c.category_id\n",
    "GROUP BY a.actor_id, actor_name\n",
    "ORDER BY genre_count DESC;\n",
    "\"\"\"\n",
    "\n",
    "df_7 = db.execute_query(query_7)\n",
    "df_7.to_csv(\"./actors.csv\", index=False)\n",
    "df_7.head()"
   ]
  },
  {
   "cell_type": "code",
   "execution_count": 20,
   "metadata": {},
   "outputs": [
    {
     "data": {
      "application/vnd.plotly.v1+json": {
       "config": {
        "plotlyServerURL": "https://plot.ly"
       },
       "data": [
        {
         "hovertemplate": "actor_name=%{x}<br>genre_count=%{y}<extra></extra>",
         "legendgroup": "",
         "marker": {
          "color": "#636efa",
          "symbol": "circle"
         },
         "mode": "markers",
         "name": "",
         "orientation": "v",
         "showlegend": false,
         "type": "scatter",
         "x": [
          "UMA WOOD",
          "SEAN WILLIAMS",
          "DARYL WAHLBERG",
          "GROUCHO DUNST",
          "GINA DEGENERES",
          "KEVIN GARLAND",
          "EWAN GOODING",
          "IAN TANDY",
          "HARVEY HOPE",
          "MICHAEL BOLGER",
          "REESE WEST",
          "CHRISTIAN GABLE",
          "KARL BERRY",
          "SANDRA KILMER",
          "DAN HARRIS",
          "HENRY BERRY",
          "ANGELA HUDSON",
          "RALPH CRUZ",
          "SUSAN DAVIS",
          "PENELOPE CRONYN",
          "CATE MCQUEEN",
          "JADA RYDER",
          "ANGELA WITHERSPOON",
          "FAY WINSLET",
          "JAYNE NOLTE",
          "VIVIEN BASINGER",
          "MATTHEW CARREY",
          "RENEE BALL",
          "BELA WALKEN",
          "MARY KEITEL",
          "NICK WAHLBERG",
          "JOE SWANK",
          "ZERO CAGE",
          "HELEN VOIGHT",
          "BOB FAWCETT",
          "KIRSTEN PALTROW",
          "ALEC WAYNE",
          "MILLA PECK",
          "BURT DUKAKIS",
          "VAL BOLGER",
          "JODIE DEGENERES",
          "TOM MIRANDA",
          "REESE KILMER",
          "PARKER GOLDBERG",
          "JULIA BARRYMORE",
          "ANNE CRONYN",
          "MENA TEMPLE",
          "CHRISTIAN AKROYD",
          "JAYNE NEESON",
          "MARY TANDY",
          "RIP WINSLET",
          "KENNETH PALTROW",
          "ANGELINA ASTAIRE",
          "SCARLETT DAMON",
          "WOODY JOLIE",
          "MINNIE ZELLWEGER",
          "SEAN GUINESS",
          "KIRSTEN AKROYD",
          "CHRIS BRIDGES",
          "JIM MOSTEL",
          "WALTER TORN",
          "SIDNEY CROWE",
          "SYLVESTER DERN",
          "CAMERON ZELLWEGER",
          "RENEE TRACY",
          "WARREN JACKMAN",
          "RICHARD PENN",
          "ED MANSFIELD",
          "CATE HARRIS",
          "RUSSELL TEMPLE",
          "GRETA MALDEN",
          "AL GARLAND",
          "NICK DEGENERES",
          "LAURENCE BULLOCK",
          "LISA MONROE",
          "JEFF SILVERSTONE",
          "AUDREY BAILEY",
          "JOHN SUVARI",
          "JAYNE SILVERSTONE",
          "PENELOPE GUINESS",
          "JOHNNY LOLLOBRIGIDA",
          "CUBA OLIVIER",
          "FRED COSTNER",
          "LUCILLE TRACY",
          "RIP CRAWFORD",
          "WOODY HOFFMAN",
          "TIM HACKMAN",
          "AUDREY OLIVIER",
          "TOM MCKELLEN",
          "JOHNNY CAGE",
          "NATALIE HOPKINS",
          "GARY PHOENIX",
          "CARMEN HUNT",
          "PENELOPE PINKETT",
          "JUDE CRUISE",
          "DUSTIN TAUTOU",
          "RAY JOHANSSON",
          "JESSICA BAILEY",
          "BURT POSEY",
          "CARY MCCONAUGHEY",
          "GROUCHO SINATRA",
          "MAE HOFFMAN",
          "JAMES PITT",
          "KENNETH TORN",
          "SPENCER DEPP",
          "WARREN NOLTE",
          "RUSSELL BACALL",
          "MORGAN MCDORMAND",
          "DAN STREEP",
          "CUBA ALLEN",
          "FRANCES TOMEI",
          "GRETA KEITEL",
          "GENE HOPKINS",
          "LUCILLE DEE",
          "WHOOPI HURT",
          "KIM ALLEN",
          "ALBERT JOHANSSON",
          "GEOFFREY HESTON",
          "BEN HARRIS",
          "MERYL GIBSON",
          "FAY WOOD",
          "LAURA BRODY",
          "HUMPHREY WILLIS",
          "WILL WILSON",
          "MENA HOPPER",
          "ALAN DREYFUSS",
          "MICHAEL BENING",
          "WILLIAM HACKMAN",
          "JON CHASE",
          "ED GUINESS",
          "DEBBIE AKROYD",
          "HUMPHREY GARLAND",
          "ROCK DUKAKIS",
          "CUBA BIRCH",
          "GREGORY GOODING",
          "BURT TEMPLE",
          "JENNIFER DAVIS",
          "VIVIEN BERGEN",
          "DAN TORN",
          "KEVIN BLOOM",
          "JULIA MCQUEEN",
          "SANDRA PECK",
          "GOLDIE BRODY",
          "FRANCES DAY-LEWIS",
          "FAY KILMER",
          "MICHELLE MCCONAUGHEY",
          "GARY PENN",
          "MILLA KEITEL",
          "GREG CHAPLIN",
          "CHRISTOPHER BERRY",
          "ELLEN PRESLEY",
          "GENE WILLIS",
          "MATTHEW LEIGH",
          "HARRISON BALE",
          "LIZA BERGMAN",
          "SALMA NOLTE",
          "JULIANNE DENCH",
          "ALBERT NOLTE",
          "DARYL CRAWFORD",
          "JANE JACKMAN",
          "ADAM HOPPER",
          "MORGAN WILLIAMS",
          "RIVER DEAN",
          "OPRAH KILMER",
          "CHRISTOPHER WEST",
          "KENNETH HOFFMAN",
          "OLYMPIA PFEIFFER",
          "RUSSELL CLOSE",
          "MERYL ALLEN",
          "BETTE NICHOLSON",
          "GRACE MOSTEL",
          "ELVIS MARX",
          "CAMERON STREEP",
          "NICK STALLONE",
          "CHRISTIAN NEESON",
          "CAMERON WRAY",
          "BEN WILLIS",
          "SPENCER PECK",
          "MEG HAWKE",
          "SUSAN DAVIS",
          "MORGAN HOPKINS",
          "PENELOPE MONROE",
          "SCARLETT BENING",
          "RITA REYNOLDS",
          "MINNIE KILMER",
          "CHRIS DEPP",
          "GROUCHO WILLIAMS",
          "GENE MCKELLEN",
          "ED CHASE",
          "MATTHEW JOHANSSON",
          "SISSY SOBIESKI",
          "KIRK JOVOVICH",
          "ADAM GRANT",
          "CHARLIZE DENCH",
          "JULIA ZELLWEGER",
          "THORA TEMPLE",
          "KENNETH PESCI",
          "EMILY DEE",
          "JUDY DEAN",
          "JULIA FAWCETT"
         ],
         "xaxis": "x",
         "y": {
          "bdata": "EBAQEBAQEBAQEBAPDw8PDw8PDw8PDw8PDw8PDw8PDg4ODg4ODg4ODg4ODg4ODg4ODg4ODg4ODg4ODg4ODg4ODg4ODg4ODg4ODg4ODg4ODg0NDQ0NDQ0NDQ0NDQ0NDQ0NDQ0NDQ0NDQ0NDQ0NDQ0NDQ0NDQ0NDQ0NDQ0NDQ0NDQ0NDQ0NDQ0NDQwMDAwMDAwMDAwMDAwMDAwMDAwMDAwMDAwMDAwMDAwMDAsLCwsLCwsLCwsLCwsLCwsLCwsKCgoKCgoKCgkJCAg=",
          "dtype": "i1"
         },
         "yaxis": "y"
        }
       ],
       "layout": {
        "legend": {
         "tracegroupgap": 0
        },
        "template": {
         "data": {
          "bar": [
           {
            "error_x": {
             "color": "#2a3f5f"
            },
            "error_y": {
             "color": "#2a3f5f"
            },
            "marker": {
             "line": {
              "color": "#E5ECF6",
              "width": 0.5
             },
             "pattern": {
              "fillmode": "overlay",
              "size": 10,
              "solidity": 0.2
             }
            },
            "type": "bar"
           }
          ],
          "barpolar": [
           {
            "marker": {
             "line": {
              "color": "#E5ECF6",
              "width": 0.5
             },
             "pattern": {
              "fillmode": "overlay",
              "size": 10,
              "solidity": 0.2
             }
            },
            "type": "barpolar"
           }
          ],
          "carpet": [
           {
            "aaxis": {
             "endlinecolor": "#2a3f5f",
             "gridcolor": "white",
             "linecolor": "white",
             "minorgridcolor": "white",
             "startlinecolor": "#2a3f5f"
            },
            "baxis": {
             "endlinecolor": "#2a3f5f",
             "gridcolor": "white",
             "linecolor": "white",
             "minorgridcolor": "white",
             "startlinecolor": "#2a3f5f"
            },
            "type": "carpet"
           }
          ],
          "choropleth": [
           {
            "colorbar": {
             "outlinewidth": 0,
             "ticks": ""
            },
            "type": "choropleth"
           }
          ],
          "contour": [
           {
            "colorbar": {
             "outlinewidth": 0,
             "ticks": ""
            },
            "colorscale": [
             [
              0,
              "#0d0887"
             ],
             [
              0.1111111111111111,
              "#46039f"
             ],
             [
              0.2222222222222222,
              "#7201a8"
             ],
             [
              0.3333333333333333,
              "#9c179e"
             ],
             [
              0.4444444444444444,
              "#bd3786"
             ],
             [
              0.5555555555555556,
              "#d8576b"
             ],
             [
              0.6666666666666666,
              "#ed7953"
             ],
             [
              0.7777777777777778,
              "#fb9f3a"
             ],
             [
              0.8888888888888888,
              "#fdca26"
             ],
             [
              1,
              "#f0f921"
             ]
            ],
            "type": "contour"
           }
          ],
          "contourcarpet": [
           {
            "colorbar": {
             "outlinewidth": 0,
             "ticks": ""
            },
            "type": "contourcarpet"
           }
          ],
          "heatmap": [
           {
            "colorbar": {
             "outlinewidth": 0,
             "ticks": ""
            },
            "colorscale": [
             [
              0,
              "#0d0887"
             ],
             [
              0.1111111111111111,
              "#46039f"
             ],
             [
              0.2222222222222222,
              "#7201a8"
             ],
             [
              0.3333333333333333,
              "#9c179e"
             ],
             [
              0.4444444444444444,
              "#bd3786"
             ],
             [
              0.5555555555555556,
              "#d8576b"
             ],
             [
              0.6666666666666666,
              "#ed7953"
             ],
             [
              0.7777777777777778,
              "#fb9f3a"
             ],
             [
              0.8888888888888888,
              "#fdca26"
             ],
             [
              1,
              "#f0f921"
             ]
            ],
            "type": "heatmap"
           }
          ],
          "histogram": [
           {
            "marker": {
             "pattern": {
              "fillmode": "overlay",
              "size": 10,
              "solidity": 0.2
             }
            },
            "type": "histogram"
           }
          ],
          "histogram2d": [
           {
            "colorbar": {
             "outlinewidth": 0,
             "ticks": ""
            },
            "colorscale": [
             [
              0,
              "#0d0887"
             ],
             [
              0.1111111111111111,
              "#46039f"
             ],
             [
              0.2222222222222222,
              "#7201a8"
             ],
             [
              0.3333333333333333,
              "#9c179e"
             ],
             [
              0.4444444444444444,
              "#bd3786"
             ],
             [
              0.5555555555555556,
              "#d8576b"
             ],
             [
              0.6666666666666666,
              "#ed7953"
             ],
             [
              0.7777777777777778,
              "#fb9f3a"
             ],
             [
              0.8888888888888888,
              "#fdca26"
             ],
             [
              1,
              "#f0f921"
             ]
            ],
            "type": "histogram2d"
           }
          ],
          "histogram2dcontour": [
           {
            "colorbar": {
             "outlinewidth": 0,
             "ticks": ""
            },
            "colorscale": [
             [
              0,
              "#0d0887"
             ],
             [
              0.1111111111111111,
              "#46039f"
             ],
             [
              0.2222222222222222,
              "#7201a8"
             ],
             [
              0.3333333333333333,
              "#9c179e"
             ],
             [
              0.4444444444444444,
              "#bd3786"
             ],
             [
              0.5555555555555556,
              "#d8576b"
             ],
             [
              0.6666666666666666,
              "#ed7953"
             ],
             [
              0.7777777777777778,
              "#fb9f3a"
             ],
             [
              0.8888888888888888,
              "#fdca26"
             ],
             [
              1,
              "#f0f921"
             ]
            ],
            "type": "histogram2dcontour"
           }
          ],
          "mesh3d": [
           {
            "colorbar": {
             "outlinewidth": 0,
             "ticks": ""
            },
            "type": "mesh3d"
           }
          ],
          "parcoords": [
           {
            "line": {
             "colorbar": {
              "outlinewidth": 0,
              "ticks": ""
             }
            },
            "type": "parcoords"
           }
          ],
          "pie": [
           {
            "automargin": true,
            "type": "pie"
           }
          ],
          "scatter": [
           {
            "fillpattern": {
             "fillmode": "overlay",
             "size": 10,
             "solidity": 0.2
            },
            "type": "scatter"
           }
          ],
          "scatter3d": [
           {
            "line": {
             "colorbar": {
              "outlinewidth": 0,
              "ticks": ""
             }
            },
            "marker": {
             "colorbar": {
              "outlinewidth": 0,
              "ticks": ""
             }
            },
            "type": "scatter3d"
           }
          ],
          "scattercarpet": [
           {
            "marker": {
             "colorbar": {
              "outlinewidth": 0,
              "ticks": ""
             }
            },
            "type": "scattercarpet"
           }
          ],
          "scattergeo": [
           {
            "marker": {
             "colorbar": {
              "outlinewidth": 0,
              "ticks": ""
             }
            },
            "type": "scattergeo"
           }
          ],
          "scattergl": [
           {
            "marker": {
             "colorbar": {
              "outlinewidth": 0,
              "ticks": ""
             }
            },
            "type": "scattergl"
           }
          ],
          "scattermap": [
           {
            "marker": {
             "colorbar": {
              "outlinewidth": 0,
              "ticks": ""
             }
            },
            "type": "scattermap"
           }
          ],
          "scattermapbox": [
           {
            "marker": {
             "colorbar": {
              "outlinewidth": 0,
              "ticks": ""
             }
            },
            "type": "scattermapbox"
           }
          ],
          "scatterpolar": [
           {
            "marker": {
             "colorbar": {
              "outlinewidth": 0,
              "ticks": ""
             }
            },
            "type": "scatterpolar"
           }
          ],
          "scatterpolargl": [
           {
            "marker": {
             "colorbar": {
              "outlinewidth": 0,
              "ticks": ""
             }
            },
            "type": "scatterpolargl"
           }
          ],
          "scatterternary": [
           {
            "marker": {
             "colorbar": {
              "outlinewidth": 0,
              "ticks": ""
             }
            },
            "type": "scatterternary"
           }
          ],
          "surface": [
           {
            "colorbar": {
             "outlinewidth": 0,
             "ticks": ""
            },
            "colorscale": [
             [
              0,
              "#0d0887"
             ],
             [
              0.1111111111111111,
              "#46039f"
             ],
             [
              0.2222222222222222,
              "#7201a8"
             ],
             [
              0.3333333333333333,
              "#9c179e"
             ],
             [
              0.4444444444444444,
              "#bd3786"
             ],
             [
              0.5555555555555556,
              "#d8576b"
             ],
             [
              0.6666666666666666,
              "#ed7953"
             ],
             [
              0.7777777777777778,
              "#fb9f3a"
             ],
             [
              0.8888888888888888,
              "#fdca26"
             ],
             [
              1,
              "#f0f921"
             ]
            ],
            "type": "surface"
           }
          ],
          "table": [
           {
            "cells": {
             "fill": {
              "color": "#EBF0F8"
             },
             "line": {
              "color": "white"
             }
            },
            "header": {
             "fill": {
              "color": "#C8D4E3"
             },
             "line": {
              "color": "white"
             }
            },
            "type": "table"
           }
          ]
         },
         "layout": {
          "annotationdefaults": {
           "arrowcolor": "#2a3f5f",
           "arrowhead": 0,
           "arrowwidth": 1
          },
          "autotypenumbers": "strict",
          "coloraxis": {
           "colorbar": {
            "outlinewidth": 0,
            "ticks": ""
           }
          },
          "colorscale": {
           "diverging": [
            [
             0,
             "#8e0152"
            ],
            [
             0.1,
             "#c51b7d"
            ],
            [
             0.2,
             "#de77ae"
            ],
            [
             0.3,
             "#f1b6da"
            ],
            [
             0.4,
             "#fde0ef"
            ],
            [
             0.5,
             "#f7f7f7"
            ],
            [
             0.6,
             "#e6f5d0"
            ],
            [
             0.7,
             "#b8e186"
            ],
            [
             0.8,
             "#7fbc41"
            ],
            [
             0.9,
             "#4d9221"
            ],
            [
             1,
             "#276419"
            ]
           ],
           "sequential": [
            [
             0,
             "#0d0887"
            ],
            [
             0.1111111111111111,
             "#46039f"
            ],
            [
             0.2222222222222222,
             "#7201a8"
            ],
            [
             0.3333333333333333,
             "#9c179e"
            ],
            [
             0.4444444444444444,
             "#bd3786"
            ],
            [
             0.5555555555555556,
             "#d8576b"
            ],
            [
             0.6666666666666666,
             "#ed7953"
            ],
            [
             0.7777777777777778,
             "#fb9f3a"
            ],
            [
             0.8888888888888888,
             "#fdca26"
            ],
            [
             1,
             "#f0f921"
            ]
           ],
           "sequentialminus": [
            [
             0,
             "#0d0887"
            ],
            [
             0.1111111111111111,
             "#46039f"
            ],
            [
             0.2222222222222222,
             "#7201a8"
            ],
            [
             0.3333333333333333,
             "#9c179e"
            ],
            [
             0.4444444444444444,
             "#bd3786"
            ],
            [
             0.5555555555555556,
             "#d8576b"
            ],
            [
             0.6666666666666666,
             "#ed7953"
            ],
            [
             0.7777777777777778,
             "#fb9f3a"
            ],
            [
             0.8888888888888888,
             "#fdca26"
            ],
            [
             1,
             "#f0f921"
            ]
           ]
          },
          "colorway": [
           "#636efa",
           "#EF553B",
           "#00cc96",
           "#ab63fa",
           "#FFA15A",
           "#19d3f3",
           "#FF6692",
           "#B6E880",
           "#FF97FF",
           "#FECB52"
          ],
          "font": {
           "color": "#2a3f5f"
          },
          "geo": {
           "bgcolor": "white",
           "lakecolor": "white",
           "landcolor": "#E5ECF6",
           "showlakes": true,
           "showland": true,
           "subunitcolor": "white"
          },
          "hoverlabel": {
           "align": "left"
          },
          "hovermode": "closest",
          "mapbox": {
           "style": "light"
          },
          "paper_bgcolor": "white",
          "plot_bgcolor": "#E5ECF6",
          "polar": {
           "angularaxis": {
            "gridcolor": "white",
            "linecolor": "white",
            "ticks": ""
           },
           "bgcolor": "#E5ECF6",
           "radialaxis": {
            "gridcolor": "white",
            "linecolor": "white",
            "ticks": ""
           }
          },
          "scene": {
           "xaxis": {
            "backgroundcolor": "#E5ECF6",
            "gridcolor": "white",
            "gridwidth": 2,
            "linecolor": "white",
            "showbackground": true,
            "ticks": "",
            "zerolinecolor": "white"
           },
           "yaxis": {
            "backgroundcolor": "#E5ECF6",
            "gridcolor": "white",
            "gridwidth": 2,
            "linecolor": "white",
            "showbackground": true,
            "ticks": "",
            "zerolinecolor": "white"
           },
           "zaxis": {
            "backgroundcolor": "#E5ECF6",
            "gridcolor": "white",
            "gridwidth": 2,
            "linecolor": "white",
            "showbackground": true,
            "ticks": "",
            "zerolinecolor": "white"
           }
          },
          "shapedefaults": {
           "line": {
            "color": "#2a3f5f"
           }
          },
          "ternary": {
           "aaxis": {
            "gridcolor": "white",
            "linecolor": "white",
            "ticks": ""
           },
           "baxis": {
            "gridcolor": "white",
            "linecolor": "white",
            "ticks": ""
           },
           "bgcolor": "#E5ECF6",
           "caxis": {
            "gridcolor": "white",
            "linecolor": "white",
            "ticks": ""
           }
          },
          "title": {
           "x": 0.05
          },
          "xaxis": {
           "automargin": true,
           "gridcolor": "white",
           "linecolor": "white",
           "ticks": "",
           "title": {
            "standoff": 15
           },
           "zerolinecolor": "white",
           "zerolinewidth": 2
          },
          "yaxis": {
           "automargin": true,
           "gridcolor": "white",
           "linecolor": "white",
           "ticks": "",
           "title": {
            "standoff": 15
           },
           "zerolinecolor": "white",
           "zerolinewidth": 2
          }
         }
        },
        "title": {
         "text": "Актеры и количество жанров в которых они снимаются"
        },
        "xaxis": {
         "anchor": "y",
         "domain": [
          0,
          1
         ],
         "title": {
          "text": "actor_name"
         }
        },
        "yaxis": {
         "anchor": "x",
         "domain": [
          0,
          1
         ],
         "title": {
          "text": "genre_count"
         }
        }
       }
      }
     },
     "metadata": {},
     "output_type": "display_data"
    }
   ],
   "source": [
    "fig = px.scatter(df_7,\n",
    "                 x=\"actor_name\", \n",
    "                 y=\"genre_count\",\n",
    "                 title=\"Актеры и количество жанров в которых они снимаются\")\n",
    "fig.show()"
   ]
  },
  {
   "cell_type": "markdown",
   "metadata": {},
   "source": [
    "**Скриншот работы графика plotly**\n",
    "![Скриншот работы графика plotly](plotly_graphic.png)"
   ]
  },
  {
   "cell_type": "markdown",
   "metadata": {},
   "source": [
    "# Статистический анализ данных"
   ]
  },
  {
   "cell_type": "markdown",
   "metadata": {},
   "source": [
    "## Объединим таблицы"
   ]
  },
  {
   "cell_type": "code",
   "execution_count": 21,
   "metadata": {},
   "outputs": [
    {
     "data": {
      "text/plain": [
       "actor_name                object\n",
       "film_title                object\n",
       "film_release_year         object\n",
       "film_rental_duration       int64\n",
       "film_rental_rate         float64\n",
       "film_length                int64\n",
       "film_replacement_cost    float64\n",
       "film_rating               object\n",
       "film_spec_features        object\n",
       "film_category             object\n",
       "dtype: object"
      ]
     },
     "execution_count": 21,
     "metadata": {},
     "output_type": "execute_result"
    }
   ],
   "source": [
    "query_8 = \"\"\"\n",
    "SELECT\n",
    "       a.first_name || ' ' || a.last_name AS actor_name,\n",
    "       f.title AS film_title,\n",
    "       f.release_year AS film_release_year,\n",
    "       f.rental_duration AS film_rental_duration,\n",
    "       f.rental_rate AS film_rental_rate,\n",
    "       f.length AS film_length,\n",
    "       f.replacement_cost AS film_replacement_cost,\n",
    "       f.rating AS film_rating,\n",
    "       f.special_features AS film_spec_features,\n",
    "       c.name AS film_category\n",
    "FROM actor AS a\n",
    "JOIN film_actor AS fa ON a.actor_id = fa.actor_id\n",
    "JOIN film AS f ON fa.film_id = f.film_id\n",
    "JOIN film_category AS fc ON f.film_id = fc.film_id\n",
    "JOIN category AS c ON fc.category_id = c.category_id;\n",
    "\"\"\"\n",
    "\n",
    "df_8 = db.execute_query(query_8)\n",
    "df_8.to_csv(\"./joined tables.csv\", index=False)\n",
    "df_8.dtypes"
   ]
  },
  {
   "cell_type": "code",
   "execution_count": 22,
   "metadata": {},
   "outputs": [
    {
     "data": {
      "text/html": [
       "<div>\n",
       "<style scoped>\n",
       "    .dataframe tbody tr th:only-of-type {\n",
       "        vertical-align: middle;\n",
       "    }\n",
       "\n",
       "    .dataframe tbody tr th {\n",
       "        vertical-align: top;\n",
       "    }\n",
       "\n",
       "    .dataframe thead th {\n",
       "        text-align: right;\n",
       "    }\n",
       "</style>\n",
       "<table border=\"1\" class=\"dataframe\">\n",
       "  <thead>\n",
       "    <tr style=\"text-align: right;\">\n",
       "      <th></th>\n",
       "      <th>actor_name</th>\n",
       "      <th>film_title</th>\n",
       "      <th>film_release_year</th>\n",
       "      <th>film_rental_duration</th>\n",
       "      <th>film_rental_rate</th>\n",
       "      <th>film_length</th>\n",
       "      <th>film_replacement_cost</th>\n",
       "      <th>film_rating</th>\n",
       "      <th>film_spec_features</th>\n",
       "      <th>film_category</th>\n",
       "    </tr>\n",
       "  </thead>\n",
       "  <tbody>\n",
       "    <tr>\n",
       "      <th>0</th>\n",
       "      <td>PENELOPE GUINESS</td>\n",
       "      <td>ACADEMY DINOSAUR</td>\n",
       "      <td>2006</td>\n",
       "      <td>6</td>\n",
       "      <td>0.99</td>\n",
       "      <td>86</td>\n",
       "      <td>20.99</td>\n",
       "      <td>PG</td>\n",
       "      <td>Deleted Scenes,Behind the Scenes</td>\n",
       "      <td>Documentary</td>\n",
       "    </tr>\n",
       "    <tr>\n",
       "      <th>1</th>\n",
       "      <td>PENELOPE GUINESS</td>\n",
       "      <td>ANACONDA CONFESSIONS</td>\n",
       "      <td>2006</td>\n",
       "      <td>3</td>\n",
       "      <td>0.99</td>\n",
       "      <td>92</td>\n",
       "      <td>9.99</td>\n",
       "      <td>R</td>\n",
       "      <td>Trailers,Deleted Scenes</td>\n",
       "      <td>Animation</td>\n",
       "    </tr>\n",
       "    <tr>\n",
       "      <th>2</th>\n",
       "      <td>PENELOPE GUINESS</td>\n",
       "      <td>ANGELS LIFE</td>\n",
       "      <td>2006</td>\n",
       "      <td>3</td>\n",
       "      <td>2.99</td>\n",
       "      <td>74</td>\n",
       "      <td>15.99</td>\n",
       "      <td>G</td>\n",
       "      <td>Trailers</td>\n",
       "      <td>New</td>\n",
       "    </tr>\n",
       "    <tr>\n",
       "      <th>3</th>\n",
       "      <td>PENELOPE GUINESS</td>\n",
       "      <td>BULWORTH COMMANDMENTS</td>\n",
       "      <td>2006</td>\n",
       "      <td>4</td>\n",
       "      <td>2.99</td>\n",
       "      <td>61</td>\n",
       "      <td>14.99</td>\n",
       "      <td>G</td>\n",
       "      <td>Trailers</td>\n",
       "      <td>Games</td>\n",
       "    </tr>\n",
       "    <tr>\n",
       "      <th>4</th>\n",
       "      <td>PENELOPE GUINESS</td>\n",
       "      <td>CHEAPER CLYDE</td>\n",
       "      <td>2006</td>\n",
       "      <td>6</td>\n",
       "      <td>0.99</td>\n",
       "      <td>87</td>\n",
       "      <td>23.99</td>\n",
       "      <td>G</td>\n",
       "      <td>Trailers,Commentaries,Behind the Scenes</td>\n",
       "      <td>Sci-Fi</td>\n",
       "    </tr>\n",
       "  </tbody>\n",
       "</table>\n",
       "</div>"
      ],
      "text/plain": [
       "         actor_name             film_title  film_release_year  \\\n",
       "0  PENELOPE GUINESS       ACADEMY DINOSAUR               2006   \n",
       "1  PENELOPE GUINESS   ANACONDA CONFESSIONS               2006   \n",
       "2  PENELOPE GUINESS            ANGELS LIFE               2006   \n",
       "3  PENELOPE GUINESS  BULWORTH COMMANDMENTS               2006   \n",
       "4  PENELOPE GUINESS          CHEAPER CLYDE               2006   \n",
       "\n",
       "   film_rental_duration  film_rental_rate  film_length  film_replacement_cost  \\\n",
       "0                     6              0.99           86                  20.99   \n",
       "1                     3              0.99           92                   9.99   \n",
       "2                     3              2.99           74                  15.99   \n",
       "3                     4              2.99           61                  14.99   \n",
       "4                     6              0.99           87                  23.99   \n",
       "\n",
       "  film_rating                       film_spec_features film_category  \n",
       "0          PG         Deleted Scenes,Behind the Scenes   Documentary  \n",
       "1           R                  Trailers,Deleted Scenes     Animation  \n",
       "2           G                                 Trailers           New  \n",
       "3           G                                 Trailers         Games  \n",
       "4           G  Trailers,Commentaries,Behind the Scenes        Sci-Fi  "
      ]
     },
     "execution_count": 22,
     "metadata": {},
     "output_type": "execute_result"
    }
   ],
   "source": [
    "df = pd.read_csv('joined tables.csv')\n",
    "df.head()"
   ]
  },
  {
   "cell_type": "markdown",
   "metadata": {},
   "source": [
    "## Разведочный анализ для числовых значений"
   ]
  },
  {
   "cell_type": "code",
   "execution_count": 23,
   "metadata": {},
   "outputs": [
    {
     "data": {
      "text/html": [
       "<div>\n",
       "<style scoped>\n",
       "    .dataframe tbody tr th:only-of-type {\n",
       "        vertical-align: middle;\n",
       "    }\n",
       "\n",
       "    .dataframe tbody tr th {\n",
       "        vertical-align: top;\n",
       "    }\n",
       "\n",
       "    .dataframe thead th {\n",
       "        text-align: right;\n",
       "    }\n",
       "</style>\n",
       "<table border=\"1\" class=\"dataframe\">\n",
       "  <thead>\n",
       "    <tr style=\"text-align: right;\">\n",
       "      <th></th>\n",
       "      <th>Доля пропусков</th>\n",
       "      <th>Минимальное значение</th>\n",
       "      <th>Максимальное значение</th>\n",
       "      <th>Среднее значение</th>\n",
       "      <th>Медиана</th>\n",
       "      <th>Дисперсия</th>\n",
       "      <th>Квантиль 0.1</th>\n",
       "      <th>Квантиль 0.9</th>\n",
       "      <th>Квартиль 1</th>\n",
       "      <th>Квартиль 3</th>\n",
       "    </tr>\n",
       "  </thead>\n",
       "  <tbody>\n",
       "    <tr>\n",
       "      <th>film_release_year</th>\n",
       "      <td>0.0</td>\n",
       "      <td>2006.00</td>\n",
       "      <td>2006.00</td>\n",
       "      <td>2006.000000</td>\n",
       "      <td>2006.00</td>\n",
       "      <td>0.000000</td>\n",
       "      <td>2006.00</td>\n",
       "      <td>2006.00</td>\n",
       "      <td>2006.00</td>\n",
       "      <td>2006.00</td>\n",
       "    </tr>\n",
       "    <tr>\n",
       "      <th>film_rental_duration</th>\n",
       "      <td>0.0</td>\n",
       "      <td>3.00</td>\n",
       "      <td>7.00</td>\n",
       "      <td>4.986452</td>\n",
       "      <td>5.00</td>\n",
       "      <td>1.955136</td>\n",
       "      <td>3.00</td>\n",
       "      <td>7.00</td>\n",
       "      <td>4.00</td>\n",
       "      <td>6.00</td>\n",
       "    </tr>\n",
       "    <tr>\n",
       "      <th>film_rental_rate</th>\n",
       "      <td>0.0</td>\n",
       "      <td>0.99</td>\n",
       "      <td>4.99</td>\n",
       "      <td>2.957411</td>\n",
       "      <td>2.99</td>\n",
       "      <td>2.658524</td>\n",
       "      <td>0.99</td>\n",
       "      <td>4.99</td>\n",
       "      <td>0.99</td>\n",
       "      <td>4.99</td>\n",
       "    </tr>\n",
       "    <tr>\n",
       "      <th>film_length</th>\n",
       "      <td>0.0</td>\n",
       "      <td>46.00</td>\n",
       "      <td>185.00</td>\n",
       "      <td>115.336507</td>\n",
       "      <td>114.00</td>\n",
       "      <td>1655.406977</td>\n",
       "      <td>60.00</td>\n",
       "      <td>173.00</td>\n",
       "      <td>80.00</td>\n",
       "      <td>150.00</td>\n",
       "    </tr>\n",
       "    <tr>\n",
       "      <th>film_replacement_cost</th>\n",
       "      <td>0.0</td>\n",
       "      <td>9.99</td>\n",
       "      <td>29.99</td>\n",
       "      <td>20.017829</td>\n",
       "      <td>19.99</td>\n",
       "      <td>36.789557</td>\n",
       "      <td>11.99</td>\n",
       "      <td>27.99</td>\n",
       "      <td>14.99</td>\n",
       "      <td>24.99</td>\n",
       "    </tr>\n",
       "  </tbody>\n",
       "</table>\n",
       "</div>"
      ],
      "text/plain": [
       "                       Доля пропусков  Минимальное значение  \\\n",
       "film_release_year                 0.0               2006.00   \n",
       "film_rental_duration              0.0                  3.00   \n",
       "film_rental_rate                  0.0                  0.99   \n",
       "film_length                       0.0                 46.00   \n",
       "film_replacement_cost             0.0                  9.99   \n",
       "\n",
       "                       Максимальное значение  Среднее значение  Медиана  \\\n",
       "film_release_year                    2006.00       2006.000000  2006.00   \n",
       "film_rental_duration                    7.00          4.986452     5.00   \n",
       "film_rental_rate                        4.99          2.957411     2.99   \n",
       "film_length                           185.00        115.336507   114.00   \n",
       "film_replacement_cost                  29.99         20.017829    19.99   \n",
       "\n",
       "                         Дисперсия  Квантиль 0.1  Квантиль 0.9  Квартиль 1  \\\n",
       "film_release_year         0.000000       2006.00       2006.00     2006.00   \n",
       "film_rental_duration      1.955136          3.00          7.00        4.00   \n",
       "film_rental_rate          2.658524          0.99          4.99        0.99   \n",
       "film_length            1655.406977         60.00        173.00       80.00   \n",
       "film_replacement_cost    36.789557         11.99         27.99       14.99   \n",
       "\n",
       "                       Квартиль 3  \n",
       "film_release_year         2006.00  \n",
       "film_rental_duration         6.00  \n",
       "film_rental_rate             4.99  \n",
       "film_length                150.00  \n",
       "film_replacement_cost       24.99  "
      ]
     },
     "execution_count": 23,
     "metadata": {},
     "output_type": "execute_result"
    }
   ],
   "source": [
    "numeric_col = df.select_dtypes(include=[\"number\"]).columns\n",
    "numeric_info = pd.DataFrame(\n",
    "    {\n",
    "        \"Доля пропусков\": df[numeric_col].isnull().mean(),\n",
    "        \"Минимальное значение\": df[numeric_col].min(), \n",
    "        \"Максимальное значение\": df[numeric_col].max(),\n",
    "        \"Среднее значение\": df[numeric_col].mean(), \n",
    "        \"Медиана\": df[numeric_col].median(), \n",
    "        \"Дисперсия\": df[numeric_col].var(), \n",
    "        \"Квантиль 0.1\": df[numeric_col].quantile(0.1), \n",
    "        \"Квантиль 0.9\": df[numeric_col].quantile(0.9), \n",
    "        \"Квартиль 1\": df[numeric_col].quantile(0.25), \n",
    "        \"Квартиль 3\": df[numeric_col].quantile(0.75), \n",
    "    }\n",
    ")\n",
    "\n",
    "numeric_info.to_csv(\"./numeric_info.csv\", index=False)\n",
    "numeric_info"
   ]
  },
  {
   "cell_type": "markdown",
   "metadata": {},
   "source": [
    "## Разведочный анализ для категориальных значений"
   ]
  },
  {
   "cell_type": "code",
   "execution_count": 24,
   "metadata": {},
   "outputs": [
    {
     "data": {
      "text/html": [
       "<div>\n",
       "<style scoped>\n",
       "    .dataframe tbody tr th:only-of-type {\n",
       "        vertical-align: middle;\n",
       "    }\n",
       "\n",
       "    .dataframe tbody tr th {\n",
       "        vertical-align: top;\n",
       "    }\n",
       "\n",
       "    .dataframe thead th {\n",
       "        text-align: right;\n",
       "    }\n",
       "</style>\n",
       "<table border=\"1\" class=\"dataframe\">\n",
       "  <thead>\n",
       "    <tr style=\"text-align: right;\">\n",
       "      <th></th>\n",
       "      <th>Доля пропусков</th>\n",
       "      <th>Количество уникальных значений</th>\n",
       "      <th>Мода</th>\n",
       "    </tr>\n",
       "  </thead>\n",
       "  <tbody>\n",
       "    <tr>\n",
       "      <th>actor_name</th>\n",
       "      <td>0.0</td>\n",
       "      <td>199</td>\n",
       "      <td>SUSAN DAVIS</td>\n",
       "    </tr>\n",
       "    <tr>\n",
       "      <th>film_title</th>\n",
       "      <td>0.0</td>\n",
       "      <td>997</td>\n",
       "      <td>LAMBS CINCINATTI</td>\n",
       "    </tr>\n",
       "    <tr>\n",
       "      <th>film_rating</th>\n",
       "      <td>0.0</td>\n",
       "      <td>5</td>\n",
       "      <td>PG-13</td>\n",
       "    </tr>\n",
       "    <tr>\n",
       "      <th>film_spec_features</th>\n",
       "      <td>0.0</td>\n",
       "      <td>15</td>\n",
       "      <td>Trailers,Commentaries,Behind the Scenes</td>\n",
       "    </tr>\n",
       "    <tr>\n",
       "      <th>film_category</th>\n",
       "      <td>0.0</td>\n",
       "      <td>16</td>\n",
       "      <td>Sports</td>\n",
       "    </tr>\n",
       "  </tbody>\n",
       "</table>\n",
       "</div>"
      ],
      "text/plain": [
       "                    Доля пропусков  Количество уникальных значений  \\\n",
       "actor_name                     0.0                             199   \n",
       "film_title                     0.0                             997   \n",
       "film_rating                    0.0                               5   \n",
       "film_spec_features             0.0                              15   \n",
       "film_category                  0.0                              16   \n",
       "\n",
       "                                                       Мода  \n",
       "actor_name                                      SUSAN DAVIS  \n",
       "film_title                                 LAMBS CINCINATTI  \n",
       "film_rating                                           PG-13  \n",
       "film_spec_features  Trailers,Commentaries,Behind the Scenes  \n",
       "film_category                                        Sports  "
      ]
     },
     "execution_count": 24,
     "metadata": {},
     "output_type": "execute_result"
    }
   ],
   "source": [
    "categorical_col = df.select_dtypes(include=[\"object\"]).columns\n",
    "categorical_info = pd.DataFrame(\n",
    "    {\n",
    "        \"Доля пропусков\": df[categorical_col].isnull().mean(),\n",
    "        \"Количество уникальных значений\": df[categorical_col].nunique(),\n",
    "        \"Мода\": df[categorical_col].mode().iloc[0],\n",
    "    }\n",
    ")\n",
    "\n",
    "categorical_info.to_csv(\"./categorical_info.csv\", index=False)\n",
    "categorical_info"
   ]
  }
 ],
 "metadata": {
  "kernelspec": {
   "display_name": "Python 3",
   "language": "python",
   "name": "python3"
  },
  "language_info": {
   "codemirror_mode": {
    "name": "ipython",
    "version": 3
   },
   "file_extension": ".py",
   "mimetype": "text/x-python",
   "name": "python",
   "nbconvert_exporter": "python",
   "pygments_lexer": "ipython3",
   "version": "3.12.8"
  }
 },
 "nbformat": 4,
 "nbformat_minor": 2
}
