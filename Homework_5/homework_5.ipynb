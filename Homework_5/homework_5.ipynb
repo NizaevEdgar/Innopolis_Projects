{
 "cells": [
  {
   "cell_type": "markdown",
   "metadata": {
    "id": "W0NqjKZ46QNh"
   },
   "source": [
    "# Задача 1\n",
    "\n",
    "Создать программу, которая работает со списком. Пользователь вводит список в программу. Реализовать следующие действия:\n",
    "\n",
    "1. С помощью функции any проверить содержит ли этот список хотя бы одно\n",
    "положительное число.\n",
    "2. С помощью функции all проверить состоят ли все элементы списка только\n",
    "из чисел.\n",
    "3. Отсортировать список с помощью функции sorted."
   ]
  },
  {
   "cell_type": "code",
   "execution_count": 1,
   "metadata": {
    "executionInfo": {
     "elapsed": 695,
     "status": "ok",
     "timestamp": 1733286260003,
     "user": {
      "displayName": "Эдгар Низаев",
      "userId": "15628445951160379931"
     },
     "user_tz": -240
    },
    "id": "fkvTPrmO6QNk"
   },
   "outputs": [],
   "source": [
    "def func_list(value_string=None):\n",
    "\n",
    "    \"\"\"\n",
    "    Функция получает на вход список любых значений.\n",
    "    1. Создаем список my_list, где преобразуем str во float, если не выходит просто записываем значение\n",
    "    2. Создаем список num_list, только из числовых значений float\n",
    "    3. Функция all - если все значения в списке = float - значит в списке все числа\n",
    "    3. Функция sorted - сортируем список с числами, все что не число - не учитываем.\n",
    "    4. Функция any - проверяем есть ли в списке положительное число.\n",
    "\n",
    "    \"\"\"\n",
    "\n",
    "    value_string = input(\"Введите список значений через пробел: \")\n",
    "    str_list = list(value_string.split())\n",
    "\n",
    "    my_list=[]\n",
    "    for i in range(len(str_list)):\n",
    "        try:\n",
    "            my_list.append(float(str_list[i]))\n",
    "        except:\n",
    "            my_list.append(str_list[i])\n",
    "\n",
    "    num_list=[]\n",
    "    for i in range(len(my_list)):\n",
    "        try:\n",
    "            num_list.append(float(my_list[i]))\n",
    "        except:\n",
    "            pass\n",
    "\n",
    "    print(\"Введенный список: \", my_list)\n",
    "\n",
    "    if all(isinstance(i, (float)) for i in my_list) == True:\n",
    "        print(\"В списке только числа\")\n",
    "        print(\"Сортировка списка по возрастанию:\", sorted(my_list))\n",
    "    else:\n",
    "        print(\"В списке не только числа\")\n",
    "        print(\"Сортировка только числовых значений:\", sorted(num_list))\n",
    "\n",
    "    if any(i > 0 for i in num_list):\n",
    "        print(\"В списке есть положительное число\")\n",
    "    else:\n",
    "        print(\"В списке нет положительных чисел\")"
   ]
  },
  {
   "cell_type": "code",
   "execution_count": 3,
   "metadata": {
    "colab": {
     "base_uri": "https://localhost:8080/"
    },
    "executionInfo": {
     "elapsed": 12849,
     "status": "ok",
     "timestamp": 1733286427306,
     "user": {
      "displayName": "Эдгар Низаев",
      "userId": "15628445951160379931"
     },
     "user_tz": -240
    },
    "id": "qSOc_GPW6QNl",
    "outputId": "26e550d1-b4ef-4048-86a7-dd310687adc2"
   },
   "outputs": [
    {
     "name": "stdout",
     "output_type": "stream",
     "text": [
      "Введите список значений через пробел: -6 -9 -5 -100 -50\n",
      "Введенный список:  [-6.0, -9.0, -5.0, -100.0, -50.0]\n",
      "В списке только числа\n",
      "Сортировка списка по возрастанию: [-100.0, -50.0, -9.0, -6.0, -5.0]\n",
      "В списке нет положительных чисел\n"
     ]
    }
   ],
   "source": [
    "func_list()"
   ]
  },
  {
   "cell_type": "code",
   "execution_count": 4,
   "metadata": {
    "colab": {
     "base_uri": "https://localhost:8080/"
    },
    "executionInfo": {
     "elapsed": 22880,
     "status": "ok",
     "timestamp": 1733286503141,
     "user": {
      "displayName": "Эдгар Низаев",
      "userId": "15628445951160379931"
     },
     "user_tz": -240
    },
    "id": "5-apyTxZ6QNm",
    "outputId": "eadec0f6-2a6d-465c-c741-477d87b4b45a"
   },
   "outputs": [
    {
     "name": "stdout",
     "output_type": "stream",
     "text": [
      "Введите список значений через пробел: -5 5 150 -9 K M\n",
      "Введенный список:  [-5.0, 5.0, 150.0, -9.0, 'K', 'M']\n",
      "В списке не только числа\n",
      "Сортировка только числовых значений: [-9.0, -5.0, 5.0, 150.0]\n",
      "В списке есть положительное число\n"
     ]
    }
   ],
   "source": [
    "func_list()"
   ]
  },
  {
   "cell_type": "code",
   "execution_count": 6,
   "metadata": {
    "colab": {
     "base_uri": "https://localhost:8080/"
    },
    "executionInfo": {
     "elapsed": 18985,
     "status": "ok",
     "timestamp": 1733286580455,
     "user": {
      "displayName": "Эдгар Низаев",
      "userId": "15628445951160379931"
     },
     "user_tz": -240
    },
    "id": "brQuE7Od6QNm",
    "outputId": "cb332d0b-67ef-47e3-e0a2-3da13b698a7a"
   },
   "outputs": [
    {
     "name": "stdout",
     "output_type": "stream",
     "text": [
      "Введите список значений через пробел: -5 -6 -250 -120 32 -4\n",
      "Введенный список:  [-5.0, -6.0, -250.0, -120.0, 32.0, -4.0]\n",
      "В списке только числа\n",
      "Сортировка списка по возрастанию: [-250.0, -120.0, -6.0, -5.0, -4.0, 32.0]\n",
      "В списке есть положительное число\n"
     ]
    }
   ],
   "source": [
    "func_list()"
   ]
  },
  {
   "cell_type": "markdown",
   "metadata": {
    "id": "VtFK_iFO6QNm"
   },
   "source": [
    "# Задача 2\n",
    "\n",
    "Написать класс CyclicIterator. Итератор должен итерировать по итерируемому объекту (например, по range, list, tuple, set и т. д.), и когда достигнет последнего элемента, начинать сначала. Проверить работу итератора."
   ]
  },
  {
   "cell_type": "code",
   "execution_count": 11,
   "metadata": {
    "colab": {
     "base_uri": "https://localhost:8080/"
    },
    "executionInfo": {
     "elapsed": 549,
     "status": "ok",
     "timestamp": 1733292863780,
     "user": {
      "displayName": "Эдгар Низаев",
      "userId": "15628445951160379931"
     },
     "user_tz": -240
    },
    "id": "VFWZ5kaR6QNm",
    "outputId": "e4e94e0c-427b-4765-fa99-ca89bf6e749e"
   },
   "outputs": [
    {
     "name": "stdout",
     "output_type": "stream",
     "text": [
      "5\n",
      "8\n",
      "10\n",
      "5\n",
      "8\n",
      "10\n",
      "5\n",
      "8\n",
      "10\n",
      "5\n"
     ]
    }
   ],
   "source": [
    "class CyclicIterator:\n",
    "\n",
    "  '''\n",
    "  Класс принимает список и воспроизводит данный список i-тое кол-во раз (цикл)\n",
    "  '''\n",
    "  def __init__(self, obj):\n",
    "      self.obj = iter(obj)\n",
    "      self.prot = obj\n",
    "\n",
    "  def __iter__(self):\n",
    "    return self\n",
    "\n",
    "  def __next__(self):\n",
    "    try:\n",
    "      return next(self.obj)\n",
    "\n",
    "    except StopIteration:\n",
    "      self.obj = iter(self.prot)\n",
    "      return next(self.obj)\n",
    "\n",
    "my_list = [5, 8, 10]\n",
    "x = CyclicIterator(my_list)\n",
    "\n",
    "for i in range(10):\n",
    "  print(next(x))"
   ]
  },
  {
   "cell_type": "code",
   "execution_count": 12,
   "metadata": {
    "colab": {
     "base_uri": "https://localhost:8080/"
    },
    "executionInfo": {
     "elapsed": 329,
     "status": "ok",
     "timestamp": 1733293491670,
     "user": {
      "displayName": "Эдгар Низаев",
      "userId": "15628445951160379931"
     },
     "user_tz": -240
    },
    "id": "Inunnm9G6QNm",
    "outputId": "6e834f18-52fa-4258-bea3-d98b8d1c3457"
   },
   "outputs": [
    {
     "name": "stdout",
     "output_type": "stream",
     "text": [
      "5\n",
      "8\n",
      "10\n",
      "5\n",
      "8\n",
      "10\n",
      "5\n",
      "8\n"
     ]
    }
   ],
   "source": [
    "# Данный код подсмотрел после разбора, тоже понравился, написал для себя\n",
    "\n",
    "class CyclicIterator:\n",
    "\n",
    "  '''\n",
    "  Класс принимает список и воспроизводит данный список i-тое кол-во раз (цикл)\n",
    "  '''\n",
    "\n",
    "  def __init__(self, obj, max_repeat=5):\n",
    "    self.__obj = obj\n",
    "    self.__max_repeat = max_repeat\n",
    "    self.__current_repeat = 1\n",
    "    self.__index = 0\n",
    "\n",
    "  def __iter__(self):\n",
    "    return self\n",
    "\n",
    "  def __next__(self):\n",
    "    if self.__index < len(self.__obj):\n",
    "      item = self.__obj[self.__index]\n",
    "    else:\n",
    "      if self.__current_repeat < self.__max_repeat:\n",
    "        self.__current_repeat = self.__current_repeat + 1\n",
    "        self.__index = 0\n",
    "        item = self.__obj[self.__index]\n",
    "      else:\n",
    "        raise StopIteration()\n",
    "    self.__index = self.__index + 1\n",
    "    return item\n",
    "\n",
    "my_list = [5, 8, 10]\n",
    "x = CyclicIterator(my_list)\n",
    "i = 0\n",
    "while i < len(my_list)+5:\n",
    "  print(next(x))\n",
    "  i +=1"
   ]
  },
  {
   "cell_type": "markdown",
   "metadata": {
    "id": "Hi6SYc6Y6QNm"
   },
   "source": [
    "# Задача 3\n",
    "\n",
    "Задайте функцию-генератор, которая на основе символов строки *chars*:\n",
    "\n",
    "```\n",
    "from string import ascii_lowercase, ascii_uppercase\n",
    "chars = ascii_lowercase + ascii_uppercase + \"0123456789!?@#$*\"\n",
    "\n",
    "```\n",
    "формирует и выдает случайно сгенерированные пароли длиной 12 символов. Количество выдаваемых паролей функцией должно быть неограниченным. Случайный выбор символа из последовательности *chars* можно реализовать с помощью функции *choice* модуля random. Выведите первые пять сгенерированных паролей на экран."
   ]
  },
  {
   "cell_type": "code",
   "execution_count": 36,
   "metadata": {
    "colab": {
     "base_uri": "https://localhost:8080/"
    },
    "executionInfo": {
     "elapsed": 554,
     "status": "ok",
     "timestamp": 1733296802755,
     "user": {
      "displayName": "Эдгар Низаев",
      "userId": "15628445951160379931"
     },
     "user_tz": -240
    },
    "id": "-sVWnT8H6QNm",
    "outputId": "7c7d4504-67ac-4e93-a5f5-c9ea5f630601"
   },
   "outputs": [
    {
     "name": "stdout",
     "output_type": "stream",
     "text": [
      "I$dXcXJjwrot\n",
      "2tZjJx$kxMJQ\n",
      "$A?4H!B4rIs$\n",
      "Qay5!c!HVvu@\n",
      "VZf?pDs$Hus8\n"
     ]
    }
   ],
   "source": [
    "from string import ascii_lowercase, ascii_uppercase\n",
    "import random\n",
    "\n",
    "chars = ascii_lowercase + ascii_uppercase + \"0123456789!?@#$*\"\n",
    "size = 12 # кол-во символов в пароле\n",
    "\n",
    "def passwords():\n",
    "  while True:\n",
    "    yield (''.join(random.choice(chars) for x in range(size)))\n",
    "\n",
    "# распечатаем 5 рандомных паролей\n",
    "for i in range(5):\n",
    "  print(next(passwords()))"
   ]
  },
  {
   "cell_type": "code",
   "execution_count": 33,
   "metadata": {
    "colab": {
     "base_uri": "https://localhost:8080/"
    },
    "executionInfo": {
     "elapsed": 553,
     "status": "ok",
     "timestamp": 1733296395629,
     "user": {
      "displayName": "Эдгар Низаев",
      "userId": "15628445951160379931"
     },
     "user_tz": -240
    },
    "id": "Mkv6cscrePCb",
    "outputId": "ec8e34bf-8508-4084-dd8f-947a1c4f99b3"
   },
   "outputs": [
    {
     "name": "stdout",
     "output_type": "stream",
     "text": [
      "sEpJWMEEXVP3\n",
      "C6wzwbiYT2Wp\n",
      "8Ufv2U0m4lYx\n",
      "vX*MCMNtK!FD\n",
      "2LjiTEP$xznz\n"
     ]
    }
   ],
   "source": [
    "# также после вкс взял себе на заметку такой способ\n",
    "\n",
    "from string import ascii_lowercase, ascii_uppercase\n",
    "import random\n",
    "\n",
    "chars = ascii_lowercase + ascii_uppercase + \"0123456789!?@#$*\"\n",
    "size = 12 # кол-во символов в пароле\n",
    "\n",
    "def passwords() -> str:\n",
    "  return ''.join(map(lambda x:random.choice(chars), range(size)))\n",
    "\n",
    "assert len(passwords()) == 12\n",
    "\n",
    "# распечатаем 5 рандомных паролей\n",
    "for i in range(5):\n",
    "  print(passwords())"
   ]
  },
  {
   "cell_type": "markdown",
   "metadata": {
    "id": "9HfMtn3d6QNn"
   },
   "source": [
    "# Задача 4\n",
    "\n",
    "Создать класс *Movie*. У *Movie* есть название и расписание, по каким дням он идёт в кинотеатрах. Название *Movie* - это текст. Расписание хранится периодами дат.\n",
    "Например, прокат фильма проходит с 1 по 7 января, а потом показ возобновляется с 15 января по 7 февраля:\n",
    "```\n",
    "[\n",
    "(datetime(2024, 11, 1), datetime(2024, 11, 7)),\n",
    "(datetime(2024, 12, 15), datetime(2024, 12, 31))\n",
    "]\n",
    "\n",
    "```\n",
    "Реализуйте у класса Movie метод schedule. Он будет генерировать дни, в которые показывают фильм. Проверить работу генератора."
   ]
  },
  {
   "cell_type": "code",
   "execution_count": 45,
   "metadata": {
    "colab": {
     "base_uri": "https://localhost:8080/"
    },
    "executionInfo": {
     "elapsed": 326,
     "status": "ok",
     "timestamp": 1733301666390,
     "user": {
      "displayName": "Эдгар Низаев",
      "userId": "15628445951160379931"
     },
     "user_tz": -240
    },
    "id": "T5705Vd66QNn",
    "outputId": "0ac57f3d-9a99-4619-ec09-c1b2f349d0ff"
   },
   "outputs": [
    {
     "name": "stdout",
     "output_type": "stream",
     "text": [
      "2024-11-01 00:00:00\n",
      "2024-11-02 00:00:00\n",
      "2024-11-03 00:00:00\n",
      "2024-11-04 00:00:00\n",
      "2024-11-05 00:00:00\n",
      "2024-11-06 00:00:00\n",
      "2024-11-07 00:00:00\n",
      "2024-12-15 00:00:00\n",
      "2024-12-16 00:00:00\n",
      "2024-12-17 00:00:00\n",
      "2024-12-18 00:00:00\n",
      "2024-12-19 00:00:00\n",
      "2024-12-20 00:00:00\n",
      "2024-12-21 00:00:00\n",
      "2024-12-22 00:00:00\n",
      "2024-12-23 00:00:00\n",
      "2024-12-24 00:00:00\n",
      "2024-12-25 00:00:00\n",
      "2024-12-26 00:00:00\n",
      "2024-12-27 00:00:00\n",
      "2024-12-28 00:00:00\n",
      "2024-12-29 00:00:00\n",
      "2024-12-30 00:00:00\n",
      "2024-12-31 00:00:00\n"
     ]
    }
   ],
   "source": [
    "from datetime import datetime, timedelta\n",
    "\n",
    "class Movie:\n",
    "  def __init__(self, title, date_periods):\n",
    "     self.title = title\n",
    "     self.date_periods = date_periods\n",
    "\n",
    "  def schedule(self):\n",
    "\n",
    "    for start_date, end_date in self.date_periods:\n",
    "      current_date = start_date\n",
    "      while current_date <= end_date:\n",
    "        yield current_date\n",
    "        current_date += timedelta(days=1)\n",
    "\n",
    "# Проверка. Пример дат показа фильма\n",
    "date_periods = [\n",
    "    (datetime(2024, 11, 1), datetime(2024, 11, 7)),\n",
    "    (datetime(2024, 12, 15), datetime(2024, 12, 31))\n",
    "]\n",
    "\n",
    "film = Movie(\"Новогодний фильм\", date_periods)\n",
    "\n",
    "for date in film.schedule():\n",
    "  print(date)"
   ]
  },
  {
   "cell_type": "code",
   "execution_count": 51,
   "metadata": {
    "colab": {
     "base_uri": "https://localhost:8080/"
    },
    "executionInfo": {
     "elapsed": 582,
     "status": "ok",
     "timestamp": 1733303084557,
     "user": {
      "displayName": "Эдгар Низаев",
      "userId": "15628445951160379931"
     },
     "user_tz": -240
    },
    "id": "2eSrvtz56QNn",
    "outputId": "e59f5fbb-2fe5-4630-fa0e-bd6fc20ea1dc"
   },
   "outputs": [
    {
     "name": "stdout",
     "output_type": "stream",
     "text": [
      "2024-11-01 00:00:00\n",
      "2024-11-02 00:00:00\n",
      "2024-11-03 00:00:00\n",
      "2024-11-04 00:00:00\n",
      "2024-11-05 00:00:00\n",
      "2024-11-06 00:00:00\n",
      "2024-11-07 00:00:00\n",
      "2024-12-15 00:00:00\n",
      "2024-12-16 00:00:00\n",
      "2024-12-17 00:00:00\n",
      "2024-12-18 00:00:00\n",
      "2024-12-19 00:00:00\n",
      "2024-12-20 00:00:00\n",
      "2024-12-21 00:00:00\n",
      "2024-12-22 00:00:00\n",
      "2024-12-23 00:00:00\n",
      "2024-12-24 00:00:00\n",
      "2024-12-25 00:00:00\n",
      "2024-12-26 00:00:00\n",
      "2024-12-27 00:00:00\n",
      "2024-12-28 00:00:00\n",
      "2024-12-29 00:00:00\n",
      "2024-12-30 00:00:00\n",
      "2024-12-31 00:00:00\n"
     ]
    }
   ],
   "source": [
    "# также после вкс добавил этот метод\n",
    "\n",
    "from datetime import datetime, timedelta\n",
    "from typing import List, Generator\n",
    "\n",
    "class Movie:\n",
    "  def __init__(self, title: str, schedule: List = None):\n",
    "     self._title = title\n",
    "     self._movie_schedule = schedule\n",
    "\n",
    "  @property\n",
    "  def title(self):\n",
    "    return self._title\n",
    "\n",
    "  def schedule(self) -> Generator:\n",
    "    '''\n",
    "    Создаем генератор для дней показа фильма\n",
    "    '''\n",
    "\n",
    "    for start, finish in self._movie_schedule:\n",
    "      yield from (\n",
    "          start + timedelta(days=i) for i in range((finish - start).days + 1)\n",
    "      )\n",
    "\n",
    "# Проверка. Пример дат показа фильма\n",
    "date_periods = [\n",
    "    (datetime(2024, 11, 1), datetime(2024, 11, 7)),\n",
    "    (datetime(2024, 12, 15), datetime(2024, 12, 31))\n",
    "]\n",
    "\n",
    "film = Movie(\"Новогодний фильм\", schedule=date_periods)\n",
    "\n",
    "print(*film.schedule(), sep=\"\\n\")"
   ]
  },
  {
   "cell_type": "code",
   "execution_count": null,
   "metadata": {
    "colab": {
     "base_uri": "https://localhost:8080/"
    },
    "executionInfo": {
     "elapsed": 330,
     "status": "ok",
     "timestamp": 1733304139619,
     "user": {
      "displayName": "Эдгар Низаев",
      "userId": "15628445951160379931"
     },
     "user_tz": -240
    },
    "id": "HwHWKuSG6kRA",
    "outputId": "32ce554b-139d-4693-8bfd-cf15b37083a2"
   },
   "outputs": [
    {
     "name": "stdout",
     "output_type": "stream",
     "text": [
      "Movie(title='Новогодний фильм', schedule=[(datetime.datetime(2024, 11, 1, 0, 0), datetime.datetime(2024, 11, 7, 0, 0)), (datetime.datetime(2024, 12, 15, 0, 0), datetime.datetime(2024, 12, 31, 0, 0))])\n",
      "2024-11-01 00:00:00\n",
      "2024-11-02 00:00:00\n",
      "2024-11-03 00:00:00\n",
      "2024-11-04 00:00:00\n",
      "2024-11-05 00:00:00\n",
      "2024-11-06 00:00:00\n",
      "2024-11-07 00:00:00\n",
      "2024-12-15 00:00:00\n",
      "2024-12-16 00:00:00\n",
      "2024-12-17 00:00:00\n",
      "2024-12-18 00:00:00\n",
      "2024-12-19 00:00:00\n",
      "2024-12-20 00:00:00\n",
      "2024-12-21 00:00:00\n",
      "2024-12-22 00:00:00\n",
      "2024-12-23 00:00:00\n",
      "2024-12-24 00:00:00\n",
      "2024-12-25 00:00:00\n",
      "2024-12-26 00:00:00\n",
      "2024-12-27 00:00:00\n",
      "2024-12-28 00:00:00\n",
      "2024-12-29 00:00:00\n",
      "2024-12-30 00:00:00\n",
      "2024-12-31 00:00:00\n"
     ]
    }
   ],
   "source": [
    "# и этот метод\n",
    "\n",
    "from datetime import datetime, timedelta\n",
    "\n",
    "class Movie:\n",
    "  def __init__(self, title, schedule):\n",
    "     self._title = title\n",
    "     self._schedule = schedule_time\n",
    "     self._schedule_generator = self.schedule_generator(self.schedule)\n",
    "\n",
    "  def __repr__(self):\n",
    "    return f\"{self.__class__.__name__}(title='{self._title}', schedule={self._schedule})\"\n",
    "\n",
    "  def __iter__(self):\n",
    "    return self\n",
    "\n",
    "  def __next__(self):\n",
    "    return next(self._schedule_generator)\n",
    "\n",
    "  def schedule(self):\n",
    "    schedule = self.schedule_generator(self._schedule)\n",
    "    while True:\n",
    "      try:\n",
    "        print(next(schedule))\n",
    "\n",
    "      except StopIteration:\n",
    "        break\n",
    "\n",
    "  @staticmethod\n",
    "  def schedule_generator(schedule_time):\n",
    "    for time in schedule_time:\n",
    "      start, end = time\n",
    "      current_date = start\n",
    "      while current_date <= end:\n",
    "        yield current_date\n",
    "        current_date += timedelta(days=1)\n",
    "\n",
    "# Проверка. Пример дат показа фильма\n",
    "schedule_time = [\n",
    "    (datetime(2024, 11, 1), datetime(2024, 11, 7)),\n",
    "    (datetime(2024, 12, 15), datetime(2024, 12, 31))\n",
    "]\n",
    "\n",
    "film = Movie(\"Новогодний фильм\", schedule_time)\n",
    "print(film)\n",
    "film.schedule()"
   ]
  }
 ],
 "metadata": {
  "colab": {
   "provenance": []
  },
  "kernelspec": {
   "display_name": "Python 3",
   "language": "python",
   "name": "python3"
  },
  "language_info": {
   "codemirror_mode": {
    "name": "ipython",
    "version": 3
   },
   "file_extension": ".py",
   "mimetype": "text/x-python",
   "name": "python",
   "nbconvert_exporter": "python",
   "pygments_lexer": "ipython3",
   "version": "3.13.0"
  }
 },
 "nbformat": 4,
 "nbformat_minor": 0
}
