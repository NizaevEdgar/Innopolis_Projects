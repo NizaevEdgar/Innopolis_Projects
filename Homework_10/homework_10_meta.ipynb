{
 "cells": [
  {
   "cell_type": "markdown",
   "metadata": {},
   "source": [
    "# Задача 1 Применение метаклассов\n",
    "\n",
    "Метаклассы позволяют настраивать создание классов в Python. Определив метакласс для класса, вы можете контролировать создание экземпляров класса, его атрибуты и поведение.\n",
    "\n",
    "Напишите метакласс Python *AttrLoggingMeta*, который регистрирует каждый доступ к атрибуту или его изменение. В метаклассе должен быть переопределен метод `__new__`. В *AttrLoggingMeta* добавить методы по логированию доступа *log_access(name, value)*, чтению *log_read(name, value, instance)* и записи *log_write(name, value, instance)* атрибута класса.\n",
    "\n",
    "Определите класс *LoggedClass*, используя *AttrLoggingMeta* в качестве его метакласса. Проверьте правильность реализации методов.\n"
   ]
  },
  {
   "cell_type": "code",
   "execution_count": 49,
   "metadata": {},
   "outputs": [
    {
     "name": "stdout",
     "output_type": "stream",
     "text": [
      "Reading attribute custom_method\n",
      "42\n",
      "Writing attribute custom_method with value 78\n",
      "Calling method other_custom_method\n"
     ]
    }
   ],
   "source": [
    "class AttrLoggingMeta(type):\n",
    "    \n",
    "    # Переопределение метода __new__ для регистрации доступа к атрибутам.\n",
    "    def __new__(cls, name, bases, cls_dct):\n",
    "        \n",
    "        # Перебираем атрибуты класса\n",
    "        for key, value in cls_dct.items():\n",
    "            if not key.startswith('__'):\n",
    "                cls_dct[key] = cls.log_access(key, value)   \n",
    "        return super().__new__(cls, name, bases, cls_dct)\n",
    "    \n",
    "    @staticmethod\n",
    "    def log_access(name, value):\n",
    "        \n",
    "        # Если атрибут является методом, обернем его для регистрации вызовов метода\n",
    "        if callable(value):\n",
    "            def wrapper(*args, **kwargs):\n",
    "                print(f\"Calling method {name}\")\n",
    "                return value(*args, **kwargs)\n",
    "            return wrapper\n",
    "        \n",
    "        else:\n",
    "            \n",
    "            # Если атрибут является свойством в классе, инициируем операции чтения и записи.\n",
    "            property_name = f\"_{name}\"\n",
    "            def property_get(self):\n",
    "                AttrLoggingMeta.log_read(name, value, self)\n",
    "                return getattr(self, property_name, value)\n",
    "\n",
    "            def property_set(self, diff_value):\n",
    "                AttrLoggingMeta.log_write(name, diff_value, self)\n",
    "                setattr(self, property_name, diff_value)\n",
    "\n",
    "            return property(property_get, property_set)\n",
    "    \n",
    "    @staticmethod\n",
    "    def log_read(name, value, instance):\n",
    "        print(f\"Reading attribute {name}\")\n",
    "        return value\n",
    "    \n",
    "    @staticmethod\n",
    "    def log_write(name, value, instance):\n",
    "        print(f\"Writing attribute {name} with value {value}\")\n",
    "        instance.__dict__[name] = value # Обновили словарь экземпляра новым значением\n",
    "\n",
    "# Определяем класс LoggedClass, используя AttrLoggingMeta в качестве его метакласса\n",
    "class LoggedClass(metaclass=AttrLoggingMeta):\n",
    "    \n",
    "    custom_method = 42 # Определяем атрибут класса\n",
    "    \n",
    "    # Определяем метод класса other_custom_method\n",
    "    def other_custom_method(self): \n",
    "        pass\n",
    "\n",
    "\n",
    "instance = LoggedClass() # Создаем экземпляр LoggedClass\n",
    "print(instance.custom_method) # Получаем доступ и выводим значение атрибута custom_method\n",
    "instance.custom_method = 78 # Запись атрибута custom_method со значением 78\n",
    "instance.other_custom_method() # Вызываем метод other_custom_method"
   ]
  },
  {
   "cell_type": "markdown",
   "metadata": {},
   "source": [
    "# Задача 2 Динамическое создание класса\n",
    "\n",
    "Динамическая природа Python позволяет изменять классы и объекты во время выполнения программы. Вы можете добавлять, удалять или изменять атрибуты и методы классов и объектов динамически с помощью встроенных функций, таких как `'setattr', 'getattr' и 'delattr'`.\n",
    "\n",
    "Напишите функцию Python *create_class_with_methods*, которая принимает имя класса, словарь атрибутов и словарь методов и возвращает динамически созданный класс с этими атрибутами и методами. Для создания класса использовать метод *type*."
   ]
  },
  {
   "cell_type": "code",
   "execution_count": 51,
   "metadata": {},
   "outputs": [
    {
     "name": "stdout",
     "output_type": "stream",
     "text": [
      "Hello, I am a Human and I am 25 years old.\n"
     ]
    }
   ],
   "source": [
    "# Функция для динамического создания класса с указанными атрибутами и методами\n",
    "\n",
    "def create_class_with_methods(name, dict_attrs, dict_methods):\n",
    "    # Объединяем атрибуты и методы в один словарь\n",
    "    dict_attrs.update(dict_methods)\n",
    "    return type(name, (object,), dict_attrs)\n",
    "\n",
    "# Определим атрибуты для динамического класса\n",
    "attributes = {\n",
    "    'species': 'Human',\n",
    "    'age': 25\n",
    "}\n",
    "\n",
    "# Определим методы для динамического класса\n",
    "methods = {\n",
    "    'greet': lambda self: f\"Hello, I am a {self.species} and I am {self.age} years old.\"\n",
    "}\n",
    "\n",
    "# Создаем динамический класс, используя определенные атрибуты и методы\n",
    "DynamicClass = create_class_with_methods('DynamicClass', attributes, methods)\n",
    "\n",
    "# Test DynamicClass\n",
    "\n",
    "instance = DynamicClass()\n",
    "print(instance.greet())"
   ]
  },
  {
   "cell_type": "markdown",
   "metadata": {},
   "source": [
    "# Задача 3 Генерация кода\n",
    "\n",
    "Функции Python `«exec» и «eval»` позволяют выполнять динамически сгенерированный код во время выполнения. Эту функцию можно использовать для создания шаблонов кода, анализа\n",
    "предметно-ориентированных языков (DSL) или реализации инструментов для генерации кода.\n",
    "\n",
    "Напишите функцию Python *generate_complex_function*, которая принимает имя функции, список имён параметров и тело функции в виде строк и возвращает динамически сгенерированную функцию."
   ]
  },
  {
   "cell_type": "code",
   "execution_count": 54,
   "metadata": {},
   "outputs": [
    {
     "name": "stdout",
     "output_type": "stream",
     "text": [
      "5\n",
      "5\n"
     ]
    }
   ],
   "source": [
    "# Функция для динамической генерации сложной функции\n",
    "\n",
    "def generate_complex_function(name, params, body):\n",
    "    \n",
    "    params_str = ', '.join(params) # Параметры через запятую\n",
    "    \n",
    "    indented_body = body.replace('\\n', '\\n    ') # Отступы в теле\n",
    "    \n",
    "    func_code = f\"def {name}({params_str}):\\n    {indented_body}\"  # Создаем строку кода функции\n",
    "    \n",
    "    exec(func_code) # Выполняет сгенерированный код функции.\n",
    "    \n",
    "    return locals()[name] # Сгенерированная функция извлекается из locals().\n",
    "\n",
    "\n",
    "# Определим параметры и тело функции\n",
    "function_name = 'complex_function'\n",
    "parameters = ['x', 'y']\n",
    "function_body = \"\"\"\n",
    "if x > y:\n",
    "    return x - y\n",
    "else:\n",
    "    return y - x\n",
    "\"\"\"\n",
    "\n",
    "complex_func = generate_complex_function(function_name, parameters, function_body)\n",
    "\n",
    "# Проверка\n",
    "print(complex_func(10, 5))\n",
    "print(complex_func(5, 10))"
   ]
  }
 ],
 "metadata": {
  "kernelspec": {
   "display_name": "Python 3",
   "language": "python",
   "name": "python3"
  },
  "language_info": {
   "codemirror_mode": {
    "name": "ipython",
    "version": 3
   },
   "file_extension": ".py",
   "mimetype": "text/x-python",
   "name": "python",
   "nbconvert_exporter": "python",
   "pygments_lexer": "ipython3",
   "version": "3.12.8"
  }
 },
 "nbformat": 4,
 "nbformat_minor": 2
}
