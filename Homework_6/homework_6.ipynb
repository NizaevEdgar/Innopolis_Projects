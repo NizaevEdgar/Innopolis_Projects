{
 "cells": [
  {
   "cell_type": "markdown",
   "metadata": {
    "id": "6lPUWXDJBoJF"
   },
   "source": [
    "# Задача 1. Фильтрация данных\n",
    "\n",
    "Объявите функцию, которая принимает строку (в качестве аргумента) и возвращает False, если длина строки меньше трех символов. Иначе возвращается значение True.\n",
    "\n",
    "После объявления функции прочитайте (с помощью функции input) список названий городов, записанных в одну строку через пробел.\n",
    "\n",
    "Затем, используя генератор списка и созданную функцию, сформируйте список из названий городов длиной не менее трех символов на основе введенного исходного списка.\n",
    "\n",
    "Результат отобразите на экране."
   ]
  },
  {
   "cell_type": "code",
   "execution_count": null,
   "metadata": {
    "id": "aoraNDNhBoJH",
    "outputId": "d27d4315-ed29-4ddb-b230-809b8e66e2de"
   },
   "outputs": [
    {
     "name": "stdout",
     "output_type": "stream",
     "text": [
      "Введенный список:  ['Иж', 'Ижевск', 'Москва', 'Уфа', 'Яр', '5']\n",
      "Отфильтрованный список городов: ['Ижевск', 'Москва', 'Уфа']\n"
     ]
    }
   ],
   "source": [
    "# создадим функцию, которая принимает строки любой длины\n",
    "# и фильтрует их по условию не менее 3х символов\n",
    "\n",
    "def city(str, length):\n",
    "    if len(str) >= length:\n",
    "        return True\n",
    "    else:\n",
    "        return False\n",
    "\n",
    "city_list = input(\"Введите названия городов: \").split()\n",
    "print(\"Введенный список: \", city_list)\n",
    "\n",
    "# классическая реализация\n",
    "filt_list_city=[]\n",
    "for word in city_list:\n",
    "    if city(word, 3) == True:\n",
    "        filt_list_city.append(word)\n",
    "\n",
    "print(f\"Отфильтрованный список городов: {filt_list_city}\")"
   ]
  },
  {
   "cell_type": "code",
   "execution_count": null,
   "metadata": {
    "id": "5YKyOGGCBoJI",
    "outputId": "70378eb0-6561-43c8-a888-49251405164d"
   },
   "outputs": [
    {
     "name": "stdout",
     "output_type": "stream",
     "text": [
      "Введенный список:  ['Иж', 'Ижевск', 'Москва', 'Уфа', 'Яр', '5']\n",
      "Отфильтрованный список городов: ['Ижевск', 'Москва', 'Уфа']\n"
     ]
    }
   ],
   "source": [
    "# создадим функцию, которая принимает строки любой длины\n",
    "# и фильтрует их по условию не менее 3х символов\n",
    "\n",
    "def city(str, length):\n",
    "    if len(str) >= length:\n",
    "        return True\n",
    "    else:\n",
    "        return False\n",
    "\n",
    "city_list = input(\"Введите названия городов: \").split()\n",
    "print(\"Введенный список: \", city_list)\n",
    "\n",
    "# реализация с помощью генератора списков\n",
    "filt_list_city = [word for word in city_list if city(word, 3)]\n",
    "\n",
    "print(f\"Отфильтрованный список городов: {filt_list_city}\")"
   ]
  },
  {
   "cell_type": "code",
   "execution_count": null,
   "metadata": {
    "id": "IKJTH7bpBoJI",
    "outputId": "432e512f-274b-4d26-fd53-a3babe96147d"
   },
   "outputs": [
    {
     "name": "stdout",
     "output_type": "stream",
     "text": [
      "['Ижевск', 'Москва', 'Уфа']\n"
     ]
    }
   ],
   "source": [
    "# однострочный вариант через лямбда функцию\n",
    "print(list(filter(lambda x: len(x) >= 3, input().split())))"
   ]
  },
  {
   "cell_type": "markdown",
   "metadata": {
    "id": "NfKKLGUxBoJI"
   },
   "source": [
    "# Задача 2. Вложенные функции\n",
    "\n",
    "Напишите программу, которая выполняет следующие действия:\n",
    "\n",
    "1. Определите функцию get_list, которая принимает строку из целых чисел,\n",
    "разделенных пробелами, и возвращает список из этих чисел.\n",
    "\n",
    "2. Создайте функцию sort_func, которая:\n",
    "\n",
    "      a. Принимает функцию как аргумент\n",
    "\n",
    "      b. Вызывает переданную функцию\n",
    "\n",
    "      c. Сортирует результат работы функции по возрастанию\n",
    "\n",
    "      d. Возвращает отсортированный результат\n",
    "\n",
    "3. Используйте вызов функций get_list и sort_decorator, чтобы вывести\n",
    "результат на экран."
   ]
  },
  {
   "cell_type": "code",
   "execution_count": null,
   "metadata": {
    "id": "-53Ohw5fBoJI",
    "outputId": "8f64e499-caa1-4ef4-e425-0848f6e1e469"
   },
   "outputs": [
    {
     "name": "stdout",
     "output_type": "stream",
     "text": [
      "Введенный список значений: 56 4 2 6 5 230 125\n",
      "Отсортированный список значений [2, 4, 5, 6, 56, 125, 230]\n"
     ]
    }
   ],
   "source": [
    "def sort_func(func):\n",
    "    def lst_sort(s):\n",
    "        return sorted(func(s))\n",
    "    return lst_sort\n",
    "\n",
    "@sort_func\n",
    "def get_list(s):\n",
    "    return [int(i) for i in s.split()]\n",
    "\n",
    "if __name__ == '__main__':\n",
    "    a = input('Введите числа через пробел: ')\n",
    "    print(f\"Введенный список значений: {a}\")\n",
    "    print(f\"Отсортированный список значений {get_list(a)}\")\n"
   ]
  },
  {
   "cell_type": "markdown",
   "metadata": {
    "id": "u0s7jEhWBoJI"
   },
   "source": [
    "# Задача 3. Перестановки строк\n",
    "\n",
    "Решить следующее задание с применением библиотеки itertools. Написать функцию, принимающую строку s и число n и возвращающую всевозможные перестановки из n символов в s строке в лексикографическом порядке (использовать itertools.permutations)"
   ]
  },
  {
   "cell_type": "code",
   "execution_count": null,
   "metadata": {
    "id": "w5IkGvLuBoJJ",
    "outputId": "e0ccbe19-c674-4b90-8e8e-1174f151d98c"
   },
   "outputs": [
    {
     "name": "stdout",
     "output_type": "stream",
     "text": [
      "AB\n",
      "AC\n",
      "BA\n",
      "BC\n",
      "CA\n",
      "CB\n",
      "ABC\n",
      "ACB\n",
      "BAC\n",
      "BCA\n",
      "CAB\n",
      "CBA\n"
     ]
    }
   ],
   "source": [
    "from itertools import permutations\n",
    "\n",
    "def lex_permut(s, n):\n",
    "    perm = sorted(''.join(chars) for chars in permutations(s, n))\n",
    "    for x in perm:\n",
    "        print(x)\n",
    "\n",
    "s ='ABC'\n",
    "lex_permut(s, 2)\n",
    "lex_permut(s, 3)"
   ]
  },
  {
   "cell_type": "markdown",
   "metadata": {
    "id": "Z3p8UpT3BoJJ"
   },
   "source": [
    "# Задача 4. Комбинации символов\n",
    "Решить следующее задание с применением библиотеки itertools.\n",
    "\n",
    "Реализовать функцию get_combinations. Должна принимать строку s и число k и возвращать все возможные комбинации из символов в строке s с длинами <= k (использовать itertools.combinations)"
   ]
  },
  {
   "cell_type": "code",
   "execution_count": null,
   "metadata": {
    "id": "teYG1Uc-BoJJ",
    "outputId": "9cff76b2-d0cd-4e0d-f862-0562d7b127d4"
   },
   "outputs": [
    {
     "name": "stdout",
     "output_type": "stream",
     "text": [
      "A-B\n",
      "A-C\n",
      "B-C\n",
      "A-B-C\n",
      "Длина строки s должна быть больше или равна значению k\n",
      "Юля-Даша\n",
      "Юля-Дима\n",
      "Юля-Игорь\n",
      "Даша-Дима\n",
      "Даша-Игорь\n",
      "Дима-Игорь\n"
     ]
    }
   ],
   "source": [
    "from itertools import combinations\n",
    "\n",
    "def get_combinations(s, k):\n",
    "    if len(s) >= k:\n",
    "        comb = ('-'.join(chars) for chars in combinations(s, k))\n",
    "        for x in comb:\n",
    "            print(x)\n",
    "    else:\n",
    "        print(\"Длина строки s должна быть больше или равна значению k\")\n",
    "\n",
    "s ='ABC'\n",
    "lst=['Юля', 'Даша', 'Дима', 'Игорь']\n",
    "get_combinations(s, 2)\n",
    "get_combinations(s, 3)\n",
    "get_combinations(s, 4)\n",
    "get_combinations(lst, 2)"
   ]
  },
  {
   "cell_type": "markdown",
   "metadata": {
    "id": "QIIo2xp0BoJJ"
   },
   "source": [
    "# Задача 5. Функция с частичными аргументами\n",
    "\n",
    "Решить следующее задание с применением библиотеки functools.\n",
    "\n",
    "Напишите функцию _sort_users_by_age, которая принимает список пользователей (словарей) и порядок сортировки (возрастание или убывание). Используя partial, создайте две новые функции: одну для сортировки по возрастанию возраста и другую — по убыванию."
   ]
  },
  {
   "cell_type": "code",
   "execution_count": null,
   "metadata": {
    "id": "nhpfwnBjBoJJ"
   },
   "outputs": [
    {
     "name": "stdout",
     "output_type": "stream",
     "text": [
      "Сортировка по возрастанию возраста:\n",
      "[{'user_name': 'Маша', 'age': 17}, {'user_name': 'Игорь', 'age': 18}, {'user_name': 'Михаил', 'age': 25}, {'user_name': 'Даша', 'age': 35}, {'user_name': 'Костя', 'age': 44}]\n",
      "Сортировка по убыванию возраста:\n",
      "[{'user_name': 'Костя', 'age': 44}, {'user_name': 'Даша', 'age': 35}, {'user_name': 'Михаил', 'age': 25}, {'user_name': 'Игорь', 'age': 18}, {'user_name': 'Маша', 'age': 17}]\n"
     ]
    }
   ],
   "source": [
    "from functools import partial\n",
    "\n",
    "my_list = [\n",
    "    {'user_name':'Михаил', 'age': 25},\n",
    "    {'user_name':'Маша', 'age': 17},\n",
    "    {'user_name':'Игорь', 'age': 18},\n",
    "    {'user_name':'Даша', 'age': 35},\n",
    "    {'user_name':'Костя', 'age': 44}\n",
    "    ]\n",
    "\n",
    "def sort_users_by_age(my_list, sort_order):\n",
    "    if sort_order == 'ascending': # по возрастанию\n",
    "        return sorted(my_list, key=lambda x: x[\"age\"], reverse=False)\n",
    "    elif sort_order == 'descending': # по убыванию\n",
    "        return sorted(my_list, key=lambda x: x[\"age\"], reverse=True)\n",
    "    \n",
    "# Функция для порядка сортировки по возрастанию\n",
    "sort_order_ascending = partial(sort_users_by_age, sort_order='ascending')\n",
    "# Функция для порядка сортировки по убыванию\n",
    "sort_order_descending = partial(sort_users_by_age, sort_order='descending')\n",
    "\n",
    "print(\"Сортировка по возрастанию возраста:\", sort_order_ascending(my_list), sep='\\n')\n",
    "print(\"Сортировка по убыванию возраста:\", sort_order_descending(my_list), sep='\\n')"
   ]
  }
 ],
 "metadata": {
  "colab": {
   "provenance": []
  },
  "kernelspec": {
   "display_name": "Python 3",
   "language": "python",
   "name": "python3"
  },
  "language_info": {
   "codemirror_mode": {
    "name": "ipython",
    "version": 3
   },
   "file_extension": ".py",
   "mimetype": "text/x-python",
   "name": "python",
   "nbconvert_exporter": "python",
   "pygments_lexer": "ipython3",
   "version": "3.13.0"
  }
 },
 "nbformat": 4,
 "nbformat_minor": 0
}
